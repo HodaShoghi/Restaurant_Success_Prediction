{
 "cells": [
  {
   "cell_type": "markdown",
   "id": "68c82451",
   "metadata": {},
   "source": [
    "**Name: Hoda Shoghi**\n",
    "\n",
    "**Contact: hoda.shoghi@gmail.com**\n",
    "\n",
    "**Date: 05 Sep 2023**\n",
    "\n",
    "## Table of Contents\n",
    "\n",
    "1. [**Introduction**](#Introduction)\n",
    "    * [Dataset Overview](#Dataset-Overview)\n",
    "    * [Goal](#Goal)\n",
    "2. [**Basic Data Wrangling**](#Basic-Data-Wrangling)\n",
    "    * [Dataset Shape](#Dataset-Shape)\n",
    "    * [Data Types & Distribution](#Data-Types-&-Distribution)\n",
    "    * [Duplicates & Redundancy](#Duplicates-&-Redundancy)\n",
    "    * [Null Value Handling](#Null-Value-Handling)\n",
    "    * [Feature Removal](#Feature-Removal)\n",
    "        * [\"is_open\" Column](#is_open-Column)\n",
    "        * [\"state\" Column](#state-Column)\n",
    "    * [Target Variable Analysis](#Target-Variable-Analysis)\n",
    "        * [Descriptive Statistics for \"stars\"](#Descriptive-Statistics-for-stars)\n",
    "        * [Transforming the \"stars\" column into a binary variable](#Transforming-stars)\n",
    "    * [Missing Values in \"categories\" and \"attributes\"](#Missing-Values)\n",
    "    * [\"categories\" Column Processing](#categories-Column-Processing)\n",
    "        * [Standardization](#Standardization)\n",
    "        * [Filtering for restaurants](#Filtering-for-restaurants)\n",
    "        * [Category Flattening](#Category-Flattening)\n",
    "        * [One-Hot Encoding](#One-Hot-Encoding)\n",
    "        * [Handling Low-Count Categories](#Handling-Low-Count-Categories)\n",
    "    * [Correlation Analysis](#Correlation-Analysis)\n",
    "        * [Identifying Highly Correlated Variable Pairs](#Identifying-Highly-Correlated)\n",
    "        * [Handling Highly Correlated Variables](#Handling-Highly-Correlated-Variables)\n",
    "4. [**Attribute Column Analysis**](#Attribute-Column-Analysis)\n",
    "\n",
    "5. [Checking for Duplicate Information](#Duplicate-Information)\n",
    "    . [Finding Redundant Columns](#Finding-Redundant-Columns)\n",
    "6. [Data Conversion](#Converting-binary-columns-to-uint8)\n",
    "\n",
    "7. [Correlation Analysis](#Correlation-Analysis)\n",
    "8. [Saving cleaned data to csv](#Saving-the-cleaned-data)\n",
    "\n",
    " \n",
    "\n",
    "\n",
    "# Introduction\n",
    "\n",
    "### Project Title: \n",
    "\n",
    "# Predicting Restaurant Ratings: A Data-Driven Approach\n",
    "\n",
    "\n",
    "# Dataset-Overview\n",
    "The Yelp dataset offers a wealth of information about businesses across several cities. This project focuses specifically on restaurant businesses. The dataset includes attributes such as business ID, name, location, review count, categories, and star ratings.\n",
    "\n",
    "| COLUMN NAME  | DESCRIPTION                                                    | DATA TYPE |\n",
    "|--------------|----------------------------------------------------------------|-----------|\n",
    "| business_id  | Unique identifier for the business                             | string    |\n",
    "| name         | Name of the business                                           | string    |\n",
    "| address      | Address where the business is located                          | string    |\n",
    "| city         | City where the business is located                             | string    |\n",
    "| state        | State where the business is located                            | string    |\n",
    "| postal_code  | postal_code where the business is located                      | string    |\n",
    "| latitude     | Geographical latitude of the business                          | float64   |\n",
    "| longitude    | Geographical longitude of the business                         | float64   |\n",
    "| stars        | Star rating of the business                                    | float64   |\n",
    "| review_count |  Number of reviews the business has received                   | int64     |\n",
    "| is_open      | 0 is closed and 1 is open                                      | int64     |\n",
    "| attributes   | Dict-different attribute like payment method,  , etc | string  |\n",
    "| categories   | Categories the business falls under                            | string    |\n",
    "| hours        | Dict-Hours of operation                                        | string    |\n",
    "\n",
    "\n",
    "#### Data Notes :\n",
    "1- Yelp's dataset covers various types of businesses. For this project, I focus on businesses categorized as \"Restaurants\".\n",
    "\n",
    "2- The `categories` column can contain multiple categories for a single business. For example, a restaurant can be categorized as both 'Italian' and 'Pizza'.\n",
    "\n",
    "3- Yelp users rate businesses on a scale of 1 to 5 stars. This serves as our target variable, which we aim to predict with our model.\n",
    "\n",
    "4- `attribute` Column contains dictionary of different attributes and their values\n",
    "\n",
    "5- There are some nested dictionaries inside `attributes` Column like `Ambience` or `Business Parking`\n",
    "\n",
    "# Goal\n",
    "\n",
    "My goal is to build a predictive model that can accurately predict a restaurant's star rating by leveraging the vast amount of information in the dataset. This model can provide prospective Steakholders with insights into how certain factors might influence their new establishment's ratings.\n",
    "\n",
    "\n",
    "\n",
    "# Basic Data Wrangling\n",
    "What is the shape of the dataframe?\n",
    "\n",
    "What kind of data is stored in each column? How are they distributed?\n",
    "\n",
    "Are there any columns that contain duplicate information? If so, remove the redundant columns.\n",
    "\n",
    "Are there any null values in the dataframe? If so, handle them appropriately.\n"
   ]
  },
  {
   "cell_type": "markdown",
   "id": "fbb1d8c7",
   "metadata": {},
   "source": [
    "# Dataset-Shape"
   ]
  },
  {
   "cell_type": "markdown",
   "id": "55e02d21",
   "metadata": {},
   "source": [
    "First lets open the **jason** datasaet which is downloaded from Yelp website"
   ]
  },
  {
   "cell_type": "code",
   "execution_count": 10,
   "id": "0b7fcf4a",
   "metadata": {
    "scrolled": true
   },
   "outputs": [],
   "source": [
    "import pandas as pd\n",
    "import numpy as np\n",
    "import matplotlib.pyplot as plt\n",
    "df_b = pd.read_json('data/yelp_business.json', lines=True)\n"
   ]
  },
  {
   "cell_type": "markdown",
   "id": "12cbf576",
   "metadata": {},
   "source": [
    "What's the shape opf data frame?"
   ]
  },
  {
   "cell_type": "code",
   "execution_count": 11,
   "id": "ce1b4c6d",
   "metadata": {},
   "outputs": [
    {
     "data": {
      "text/plain": [
       "(150346, 14)"
      ]
     },
     "execution_count": 11,
     "metadata": {},
     "output_type": "execute_result"
    }
   ],
   "source": [
    "df_b.shape"
   ]
  },
  {
   "cell_type": "markdown",
   "id": "0e1f853a",
   "metadata": {},
   "source": [
    "# Data-Types-&-Distribution"
   ]
  },
  {
   "cell_type": "markdown",
   "id": "1f134489",
   "metadata": {},
   "source": [
    "What kind of data is stored in each column?"
   ]
  },
  {
   "cell_type": "code",
   "execution_count": 12,
   "id": "6df14a14",
   "metadata": {},
   "outputs": [
    {
     "name": "stdout",
     "output_type": "stream",
     "text": [
      "<class 'pandas.core.frame.DataFrame'>\n",
      "RangeIndex: 150346 entries, 0 to 150345\n",
      "Data columns (total 14 columns):\n",
      " #   Column        Non-Null Count   Dtype  \n",
      "---  ------        --------------   -----  \n",
      " 0   business_id   150346 non-null  object \n",
      " 1   name          150346 non-null  object \n",
      " 2   address       150346 non-null  object \n",
      " 3   city          150346 non-null  object \n",
      " 4   state         150346 non-null  object \n",
      " 5   postal_code   150346 non-null  object \n",
      " 6   latitude      150346 non-null  float64\n",
      " 7   longitude     150346 non-null  float64\n",
      " 8   stars         150346 non-null  float64\n",
      " 9   review_count  150346 non-null  int64  \n",
      " 10  is_open       150346 non-null  int64  \n",
      " 11  attributes    136602 non-null  object \n",
      " 12  categories    150243 non-null  object \n",
      " 13  hours         127123 non-null  object \n",
      "dtypes: float64(3), int64(2), object(9)\n",
      "memory usage: 16.1+ MB\n"
     ]
    }
   ],
   "source": [
    "df_b.info()"
   ]
  },
  {
   "cell_type": "markdown",
   "id": "018c7997",
   "metadata": {},
   "source": [
    "Lets have a look at the head of the datafram:"
   ]
  },
  {
   "cell_type": "code",
   "execution_count": 13,
   "id": "9b26a018",
   "metadata": {
    "scrolled": false
   },
   "outputs": [
    {
     "data": {
      "text/html": [
       "<div>\n",
       "<style scoped>\n",
       "    .dataframe tbody tr th:only-of-type {\n",
       "        vertical-align: middle;\n",
       "    }\n",
       "\n",
       "    .dataframe tbody tr th {\n",
       "        vertical-align: top;\n",
       "    }\n",
       "\n",
       "    .dataframe thead th {\n",
       "        text-align: right;\n",
       "    }\n",
       "</style>\n",
       "<table border=\"1\" class=\"dataframe\">\n",
       "  <thead>\n",
       "    <tr style=\"text-align: right;\">\n",
       "      <th></th>\n",
       "      <th>business_id</th>\n",
       "      <th>name</th>\n",
       "      <th>address</th>\n",
       "      <th>city</th>\n",
       "      <th>state</th>\n",
       "      <th>postal_code</th>\n",
       "      <th>latitude</th>\n",
       "      <th>longitude</th>\n",
       "      <th>stars</th>\n",
       "      <th>review_count</th>\n",
       "      <th>is_open</th>\n",
       "      <th>attributes</th>\n",
       "      <th>categories</th>\n",
       "      <th>hours</th>\n",
       "    </tr>\n",
       "  </thead>\n",
       "  <tbody>\n",
       "    <tr>\n",
       "      <th>0</th>\n",
       "      <td>Pns2l4eNsfO8kk83dixA6A</td>\n",
       "      <td>Abby Rappoport, LAC, CMQ</td>\n",
       "      <td>1616 Chapala St, Ste 2</td>\n",
       "      <td>Santa Barbara</td>\n",
       "      <td>CA</td>\n",
       "      <td>93101</td>\n",
       "      <td>34.426679</td>\n",
       "      <td>-119.711197</td>\n",
       "      <td>5.0</td>\n",
       "      <td>7</td>\n",
       "      <td>0</td>\n",
       "      <td>{'ByAppointmentOnly': 'True'}</td>\n",
       "      <td>Doctors, Traditional Chinese Medicine, Naturop...</td>\n",
       "      <td>None</td>\n",
       "    </tr>\n",
       "    <tr>\n",
       "      <th>1</th>\n",
       "      <td>mpf3x-BjTdTEA3yCZrAYPw</td>\n",
       "      <td>The UPS Store</td>\n",
       "      <td>87 Grasso Plaza Shopping Center</td>\n",
       "      <td>Affton</td>\n",
       "      <td>MO</td>\n",
       "      <td>63123</td>\n",
       "      <td>38.551126</td>\n",
       "      <td>-90.335695</td>\n",
       "      <td>3.0</td>\n",
       "      <td>15</td>\n",
       "      <td>1</td>\n",
       "      <td>{'BusinessAcceptsCreditCards': 'True'}</td>\n",
       "      <td>Shipping Centers, Local Services, Notaries, Ma...</td>\n",
       "      <td>{'Monday': '0:0-0:0', 'Tuesday': '8:0-18:30', ...</td>\n",
       "    </tr>\n",
       "    <tr>\n",
       "      <th>2</th>\n",
       "      <td>tUFrWirKiKi_TAnsVWINQQ</td>\n",
       "      <td>Target</td>\n",
       "      <td>5255 E Broadway Blvd</td>\n",
       "      <td>Tucson</td>\n",
       "      <td>AZ</td>\n",
       "      <td>85711</td>\n",
       "      <td>32.223236</td>\n",
       "      <td>-110.880452</td>\n",
       "      <td>3.5</td>\n",
       "      <td>22</td>\n",
       "      <td>0</td>\n",
       "      <td>{'BikeParking': 'True', 'BusinessAcceptsCredit...</td>\n",
       "      <td>Department Stores, Shopping, Fashion, Home &amp; G...</td>\n",
       "      <td>{'Monday': '8:0-22:0', 'Tuesday': '8:0-22:0', ...</td>\n",
       "    </tr>\n",
       "    <tr>\n",
       "      <th>3</th>\n",
       "      <td>MTSW4McQd7CbVtyjqoe9mw</td>\n",
       "      <td>St Honore Pastries</td>\n",
       "      <td>935 Race St</td>\n",
       "      <td>Philadelphia</td>\n",
       "      <td>PA</td>\n",
       "      <td>19107</td>\n",
       "      <td>39.955505</td>\n",
       "      <td>-75.155564</td>\n",
       "      <td>4.0</td>\n",
       "      <td>80</td>\n",
       "      <td>1</td>\n",
       "      <td>{'RestaurantsDelivery': 'False', 'OutdoorSeati...</td>\n",
       "      <td>Restaurants, Food, Bubble Tea, Coffee &amp; Tea, B...</td>\n",
       "      <td>{'Monday': '7:0-20:0', 'Tuesday': '7:0-20:0', ...</td>\n",
       "    </tr>\n",
       "    <tr>\n",
       "      <th>4</th>\n",
       "      <td>mWMc6_wTdE0EUBKIGXDVfA</td>\n",
       "      <td>Perkiomen Valley Brewery</td>\n",
       "      <td>101 Walnut St</td>\n",
       "      <td>Green Lane</td>\n",
       "      <td>PA</td>\n",
       "      <td>18054</td>\n",
       "      <td>40.338183</td>\n",
       "      <td>-75.471659</td>\n",
       "      <td>4.5</td>\n",
       "      <td>13</td>\n",
       "      <td>1</td>\n",
       "      <td>{'BusinessAcceptsCreditCards': 'True', 'Wheelc...</td>\n",
       "      <td>Brewpubs, Breweries, Food</td>\n",
       "      <td>{'Wednesday': '14:0-22:0', 'Thursday': '16:0-2...</td>\n",
       "    </tr>\n",
       "  </tbody>\n",
       "</table>\n",
       "</div>"
      ],
      "text/plain": [
       "              business_id                      name  \\\n",
       "0  Pns2l4eNsfO8kk83dixA6A  Abby Rappoport, LAC, CMQ   \n",
       "1  mpf3x-BjTdTEA3yCZrAYPw             The UPS Store   \n",
       "2  tUFrWirKiKi_TAnsVWINQQ                    Target   \n",
       "3  MTSW4McQd7CbVtyjqoe9mw        St Honore Pastries   \n",
       "4  mWMc6_wTdE0EUBKIGXDVfA  Perkiomen Valley Brewery   \n",
       "\n",
       "                           address           city state postal_code  \\\n",
       "0           1616 Chapala St, Ste 2  Santa Barbara    CA       93101   \n",
       "1  87 Grasso Plaza Shopping Center         Affton    MO       63123   \n",
       "2             5255 E Broadway Blvd         Tucson    AZ       85711   \n",
       "3                      935 Race St   Philadelphia    PA       19107   \n",
       "4                    101 Walnut St     Green Lane    PA       18054   \n",
       "\n",
       "    latitude   longitude  stars  review_count  is_open  \\\n",
       "0  34.426679 -119.711197    5.0             7        0   \n",
       "1  38.551126  -90.335695    3.0            15        1   \n",
       "2  32.223236 -110.880452    3.5            22        0   \n",
       "3  39.955505  -75.155564    4.0            80        1   \n",
       "4  40.338183  -75.471659    4.5            13        1   \n",
       "\n",
       "                                          attributes  \\\n",
       "0                      {'ByAppointmentOnly': 'True'}   \n",
       "1             {'BusinessAcceptsCreditCards': 'True'}   \n",
       "2  {'BikeParking': 'True', 'BusinessAcceptsCredit...   \n",
       "3  {'RestaurantsDelivery': 'False', 'OutdoorSeati...   \n",
       "4  {'BusinessAcceptsCreditCards': 'True', 'Wheelc...   \n",
       "\n",
       "                                          categories  \\\n",
       "0  Doctors, Traditional Chinese Medicine, Naturop...   \n",
       "1  Shipping Centers, Local Services, Notaries, Ma...   \n",
       "2  Department Stores, Shopping, Fashion, Home & G...   \n",
       "3  Restaurants, Food, Bubble Tea, Coffee & Tea, B...   \n",
       "4                          Brewpubs, Breweries, Food   \n",
       "\n",
       "                                               hours  \n",
       "0                                               None  \n",
       "1  {'Monday': '0:0-0:0', 'Tuesday': '8:0-18:30', ...  \n",
       "2  {'Monday': '8:0-22:0', 'Tuesday': '8:0-22:0', ...  \n",
       "3  {'Monday': '7:0-20:0', 'Tuesday': '7:0-20:0', ...  \n",
       "4  {'Wednesday': '14:0-22:0', 'Thursday': '16:0-2...  "
      ]
     },
     "execution_count": 13,
     "metadata": {},
     "output_type": "execute_result"
    }
   ],
   "source": [
    "df_b.head()"
   ]
  },
  {
   "cell_type": "markdown",
   "id": "1e43ea35",
   "metadata": {},
   "source": [
    "# is_open-Column"
   ]
  },
  {
   "cell_type": "code",
   "execution_count": 14,
   "id": "77a44392",
   "metadata": {},
   "outputs": [
    {
     "data": {
      "text/plain": [
       "is_open\n",
       "1    119698\n",
       "0     30648\n",
       "Name: count, dtype: int64"
      ]
     },
     "execution_count": 14,
     "metadata": {},
     "output_type": "execute_result"
    }
   ],
   "source": [
    "df_b['is_open'].value_counts()"
   ]
  },
  {
   "cell_type": "markdown",
   "id": "9b7be6d6",
   "metadata": {},
   "source": [
    "The DataFrame contains a column 'is_open', which carries binary values - 0 signifies a closed business, while 1 indicates an open one. for now we keep all the businesses."
   ]
  },
  {
   "cell_type": "code",
   "execution_count": 15,
   "id": "31930cd9",
   "metadata": {
    "scrolled": true
   },
   "outputs": [
    {
     "name": "stdout",
     "output_type": "stream",
     "text": [
      "is_open\n",
      "0    3.510082\n",
      "1    3.618908\n",
      "Name: stars, dtype: float64\n"
     ]
    }
   ],
   "source": [
    "# Group by is_open and get the mean of the stars column\n",
    "average_ratings = df_b.groupby('is_open')['stars'].mean()\n",
    "\n",
    "print(average_ratings)\n"
   ]
  },
  {
   "cell_type": "code",
   "execution_count": 16,
   "id": "4aa00330",
   "metadata": {},
   "outputs": [
    {
     "data": {
      "image/png": "[encoded data removed]",
      "text/plain": [
       "<Figure size 640x480 with 1 Axes>"
      ]
     },
     "metadata": {},
     "output_type": "display_data"
    }
   ],
   "source": [
    "import matplotlib.pyplot as plt\n",
    "import seaborn as sns\n",
    "\n",
    "average_ratings = df_b.groupby('is_open')['stars'].mean()\n",
    "average_ratings.plot(kind='bar', color=['lightblue', 'purple'])\n",
    "plt.title('Average Rating for Open vs Closed Restaurants')\n",
    "plt.xlabel('Restaurant Status (0: Closed, 1: Open)')\n",
    "plt.ylabel('Average Star Rating')\n",
    "plt.xticks(rotation=0)\n",
    "plt.show()\n"
   ]
  },
  {
   "cell_type": "markdown",
   "id": "a632300f",
   "metadata": {},
   "source": [
    "**From the average_ratings data:**\n",
    "\n",
    "The average ratings between open and closed restaurants differ only slightly: 3.62 for open establishments and 3.51 for those that have closed. This minuscule difference suggests that while ratings play a role, they might not be the sole or even primary determinant in a restaurant's continued operation. There are likely other factors at play influencing the viability of these businesses.\n"
   ]
  },
  {
   "cell_type": "code",
   "execution_count": 17,
   "id": "cd166079",
   "metadata": {},
   "outputs": [
    {
     "name": "stdout",
     "output_type": "stream",
     "text": [
      "is_open          0          1\n",
      "stars                        \n",
      "1.0       1.027800   1.396013\n",
      "1.5       2.551553   3.467059\n",
      "2.0       5.696946   6.500526\n",
      "2.5      10.131167   9.366071\n",
      "3.0      15.426782  11.466357\n",
      "3.5      21.730619  16.590920\n",
      "4.0      22.503915  20.240940\n",
      "4.5      15.155965  18.827382\n",
      "5.0       5.775255  12.144731\n"
     ]
    }
   ],
   "source": [
    "# Create a crosstab between is_open and stars\n",
    "cross_tab = pd.crosstab(df_b['stars'], df_b['is_open'], normalize='columns') * 100\n",
    "\n",
    "print(cross_tab)\n"
   ]
  },
  {
   "cell_type": "markdown",
   "id": "b90697d0",
   "metadata": {},
   "source": [
    "| Rating stars | is_open = 0 (%) | is_open = 1 (%) |\n",
    "|-------|-----------------|-----------------|\n",
    "| 1.0   | 1.03           | 1.40           |\n",
    "| 1.5   | 2.55           | 3.47           |\n",
    "| 2.0   | 5.70           | 6.50           |\n",
    "| 2.5   | 10.13          | 9.37           |\n",
    "| 3.0   | 15.43          | 11.47          |\n",
    "| 3.5   | 21.73          | 16.59          |\n",
    "| 4.0   | 22.50          | 20.24          |\n",
    "| 4.5   | 15.16          | 18.83          |\n",
    "| 5.0   | 5.78           | 12.14          |\n"
   ]
  },
  {
   "cell_type": "markdown",
   "id": "efecbef0",
   "metadata": {},
   "source": [
    "\n",
    "The cross_tab information provides a distribution of ratings for open and closed restaurants. For instance:\n",
    "\n"
   ]
  },
  {
   "cell_type": "code",
   "execution_count": 18,
   "id": "8a0dce7c",
   "metadata": {},
   "outputs": [
    {
     "name": "stderr",
     "output_type": "stream",
     "text": [
      "/var/folders/0t/7qv1vmrs6l10yk4t5m_54jnr0000gn/T/ipykernel_17399/2484714104.py:7: FutureWarning: \n",
      "\n",
      "`shade` is now deprecated in favor of `fill`; setting `fill=True`.\n",
      "This will become an error in seaborn v0.14.0; please update your code.\n",
      "\n",
      "  sns.kdeplot(subset['stars'], label=label, shade=True)\n",
      "/var/folders/0t/7qv1vmrs6l10yk4t5m_54jnr0000gn/T/ipykernel_17399/2484714104.py:7: FutureWarning: \n",
      "\n",
      "`shade` is now deprecated in favor of `fill`; setting `fill=True`.\n",
      "This will become an error in seaborn v0.14.0; please update your code.\n",
      "\n",
      "  sns.kdeplot(subset['stars'], label=label, shade=True)\n"
     ]
    },
    {
     "data": {
      "image/png": "[encoded data removed]",
      "text/plain": [
       "<Figure size 1000x600 with 1 Axes>"
      ]
     },
     "metadata": {},
     "output_type": "display_data"
    }
   ],
   "source": [
    "import matplotlib.pyplot as plt\n",
    "import seaborn as sns\n",
    "\n",
    "plt.figure(figsize=(10, 6))\n",
    "for status, label in zip([0, 1], ['Closed', 'Open']):\n",
    "    subset = df_b[df_b['is_open'] == status]\n",
    "    sns.kdeplot(subset['stars'], label=label, shade=True)\n",
    "plt.title('Density Plot of Star Ratings for Open vs Closed Restaurants')\n",
    "plt.xlabel('Star Rating')\n",
    "plt.ylabel('Density')\n",
    "plt.legend()\n",
    "plt.show()\n"
   ]
  },
  {
   "cell_type": "markdown",
   "id": "625040db",
   "metadata": {},
   "source": [
    "while only about 5.78% of closed restaurants achieved a top rating of 5, a notable 12.14% of open restaurants did. This hints that although a higher rating could contribute to a restaurant's success, other factors might be in play leading to closures"
   ]
  },
  {
   "cell_type": "markdown",
   "id": "6cc973bc",
   "metadata": {},
   "source": [
    "# state-Column"
   ]
  },
  {
   "cell_type": "code",
   "execution_count": 19,
   "id": "325dc4a7",
   "metadata": {
    "scrolled": true
   },
   "outputs": [
    {
     "data": {
      "text/plain": [
       "state\n",
       "PA     34039\n",
       "FL     26330\n",
       "TN     12056\n",
       "IN     11247\n",
       "MO     10913\n",
       "LA      9924\n",
       "AZ      9912\n",
       "NJ      8536\n",
       "NV      7715\n",
       "AB      5573\n",
       "CA      5203\n",
       "ID      4467\n",
       "DE      2265\n",
       "IL      2145\n",
       "TX         4\n",
       "CO         3\n",
       "WA         2\n",
       "HI         2\n",
       "MA         2\n",
       "NC         1\n",
       "UT         1\n",
       "MT         1\n",
       "MI         1\n",
       "SD         1\n",
       "XMS        1\n",
       "VI         1\n",
       "VT         1\n",
       "Name: count, dtype: int64"
      ]
     },
     "execution_count": 19,
     "metadata": {},
     "output_type": "execute_result"
    }
   ],
   "source": [
    "df_b['state'].value_counts()"
   ]
  },
  {
   "cell_type": "markdown",
   "id": "90d3c2dc",
   "metadata": {},
   "source": [
    "Examining the value counts reveals that our dataset does not include information for every state in the US. However, to avoid reducing the number of data points, we have decided to retain all of them."
   ]
  },
  {
   "cell_type": "markdown",
   "id": "03d0b935",
   "metadata": {},
   "source": [
    "lets have a look at columns again: "
   ]
  },
  {
   "cell_type": "code",
   "execution_count": 20,
   "id": "9bb72d4b",
   "metadata": {},
   "outputs": [
    {
     "name": "stdout",
     "output_type": "stream",
     "text": [
      "<class 'pandas.core.frame.DataFrame'>\n",
      "RangeIndex: 150346 entries, 0 to 150345\n",
      "Data columns (total 14 columns):\n",
      " #   Column        Non-Null Count   Dtype  \n",
      "---  ------        --------------   -----  \n",
      " 0   business_id   150346 non-null  object \n",
      " 1   name          150346 non-null  object \n",
      " 2   address       150346 non-null  object \n",
      " 3   city          150346 non-null  object \n",
      " 4   state         150346 non-null  object \n",
      " 5   postal_code   150346 non-null  object \n",
      " 6   latitude      150346 non-null  float64\n",
      " 7   longitude     150346 non-null  float64\n",
      " 8   stars         150346 non-null  float64\n",
      " 9   review_count  150346 non-null  int64  \n",
      " 10  is_open       150346 non-null  int64  \n",
      " 11  attributes    136602 non-null  object \n",
      " 12  categories    150243 non-null  object \n",
      " 13  hours         127123 non-null  object \n",
      "dtypes: float64(3), int64(2), object(9)\n",
      "memory usage: 16.1+ MB\n"
     ]
    }
   ],
   "source": [
    "df_b.info()"
   ]
  },
  {
   "cell_type": "markdown",
   "id": "1dd5a289",
   "metadata": {},
   "source": [
    "# Feature-Removal"
   ]
  },
  {
   "cell_type": "markdown",
   "id": "11a93a60",
   "metadata": {},
   "source": [
    "Some of these features are not going to be useful to us. In particular,because we want to focus on features that have the most impact on the restaurant rating so we can remove the following:"
   ]
  },
  {
   "cell_type": "code",
   "execution_count": 21,
   "id": "c31def53",
   "metadata": {},
   "outputs": [],
   "source": [
    "df_b.drop(df_b.columns[[0,1,2,3,4,5,6,7,9,10,13]],axis=1,inplace=True)"
   ]
  },
  {
   "cell_type": "code",
   "execution_count": 22,
   "id": "4192fdc2",
   "metadata": {
    "scrolled": true
   },
   "outputs": [
    {
     "name": "stdout",
     "output_type": "stream",
     "text": [
      "<class 'pandas.core.frame.DataFrame'>\n",
      "RangeIndex: 150346 entries, 0 to 150345\n",
      "Data columns (total 3 columns):\n",
      " #   Column      Non-Null Count   Dtype  \n",
      "---  ------      --------------   -----  \n",
      " 0   stars       150346 non-null  float64\n",
      " 1   attributes  136602 non-null  object \n",
      " 2   categories  150243 non-null  object \n",
      "dtypes: float64(1), object(2)\n",
      "memory usage: 3.4+ MB\n"
     ]
    }
   ],
   "source": [
    "df_b.info()"
   ]
  },
  {
   "cell_type": "markdown",
   "id": "ecc8d07d",
   "metadata": {},
   "source": [
    "# Target-Variable-Analysis"
   ]
  },
  {
   "cell_type": "code",
   "execution_count": 23,
   "id": "7ffe68d2",
   "metadata": {},
   "outputs": [
    {
     "data": {
      "text/plain": [
       "count    150346.000000\n",
       "mean          3.596724\n",
       "std           0.974421\n",
       "min           1.000000\n",
       "25%           3.000000\n",
       "50%           3.500000\n",
       "75%           4.500000\n",
       "max           5.000000\n",
       "Name: stars, dtype: float64"
      ]
     },
     "execution_count": 23,
     "metadata": {},
     "output_type": "execute_result"
    }
   ],
   "source": [
    "df_b['stars'].describe()\n"
   ]
  },
  {
   "cell_type": "markdown",
   "id": "d35f63b8",
   "metadata": {},
   "source": [
    "# Descriptive-Statistics-for-stars"
   ]
  },
  {
   "cell_type": "markdown",
   "id": "fcd60296",
   "metadata": {},
   "source": [
    "The distribution of the target  doesn't exhibit any extreme anomalies, but let's evaluate it in more detail to see if it's suitable for modeling:\n",
    "\n",
    "**Mean and Median:** The mean (3.57) and median (3.5) are relatively close to each other, which suggests that the distribution may not be heavily skewed.\n",
    "\n",
    "**Spread:** The standard deviation (0.68) shows that the ratings are dispersed in a range that isn't too narrow or too wide. This indicates variability in the ratings, which is good for modeling, as a model can learn from this variability.\n",
    "\n",
    "**Min and Max Values:** The minimum (1) and maximum (5) values align with what would be expected for a star rating system."
   ]
  },
  {
   "cell_type": "code",
   "execution_count": 24,
   "id": "51cc4af8",
   "metadata": {},
   "outputs": [
    {
     "data": {
      "image/png": "[encoded data removed]",
      "text/plain": [
       "<Figure size 640x480 with 1 Axes>"
      ]
     },
     "metadata": {},
     "output_type": "display_data"
    }
   ],
   "source": [
    "import matplotlib.pyplot as plt\n",
    "\n",
    "mean_stars = df_b['stars'].mean()\n",
    "median_stars = df_b['stars'].median()\n",
    "\n",
    "df_b['stars'].hist(bins=9) \n",
    "plt.axvline(mean_stars, color='r', linestyle='dashed', linewidth=2, label=f'Mean: {mean_stars}')\n",
    "plt.axvline(median_stars, color='g', linestyle='dashed', linewidth=2, label=f'Median: {median_stars}')\n",
    "plt.xlabel('Stars')\n",
    "plt.ylabel('Frequency')\n",
    "plt.title('Distribution of Star Ratings')\n",
    "plt.legend()\n",
    "plt.show()\n"
   ]
  },
  {
   "cell_type": "markdown",
   "id": "cd6db2fc",
   "metadata": {},
   "source": [
    "**The mean (3.57) and median (3.5) are relatively close to each other, which suggests that the distribution may not be heavily skewed.**"
   ]
  },
  {
   "cell_type": "markdown",
   "id": "393852b5",
   "metadata": {},
   "source": [
    "# Transforming-stars\n",
    "Target Variable"
   ]
  },
  {
   "cell_type": "markdown",
   "id": "f9073644",
   "metadata": {},
   "source": [
    " Now we want transform the \"stars\" column into a binary variable to  prepare it for our classification Models \n",
    "\n"
   ]
  },
  {
   "cell_type": "code",
   "execution_count": 25,
   "id": "613cbce8",
   "metadata": {},
   "outputs": [
    {
     "data": {
      "text/plain": [
       "(array([75733.,     0.,     0.,     0.,     0.,     0.,     0.,     0.,\n",
       "            0., 74613.]),\n",
       " array([0. , 0.1, 0.2, 0.3, 0.4, 0.5, 0.6, 0.7, 0.8, 0.9, 1. ]),\n",
       " <BarContainer object of 10 artists>)"
      ]
     },
     "execution_count": 25,
     "metadata": {},
     "output_type": "execute_result"
    },
    {
     "data": {
      "image/png": "[encoded data removed]",
      "text/plain": [
       "<Figure size 640x480 with 1 Axes>"
      ]
     },
     "metadata": {},
     "output_type": "display_data"
    }
   ],
   "source": [
    "df_b['Rating_Success'] = (df_b['stars'] >= 4).astype(int)\n",
    "df_b = df_b.drop(columns=['stars'])\n",
    "plt.figure()\n",
    "plt.hist(df_b['Rating_Success'])"
   ]
  },
  {
   "cell_type": "markdown",
   "id": "f9a00a9d",
   "metadata": {},
   "source": [
    "# Missing-Values"
   ]
  },
  {
   "cell_type": "markdown",
   "id": "f85f9ec9",
   "metadata": {},
   "source": [
    "Before examining the contents of the `categories` and `attributes` columns, I observed that they contain some missing values, and I will remove these null values now before proceeding with my analysis."
   ]
  },
  {
   "cell_type": "code",
   "execution_count": 26,
   "id": "7e76a5b7",
   "metadata": {},
   "outputs": [
    {
     "data": {
      "text/plain": [
       "103"
      ]
     },
     "execution_count": 26,
     "metadata": {},
     "output_type": "execute_result"
    }
   ],
   "source": [
    "df_b['categories'].isna().sum()"
   ]
  },
  {
   "cell_type": "code",
   "execution_count": 27,
   "id": "d088cb2c",
   "metadata": {},
   "outputs": [
    {
     "data": {
      "text/plain": [
       "13744"
      ]
     },
     "execution_count": 27,
     "metadata": {},
     "output_type": "execute_result"
    }
   ],
   "source": [
    "df_b['attributes'].isna().sum()"
   ]
  },
  {
   "cell_type": "markdown",
   "id": "238606bc",
   "metadata": {},
   "source": [
    "We must remove the missing values, as they are detrimental to our models."
   ]
  },
  {
   "cell_type": "code",
   "execution_count": 28,
   "id": "b33c00a8",
   "metadata": {},
   "outputs": [],
   "source": [
    "df_b.dropna(subset=['categories','attributes'], inplace=True)"
   ]
  },
  {
   "cell_type": "code",
   "execution_count": 29,
   "id": "44998db5",
   "metadata": {},
   "outputs": [
    {
     "name": "stdout",
     "output_type": "stream",
     "text": [
      "<class 'pandas.core.frame.DataFrame'>\n",
      "Index: 136601 entries, 0 to 150345\n",
      "Data columns (total 3 columns):\n",
      " #   Column          Non-Null Count   Dtype \n",
      "---  ------          --------------   ----- \n",
      " 0   attributes      136601 non-null  object\n",
      " 1   categories      136601 non-null  object\n",
      " 2   Rating_Success  136601 non-null  int64 \n",
      "dtypes: int64(1), object(2)\n",
      "memory usage: 4.2+ MB\n"
     ]
    }
   ],
   "source": [
    "df_b.info()"
   ]
  },
  {
   "cell_type": "markdown",
   "id": "0f902277",
   "metadata": {},
   "source": [
    "# categories-Column-Processing"
   ]
  },
  {
   "cell_type": "markdown",
   "id": "94de53aa",
   "metadata": {},
   "source": [
    "When analyzing the `categories` column in the DataFrame, df_b. I noticed that the categories is messy and contains a wide array of businesses, not just restaurants."
   ]
  },
  {
   "cell_type": "code",
   "execution_count": 30,
   "id": "52818c21",
   "metadata": {
    "scrolled": true
   },
   "outputs": [
    {
     "data": {
      "text/plain": [
       "0         Doctors, Traditional Chinese Medicine, Naturop...\n",
       "1         Shipping Centers, Local Services, Notaries, Ma...\n",
       "2         Department Stores, Shopping, Fashion, Home & G...\n",
       "3         Restaurants, Food, Bubble Tea, Coffee & Tea, B...\n",
       "4                                 Brewpubs, Breweries, Food\n",
       "                                ...                        \n",
       "150341                           Nail Salons, Beauty & Spas\n",
       "150342    Pets, Nurseries & Gardening, Pet Stores, Hobby...\n",
       "150343    Shopping, Jewelry, Piercing, Toy Stores, Beaut...\n",
       "150344    Fitness/Exercise Equipment, Eyewear & Optician...\n",
       "150345    Beauty & Spas, Permanent Makeup, Piercing, Tattoo\n",
       "Name: categories, Length: 136601, dtype: object"
      ]
     },
     "execution_count": 30,
     "metadata": {},
     "output_type": "execute_result"
    }
   ],
   "source": [
    "df_b['categories']"
   ]
  },
  {
   "cell_type": "markdown",
   "id": "b27b0d81",
   "metadata": {},
   "source": [
    "# Standardization"
   ]
  },
  {
   "cell_type": "markdown",
   "id": "ceed928e",
   "metadata": {},
   "source": [
    "Next, I wanted to standardize the text in the categories column to prevent any discrepancies due to capitalization or leading/trailing spaces. So, I converted all the category names to lower case using the str.lower() method and removed any unnecessary spaces at the beginning or end of these category names with the str.strip() method."
   ]
  },
  {
   "cell_type": "code",
   "execution_count": 31,
   "id": "05f56221",
   "metadata": {},
   "outputs": [
    {
     "data": {
      "text/plain": [
       "(136601, 3)"
      ]
     },
     "execution_count": 31,
     "metadata": {},
     "output_type": "execute_result"
    }
   ],
   "source": [
    "df_b['categories'] = df_b['categories'].str.lower().str.strip()\n",
    "df_b.reset_index(drop=True)\n",
    "\n",
    "df_b.shape"
   ]
  },
  {
   "cell_type": "code",
   "execution_count": 32,
   "id": "dadd668c",
   "metadata": {
    "scrolled": false
   },
   "outputs": [
    {
     "data": {
      "text/plain": [
       "categories\n",
       "beauty & spas, nail salons    950\n",
       "restaurants, pizza            923\n",
       "nail salons, beauty & spas    880\n",
       "pizza, restaurants            809\n",
       "restaurants, mexican          720\n",
       "restaurants, chinese          699\n",
       "mexican, restaurants          656\n",
       "chinese, restaurants          642\n",
       "food, coffee & tea            501\n",
       "beauty & spas, hair salons    469\n",
       "Name: count, dtype: int64"
      ]
     },
     "execution_count": 32,
     "metadata": {},
     "output_type": "execute_result"
    }
   ],
   "source": [
    "df_b['categories'].value_counts().head(10)\n"
   ]
  },
  {
   "cell_type": "markdown",
   "id": "08cae7d2",
   "metadata": {},
   "source": [
    "# Filtering-for-restaurants"
   ]
  },
  {
   "cell_type": "markdown",
   "id": "626ab111",
   "metadata": {},
   "source": [
    " Subsequently, to focus on the businesses that are related to restaurants, I utilized the str.contains() method to filter out such rows. "
   ]
  },
  {
   "cell_type": "code",
   "execution_count": 33,
   "id": "f49b519e",
   "metadata": {},
   "outputs": [
    {
     "data": {
      "text/plain": [
       "(51703, 3)"
      ]
     },
     "execution_count": 33,
     "metadata": {},
     "output_type": "execute_result"
    }
   ],
   "source": [
    "df_b = df_b[df_b['categories'].str.contains('restaurants')]\n",
    "df_b.reset_index(drop=True)\n",
    "df_b.shape"
   ]
  },
  {
   "cell_type": "code",
   "execution_count": 34,
   "id": "dc402971",
   "metadata": {},
   "outputs": [
    {
     "data": {
      "text/html": [
       "<div>\n",
       "<style scoped>\n",
       "    .dataframe tbody tr th:only-of-type {\n",
       "        vertical-align: middle;\n",
       "    }\n",
       "\n",
       "    .dataframe tbody tr th {\n",
       "        vertical-align: top;\n",
       "    }\n",
       "\n",
       "    .dataframe thead th {\n",
       "        text-align: right;\n",
       "    }\n",
       "</style>\n",
       "<table border=\"1\" class=\"dataframe\">\n",
       "  <thead>\n",
       "    <tr style=\"text-align: right;\">\n",
       "      <th></th>\n",
       "      <th>attributes</th>\n",
       "      <th>categories</th>\n",
       "      <th>Rating_Success</th>\n",
       "    </tr>\n",
       "  </thead>\n",
       "  <tbody>\n",
       "    <tr>\n",
       "      <th>3</th>\n",
       "      <td>{'RestaurantsDelivery': 'False', 'OutdoorSeati...</td>\n",
       "      <td>restaurants, food, bubble tea, coffee &amp; tea, b...</td>\n",
       "      <td>1</td>\n",
       "    </tr>\n",
       "    <tr>\n",
       "      <th>5</th>\n",
       "      <td>{'BusinessParking': 'None', 'BusinessAcceptsCr...</td>\n",
       "      <td>burgers, fast food, sandwiches, food, ice crea...</td>\n",
       "      <td>0</td>\n",
       "    </tr>\n",
       "    <tr>\n",
       "      <th>8</th>\n",
       "      <td>{'Caters': 'True', 'Alcohol': 'u'full_bar'', '...</td>\n",
       "      <td>pubs, restaurants, italian, bars, american (tr...</td>\n",
       "      <td>0</td>\n",
       "    </tr>\n",
       "    <tr>\n",
       "      <th>9</th>\n",
       "      <td>{'RestaurantsAttire': ''casual'', 'Restaurants...</td>\n",
       "      <td>ice cream &amp; frozen yogurt, fast food, burgers,...</td>\n",
       "      <td>0</td>\n",
       "    </tr>\n",
       "    <tr>\n",
       "      <th>11</th>\n",
       "      <td>{'Alcohol': ''none'', 'OutdoorSeating': 'None'...</td>\n",
       "      <td>vietnamese, food, restaurants, food trucks</td>\n",
       "      <td>1</td>\n",
       "    </tr>\n",
       "  </tbody>\n",
       "</table>\n",
       "</div>"
      ],
      "text/plain": [
       "                                           attributes  \\\n",
       "3   {'RestaurantsDelivery': 'False', 'OutdoorSeati...   \n",
       "5   {'BusinessParking': 'None', 'BusinessAcceptsCr...   \n",
       "8   {'Caters': 'True', 'Alcohol': 'u'full_bar'', '...   \n",
       "9   {'RestaurantsAttire': ''casual'', 'Restaurants...   \n",
       "11  {'Alcohol': ''none'', 'OutdoorSeating': 'None'...   \n",
       "\n",
       "                                           categories  Rating_Success  \n",
       "3   restaurants, food, bubble tea, coffee & tea, b...               1  \n",
       "5   burgers, fast food, sandwiches, food, ice crea...               0  \n",
       "8   pubs, restaurants, italian, bars, american (tr...               0  \n",
       "9   ice cream & frozen yogurt, fast food, burgers,...               0  \n",
       "11         vietnamese, food, restaurants, food trucks               1  "
      ]
     },
     "execution_count": 34,
     "metadata": {},
     "output_type": "execute_result"
    }
   ],
   "source": [
    "df_b.head()"
   ]
  },
  {
   "cell_type": "markdown",
   "id": "ee6f0d9e",
   "metadata": {},
   "source": [
    "# Category-Flattening"
   ]
  },
  {
   "cell_type": "markdown",
   "id": "6987877a",
   "metadata": {},
   "source": [
    "The code below first splits the 'categories' column in the df_b DataFrame by commas and assigns the resulting lists to a new DataFrame, df_exploded. Then, it uses the 'explode' method to transform each element of the lists into a separate row, effectively flattening the 'categories' column."
   ]
  },
  {
   "cell_type": "code",
   "execution_count": null,
   "id": "2807b368",
   "metadata": {},
   "outputs": [],
   "source": []
  },
  {
   "cell_type": "code",
   "execution_count": 35,
   "id": "96060df0",
   "metadata": {
    "scrolled": true
   },
   "outputs": [
    {
     "data": {
      "text/html": [
       "<div>\n",
       "<style scoped>\n",
       "    .dataframe tbody tr th:only-of-type {\n",
       "        vertical-align: middle;\n",
       "    }\n",
       "\n",
       "    .dataframe tbody tr th {\n",
       "        vertical-align: top;\n",
       "    }\n",
       "\n",
       "    .dataframe thead th {\n",
       "        text-align: right;\n",
       "    }\n",
       "</style>\n",
       "<table border=\"1\" class=\"dataframe\">\n",
       "  <thead>\n",
       "    <tr style=\"text-align: right;\">\n",
       "      <th></th>\n",
       "      <th>attributes</th>\n",
       "      <th>categories</th>\n",
       "      <th>Rating_Success</th>\n",
       "    </tr>\n",
       "  </thead>\n",
       "  <tbody>\n",
       "    <tr>\n",
       "      <th>0</th>\n",
       "      <td>{'RestaurantsDelivery': 'False', 'OutdoorSeati...</td>\n",
       "      <td>restaurants, food, bubble tea, coffee &amp; tea, b...</td>\n",
       "      <td>1</td>\n",
       "    </tr>\n",
       "    <tr>\n",
       "      <th>1</th>\n",
       "      <td>{'BusinessParking': 'None', 'BusinessAcceptsCr...</td>\n",
       "      <td>burgers, fast food, sandwiches, food, ice crea...</td>\n",
       "      <td>0</td>\n",
       "    </tr>\n",
       "    <tr>\n",
       "      <th>2</th>\n",
       "      <td>{'Caters': 'True', 'Alcohol': 'u'full_bar'', '...</td>\n",
       "      <td>pubs, restaurants, italian, bars, american (tr...</td>\n",
       "      <td>0</td>\n",
       "    </tr>\n",
       "    <tr>\n",
       "      <th>3</th>\n",
       "      <td>{'RestaurantsAttire': ''casual'', 'Restaurants...</td>\n",
       "      <td>ice cream &amp; frozen yogurt, fast food, burgers,...</td>\n",
       "      <td>0</td>\n",
       "    </tr>\n",
       "    <tr>\n",
       "      <th>4</th>\n",
       "      <td>{'Alcohol': ''none'', 'OutdoorSeating': 'None'...</td>\n",
       "      <td>vietnamese, food, restaurants, food trucks</td>\n",
       "      <td>1</td>\n",
       "    </tr>\n",
       "    <tr>\n",
       "      <th>...</th>\n",
       "      <td>...</td>\n",
       "      <td>...</td>\n",
       "      <td>...</td>\n",
       "    </tr>\n",
       "    <tr>\n",
       "      <th>51698</th>\n",
       "      <td>{'BikeParking': 'True', 'BusinessAcceptsCredit...</td>\n",
       "      <td>restaurants, sandwiches, convenience stores, c...</td>\n",
       "      <td>0</td>\n",
       "    </tr>\n",
       "    <tr>\n",
       "      <th>51699</th>\n",
       "      <td>{'WiFi': ''free'', 'RestaurantsGoodForGroups':...</td>\n",
       "      <td>cafes, juice bars &amp; smoothies, coffee &amp; tea, r...</td>\n",
       "      <td>1</td>\n",
       "    </tr>\n",
       "    <tr>\n",
       "      <th>51700</th>\n",
       "      <td>{'WheelchairAccessible': 'False', 'Restaurants...</td>\n",
       "      <td>restaurants, mexican</td>\n",
       "      <td>1</td>\n",
       "    </tr>\n",
       "    <tr>\n",
       "      <th>51701</th>\n",
       "      <td>{'RestaurantsDelivery': 'False', 'BusinessAcce...</td>\n",
       "      <td>restaurants, comfort food, food, food trucks, ...</td>\n",
       "      <td>1</td>\n",
       "    </tr>\n",
       "    <tr>\n",
       "      <th>51702</th>\n",
       "      <td>{'Ambience': '{'touristy': False, 'hipster': F...</td>\n",
       "      <td>middle eastern, restaurants</td>\n",
       "      <td>1</td>\n",
       "    </tr>\n",
       "  </tbody>\n",
       "</table>\n",
       "<p>51703 rows × 3 columns</p>\n",
       "</div>"
      ],
      "text/plain": [
       "                                              attributes  \\\n",
       "0      {'RestaurantsDelivery': 'False', 'OutdoorSeati...   \n",
       "1      {'BusinessParking': 'None', 'BusinessAcceptsCr...   \n",
       "2      {'Caters': 'True', 'Alcohol': 'u'full_bar'', '...   \n",
       "3      {'RestaurantsAttire': ''casual'', 'Restaurants...   \n",
       "4      {'Alcohol': ''none'', 'OutdoorSeating': 'None'...   \n",
       "...                                                  ...   \n",
       "51698  {'BikeParking': 'True', 'BusinessAcceptsCredit...   \n",
       "51699  {'WiFi': ''free'', 'RestaurantsGoodForGroups':...   \n",
       "51700  {'WheelchairAccessible': 'False', 'Restaurants...   \n",
       "51701  {'RestaurantsDelivery': 'False', 'BusinessAcce...   \n",
       "51702  {'Ambience': '{'touristy': False, 'hipster': F...   \n",
       "\n",
       "                                              categories  Rating_Success  \n",
       "0      restaurants, food, bubble tea, coffee & tea, b...               1  \n",
       "1      burgers, fast food, sandwiches, food, ice crea...               0  \n",
       "2      pubs, restaurants, italian, bars, american (tr...               0  \n",
       "3      ice cream & frozen yogurt, fast food, burgers,...               0  \n",
       "4             vietnamese, food, restaurants, food trucks               1  \n",
       "...                                                  ...             ...  \n",
       "51698  restaurants, sandwiches, convenience stores, c...               0  \n",
       "51699  cafes, juice bars & smoothies, coffee & tea, r...               1  \n",
       "51700                               restaurants, mexican               1  \n",
       "51701  restaurants, comfort food, food, food trucks, ...               1  \n",
       "51702                        middle eastern, restaurants               1  \n",
       "\n",
       "[51703 rows x 3 columns]"
      ]
     },
     "execution_count": 35,
     "metadata": {},
     "output_type": "execute_result"
    }
   ],
   "source": [
    "df_exploded = df_b.assign(categories = df_b.categories.str.split(', ')).explode('categories')\n",
    "df_b.reset_index(drop=True)\n"
   ]
  },
  {
   "cell_type": "markdown",
   "id": "41d2b00d",
   "metadata": {},
   "source": [
    "Lets prints the value counts of the unique categories, displaying all the rows without any truncation.\n"
   ]
  },
  {
   "cell_type": "code",
   "execution_count": 36,
   "id": "5de2668d",
   "metadata": {},
   "outputs": [
    {
     "name": "stdout",
     "output_type": "stream",
     "text": [
      "categories\n",
      "restaurants                         51703\n",
      "food                                15326\n",
      "nightlife                            8684\n",
      "sandwiches                           8304\n",
      "bars                                 8300\n",
      "american (traditional)               8102\n",
      "pizza                                7011\n",
      "fast food                            6438\n",
      "breakfast & brunch                   6199\n",
      "american (new)                       6077\n",
      "burgers                              5590\n",
      "italian                              4538\n",
      "mexican                              4522\n",
      "coffee & tea                         4037\n",
      "seafood                              3493\n",
      "chinese                              3134\n",
      "event planning & services            3049\n",
      "salad                                3039\n",
      "chicken wings                        2931\n",
      "cafes                                2733\n",
      "delis                                2376\n",
      "caterers                             2048\n",
      "specialty food                       1997\n",
      "bakeries                             1872\n",
      "japanese                             1819\n",
      "desserts                             1818\n",
      "sports bars                          1793\n",
      "sushi bars                           1706\n",
      "barbeque                             1676\n",
      "asian fusion                         1538\n",
      "steakhouses                          1496\n",
      "diners                               1491\n",
      "cocktail bars                        1397\n",
      "pubs                                 1392\n",
      "mediterranean                        1256\n",
      "vegetarian                           1157\n",
      "beer                                 1152\n",
      "wine & spirits                       1152\n",
      "arts & entertainment                 1082\n",
      "ice cream & frozen yogurt            1080\n",
      "soup                                 1050\n",
      "juice bars & smoothies               1005\n",
      "tacos                                1003\n",
      "southern                              979\n",
      "thai                                  966\n",
      "food trucks                           965\n",
      "wine bars                             951\n",
      "tex-mex                               917\n",
      "cajun/creole                          915\n",
      "food delivery services                857\n",
      "vietnamese                            843\n",
      "vegan                                 840\n",
      "indian                                831\n",
      "grocery                               820\n",
      "latin american                        800\n",
      "chicken shop                          797\n",
      "venues & event spaces                 781\n",
      "greek                                 775\n",
      "gluten-free                           770\n",
      "hot dogs                              757\n",
      "comfort food                          743\n",
      "lounges                               695\n",
      "beer bar                              634\n",
      "buffets                               616\n",
      "cheesesteaks                          609\n",
      "shopping                              597\n",
      "bagels                                597\n",
      "caribbean                             582\n",
      "middle eastern                        581\n",
      "convenience stores                    532\n",
      "soul food                             531\n",
      "ethnic food                           515\n",
      "music venues                          511\n",
      "gastropubs                            510\n",
      "french                                501\n",
      "korean                                492\n",
      "donuts                                467\n",
      "local flavor                          447\n",
      "tapas/small plates                    438\n",
      "food stands                           414\n",
      "hotels & travel                       413\n",
      "breweries                             406\n",
      "noodles                               381\n",
      "halal                                 357\n",
      "active life                           325\n",
      "wraps                                 307\n",
      "automotive                            285\n",
      "hotels                                282\n",
      "dive bars                             282\n",
      "spanish                               281\n",
      "cuban                                 281\n",
      "bubble tea                            274\n",
      "canadian (new)                        257\n",
      "gas stations                          255\n",
      "street vendors                        253\n",
      "tapas bars                            226\n",
      "pakistani                             226\n",
      "meat shops                            225\n",
      "ramen                                 220\n",
      "irish                                 214\n",
      "seafood markets                       212\n",
      "fish & chips                          200\n",
      "waffles                               188\n",
      "pasta shops                           187\n",
      "karaoke                               186\n",
      "poke                                  186\n",
      "party & event planning                185\n",
      "hawaiian                              183\n",
      "acai bowls                            176\n",
      "health markets                        175\n",
      "creperies                             163\n",
      "dance clubs                           142\n",
      "dim sum                               140\n",
      "coffee roasteries                     139\n",
      "hookah bars                           132\n",
      "modern european                       131\n",
      "fruits & veggies                      125\n",
      "german                                125\n",
      "irish pub                             123\n",
      "food court                            122\n",
      "farmers market                        120\n",
      "arcades                               119\n",
      "brewpubs                              118\n",
      "imported food                         118\n",
      "szechuan                              113\n",
      "new mexican cuisine                   111\n",
      "african                               111\n",
      "beer gardens                          109\n",
      "jazz & blues                          108\n",
      "filipino                              105\n",
      "falafel                               102\n",
      "tea rooms                             102\n",
      "international grocery                  99\n",
      "flowers & gifts                        99\n",
      "pretzels                               98\n",
      "puerto rican                           96\n",
      "cupcakes                               95\n",
      "cantonese                              93\n",
      "gelato                                 90\n",
      "kebab                                  90\n",
      "butcher                                86\n",
      "beauty & spas                          86\n",
      "live/raw food                          86\n",
      "golf                                   86\n",
      "cheese shops                           85\n",
      "internet cafes                         83\n",
      "lebanese                               82\n",
      "wineries                               82\n",
      "peruvian                               82\n",
      "turkish                                81\n",
      "taiwanese                              77\n",
      "local services                         77\n",
      "brazilian                              76\n",
      "custom cakes                           74\n",
      "british                                74\n",
      "hot pot                                73\n",
      "donairs                                73\n",
      "kosher                                 72\n",
      "shaved ice                             70\n",
      "organic stores                         70\n",
      "health & medical                       70\n",
      "pop-up restaurants                     69\n",
      "pan asian                              68\n",
      "pool halls                             68\n",
      "home services                          67\n",
      "colombian                              66\n",
      "smokehouse                             66\n",
      "ethiopian                              66\n",
      "bed & breakfast                        64\n",
      "drugstores                             63\n",
      "do-it-yourself food                    61\n",
      "fashion                                59\n",
      "casinos                                56\n",
      "home & garden                          56\n",
      "patisserie/cake shop                   55\n",
      "whiskey bars                           55\n",
      "salvadoran                             55\n",
      "education                              54\n",
      "chocolatiers & shops                   54\n",
      "wedding planning                       54\n",
      "empanadas                              54\n",
      "shopping centers                       53\n",
      "florists                               52\n",
      "bowling                                50\n",
      "arts & crafts                          49\n",
      "moroccan                               48\n",
      "laotian                                48\n",
      "venezuelan                             48\n",
      "tiki bars                              48\n",
      "tours                                  47\n",
      "brasseries                             46\n",
      "cafeteria                              46\n",
      "art galleries                          46\n",
      "dominican                              44\n",
      "afghan                                 44\n",
      "gay bars                               43\n",
      "polish                                 42\n",
      "performing arts                        42\n",
      "kids activities                        42\n",
      "personal chefs                         42\n",
      "russian                                41\n",
      "persian/iranian                        40\n",
      "country clubs                          40\n",
      "fitness & instruction                  39\n",
      "basque                                 39\n",
      "professional services                  39\n",
      "teppanyaki                             38\n",
      "candy stores                           38\n",
      "arabic                                 36\n",
      "mongolian                              36\n",
      "indoor playcentre                      35\n",
      "social clubs                           35\n",
      "festivals                              35\n",
      "books                                  34\n",
      "argentine                              34\n",
      "music & video                          34\n",
      "beverage store                         34\n",
      "gift shops                             34\n",
      "mags                                   34\n",
      "dinner theater                         33\n",
      "adult entertainment                    33\n",
      "bistros                                33\n",
      "piano bars                             33\n",
      "cooking classes                        32\n",
      "portuguese                             31\n",
      "malaysian                              30\n",
      "wine tasting room                      29\n",
      "pets                                   29\n",
      "day spas                               28\n",
      "resorts                                28\n",
      "tobacco shops                          28\n",
      "themed cafes                           28\n",
      "cinema                                 27\n",
      "fondue                                 26\n",
      "real estate                            25\n",
      "specialty schools                      24\n",
      "belgian                                24\n",
      "public services & government           24\n",
      "comedy clubs                           24\n",
      "indonesian                             23\n",
      "department stores                      23\n",
      "poutineries                            23\n",
      "sporting goods                         23\n",
      "delicatessen                           22\n",
      "community service/non-profit           22\n",
      "religious organizations                22\n",
      "himalayan/nepalese                     21\n",
      "honduran                               21\n",
      "amusement parks                        21\n",
      "ethnic grocery                         21\n",
      "bookstores                             20\n",
      "distilleries                           20\n",
      "haitian                                20\n",
      "wholesale stores                       19\n",
      "cooking schools                        19\n",
      "nutritionists                          19\n",
      "cambodian                              18\n",
      "macarons                               18\n",
      "hair salons                            18\n",
      "museums                                18\n",
      "vitamins & supplements                 18\n",
      "kombucha                               18\n",
      "ukrainian                              18\n",
      "home decor                             18\n",
      "trinidadian                            17\n",
      "eatertainment                          17\n",
      "shanghainese                           17\n",
      "burmese                                17\n",
      "boating                                17\n",
      "massage                                17\n",
      "sicilian                               16\n",
      "izakaya                                16\n",
      "herbs & spices                         16\n",
      "egyptian                               16\n",
      "landmarks & historical buildings       15\n",
      "parks                                  15\n",
      "tennis                                 15\n",
      "champagne bars                         15\n",
      "swimming pools                         15\n",
      "yelp events                            15\n",
      "armenian                               15\n",
      "kitchen & bath                         15\n",
      "yoga                                   14\n",
      "beaches                                14\n",
      "pancakes                               13\n",
      "food tours                             13\n",
      "speakeasies                            13\n",
      "australian                             13\n",
      "japanese curry                         13\n",
      "bartenders                             13\n",
      "cosmetics & beauty supply              13\n",
      "bangladeshi                            13\n",
      "pet adoption                           12\n",
      "tabletop games                         12\n",
      "skin care                              12\n",
      "sports clubs                           12\n",
      "shared office spaces                   11\n",
      "women's clothing                       11\n",
      "gyms                                   11\n",
      "furniture stores                       11\n",
      "nurseries & gardening                  11\n",
      "wholesalers                            11\n",
      "public markets                         11\n",
      "scandinavian                           11\n",
      "financial services                     11\n",
      "hobby shops                            11\n",
      "travel services                        11\n",
      "recreation centers                     10\n",
      "cigar bars                             10\n",
      "pet stores                             10\n",
      "boat charters                          10\n",
      "golf lessons                           10\n",
      "iberian                                10\n",
      "tasting classes                        10\n",
      "bar crawl                              10\n",
      "jewelry                                 9\n",
      "nail salons                             9\n",
      "massage therapy                         9\n",
      "doctors                                 9\n",
      "personal shopping                       9\n",
      "syrian                                  9\n",
      "pharmacy                                9\n",
      "pop-up shops                            9\n",
      "transportation                          9\n",
      "singaporean                             9\n",
      "souvenir shops                          9\n",
      "mini golf                               8\n",
      "pet services                            8\n",
      "barbers                                 8\n",
      "vape shops                              8\n",
      "churches                                8\n",
      "cabaret                                 8\n",
      "party equipment rentals                 8\n",
      "wine tasting classes                    8\n",
      "photography stores & services           8\n",
      "uzbek                                   8\n",
      "men's clothing                          7\n",
      "accessories                             7\n",
      "farms                                   7\n",
      "international                           7\n",
      "restaurant supplies                     7\n",
      "musicians                               7\n",
      "popcorn shops                           7\n",
      "antiques                                7\n",
      "party supplies                          7\n",
      "shaved snow                             7\n",
      "outlet stores                           6\n",
      "contractors                             6\n",
      "tuscan                                  6\n",
      "laser tag                               6\n",
      "skating rinks                           6\n",
      "banks & credit unions                   6\n",
      "cideries                                6\n",
      "appliances                              6\n",
      "auto repair                             6\n",
      "nicaraguan                              6\n",
      "bike rentals                            6\n",
      "wine tours                              6\n",
      "hong kong style cafe                    6\n",
      "hungarian                               6\n",
      "south african                           6\n",
      "czech                                   6\n",
      "playgrounds                             6\n",
      "historical tours                        6\n",
      "movers                                  6\n",
      "wigs                                    6\n",
      "cannabis clinics                        5\n",
      "discount store                          5\n",
      "scottish                                5\n",
      "colleges & universities                 5\n",
      "fishing                                 5\n",
      "sports wear                             5\n",
      "austrian                                5\n",
      "cultural center                         5\n",
      "leisure centers                         5\n",
      "medical spas                            5\n",
      "pool & billiards                        5\n",
      "airports                                5\n",
      "newspapers & magazines                  5\n",
      "beer tours                              5\n",
      "herbal shops                            5\n",
      "senegalese                              5\n",
      "plumbing                                5\n",
      "couriers & delivery services            5\n",
      "airport lounges                         5\n",
      "tires                                   4\n",
      "traditional chinese medicine            4\n",
      "adult                                   4\n",
      "cannabis dispensaries                   4\n",
      "sardinian                               4\n",
      "it services & computer repair           4\n",
      "mass media                              4\n",
      "videos & video game rental              4\n",
      "bike repair/maintenance                 4\n",
      "auto detailing                          4\n",
      "art museums                             4\n",
      "parking                                 4\n",
      "vinyl records                           4\n",
      "self storage                            4\n",
      "amateur sports teams                    4\n",
      "hunting & fishing supplies              4\n",
      "golf equipment                          4\n",
      "trainers                                4\n",
      "bikes                                   4\n",
      "axe throwing                            4\n",
      "dog parks                               4\n",
      "used bookstore                          4\n",
      "dietitians                              4\n",
      "body shops                              4\n",
      "supernatural readings                   4\n",
      "car dealers                             4\n",
      "strip clubs                             4\n",
      "children's clothing                     4\n",
      "csa                                     4\n",
      "cards & stationery                      4\n",
      "heating & air conditioning/hvac         4\n",
      "team building activities                4\n",
      "tree services                           4\n",
      "hair removal                            4\n",
      "apartments                              4\n",
      "building supplies                       4\n",
      "photographers                           4\n",
      "home cleaning                           4\n",
      "thrift stores                           4\n",
      "electronics                             4\n",
      "dry cleaning & laundry                  3\n",
      "olive oil                               3\n",
      "property management                     3\n",
      "educational services                    3\n",
      "tattoo                                  3\n",
      "rafting/kayaking                        3\n",
      "aquariums                               3\n",
      "hospitals                               3\n",
      "kitchen supplies                        3\n",
      "georgian                                3\n",
      "sri lankan                              3\n",
      "lan centers                             3\n",
      "music & dvds                            3\n",
      "pest control                            3\n",
      "hostels                                 3\n",
      "buddhist temples                        3\n",
      "adult education                         3\n",
      "interior design                         3\n",
      "guest houses                            3\n",
      "mattresses                              3\n",
      "auto glass services                     3\n",
      "stadiums & arenas                       3\n",
      "boat tours                              3\n",
      "waxing                                  3\n",
      "business consulting                     3\n",
      "reflexology                             3\n",
      "walking tours                           3\n",
      "art classes                             3\n",
      "race tracks                             3\n",
      "weight loss centers                     3\n",
      "naturopathic/holistic                   3\n",
      "chiropractors                           3\n",
      "drive-thru bars                         3\n",
      "oriental                                3\n",
      "car wash                                3\n",
      "country dance halls                     3\n",
      "preschools                              3\n",
      "junk removal & hauling                  3\n",
      "party bus rentals                       3\n",
      "counseling & mental health              3\n",
      "motorcycle dealers                      3\n",
      "fireplace services                      3\n",
      "landscaping                             3\n",
      "ticket sales                            3\n",
      "brewing supplies                        3\n",
      "gun/rifle ranges                        3\n",
      "outdoor gear                            3\n",
      "advertising                             2\n",
      "office cleaning                         2\n",
      "recording & rehearsal studios           2\n",
      "graphic design                          2\n",
      "libraries                               2\n",
      "auto parts & supplies                   2\n",
      "tutoring centers                        2\n",
      "landscape architects                    2\n",
      "accountants                             2\n",
      "rest stops                              2\n",
      "carpet cleaning                         2\n",
      "dumplings                               2\n",
      "airport terminals                       2\n",
      "used                                    2\n",
      "sports betting                          2\n",
      "virtual reality centers                 2\n",
      "hiking                                  2\n",
      "eastern european                        2\n",
      "escape games                            2\n",
      "furniture reupholstery                  2\n",
      "shoe stores                             2\n",
      "tableware                               2\n",
      "head shops                              2\n",
      "painters                                2\n",
      "septic services                         2\n",
      "propane                                 2\n",
      "piercing                                2\n",
      "honey                                   2\n",
      "hair stylists                           2\n",
      "spiritual shop                          2\n",
      "lawyers                                 2\n",
      "hakka                                   2\n",
      "botanical gardens                       2\n",
      "bocce ball                              2\n",
      "perfume                                 2\n",
      "laundry services                        2\n",
      "real estate agents                      2\n",
      "acupuncture                             2\n",
      "water heater installation/repair        2\n",
      "marinas                                 2\n",
      "dentists                                2\n",
      "outdoor furniture stores                2\n",
      "damage restoration                      2\n",
      "vintage & consignment                   2\n",
      "grilling equipment                      2\n",
      "appliances & repair                     2\n",
      "pediatricians                           2\n",
      "pet sitting                             2\n",
      "airport shuttles                        2\n",
      "taxis                                   2\n",
      "horseback riding                        2\n",
      "print media                             2\n",
      "medical centers                         2\n",
      "supper clubs                            2\n",
      "unofficial yelp events                  2\n",
      "club crawl                              2\n",
      "ski resorts                             2\n",
      "elementary schools                      2\n",
      "toy stores                              2\n",
      "child care & day care                   2\n",
      "christmas trees                         2\n",
      "kitchen incubators                      2\n",
      "eyebrow services                        2\n",
      "soccer                                  2\n",
      "visitor centers                         2\n",
      "go karts                                2\n",
      "public transportation                   2\n",
      "mobile phones                           2\n",
      "oil change stations                     2\n",
      "batting cages                           2\n",
      "coffee & tea supplies                   2\n",
      "israeli                                 2\n",
      "bus tours                               2\n",
      "home organization                       2\n",
      "hardware stores                         2\n",
      "auto customization                      2\n",
      "food banks                              2\n",
      "mobile phone repair                     2\n",
      "flea markets                            2\n",
      "lawn services                           2\n",
      "paint & sip                             2\n",
      "trampoline parks                        2\n",
      "cosmetic surgeons                       2\n",
      "coffeeshops                             2\n",
      "paddleboarding                          2\n",
      "somali                                  1\n",
      "web design                              1\n",
      "pick your own farms                     1\n",
      "transmission repair                     1\n",
      "art tours                               1\n",
      "service stations                        1\n",
      "windshield installation & repair        1\n",
      "livestock feed & supply                 1\n",
      "men's hair salons                       1\n",
      "roadside assistance                     1\n",
      "battery stores                          1\n",
      "screen printing/t-shirt printing        1\n",
      "music production services               1\n",
      "reiki                                   1\n",
      "drive-in theater                        1\n",
      "municipality                            1\n",
      "hainan                                  1\n",
      "party characters                        1\n",
      "threading services                      1\n",
      "session photography                     1\n",
      "auction houses                          1\n",
      "electronics repair                      1\n",
      "customized merchandise                  1\n",
      "packing services                        1\n",
      "car share services                      1\n",
      "skate shops                             1\n",
      "ice delivery                            1\n",
      "internet service providers              1\n",
      "university housing                      1\n",
      "truck rental                            1\n",
      "commercial truck dealers                1\n",
      "oral surgeons                           1\n",
      "real estate services                    1\n",
      "diagnostic imaging                      1\n",
      "commercial truck repair                 1\n",
      "makeup artists                          1\n",
      "health retreats                         1\n",
      "airlines                                1\n",
      "hindu temples                           1\n",
      "investing                               1\n",
      "auto loan providers                     1\n",
      "haunted houses                          1\n",
      "air duct cleaning                       1\n",
      "countertop installation                 1\n",
      "diagnostic services                     1\n",
      "security systems                        1\n",
      "gardeners                               1\n",
      "irrigation                              1\n",
      "garage door services                    1\n",
      "keys & locksmiths                       1\n",
      "serbo croatian                          1\n",
      "towing                                  1\n",
      "hair loss centers                       1\n",
      "hotel bar                               1\n",
      "special education                       1\n",
      "water stores                            1\n",
      "wedding chapels                         1\n",
      "radiologists                            1\n",
      "bridal                                  1\n",
      "smog check stations                     1\n",
      "rv repair                               1\n",
      "general dentistry                       1\n",
      "cucina campana                          1\n",
      "trailer repair                          1\n",
      "nail technicians                        1\n",
      "radio stations                          1\n",
      "fire departments                        1\n",
      "ethical grocery                         1\n",
      "trains                                  1\n",
      "personal assistants                     1\n",
      "trivia hosts                            1\n",
      "conveyor belt sushi                     1\n",
      "car stereo installation                 1\n",
      "funeral services & cemeteries           1\n",
      "flight instruction                      1\n",
      "guns & ammo                             1\n",
      "laundromat                              1\n",
      "gymnastics                              1\n",
      "floral designers                        1\n",
      "billing services                        1\n",
      "plastic surgeons                        1\n",
      "golf cart rentals                       1\n",
      "lahmacun                                1\n",
      "wildlife control                        1\n",
      "osteopaths                              1\n",
      "tax services                            1\n",
      "costumes                                1\n",
      "family practice                         1\n",
      "boat repair                             1\n",
      "neurologist                             1\n",
      "psychiatrists                           1\n",
      "roofing                                 1\n",
      "solar installation                      1\n",
      "community centers                       1\n",
      "dance schools                           1\n",
      "animal shelters                         1\n",
      "officiants                              1\n",
      "dry cleaning                            1\n",
      "pilates                                 1\n",
      "leather goods                           1\n",
      "beer hall                               1\n",
      "watches                                 1\n",
      "wheel & rim repair                      1\n",
      "comic books                             1\n",
      "private tutors                          1\n",
      "video game stores                       1\n",
      "djs                                     1\n",
      "marketing                               1\n",
      "jails & prisons                         1\n",
      "veterinarians                           1\n",
      "financial advising                      1\n",
      "train stations                          1\n",
      "clothing rental                         1\n",
      "fuzhou                                  1\n",
      "grill services                          1\n",
      "holiday decorations                     1\n",
      "rolfing                                 1\n",
      "check cashing/pay-day loans             1\n",
      "kiosk                                   1\n",
      "roman                                   1\n",
      "eyelash service                         1\n",
      "guamanian                               1\n",
      "climbing                                1\n",
      "maternity wear                          1\n",
      "zoos                                    1\n",
      "pet photography                         1\n",
      "recycling center                        1\n",
      "pet groomers                            1\n",
      "limos                                   1\n",
      "tonkatsu                                1\n",
      "donburi                                 1\n",
      "travel agents                           1\n",
      "fireworks                               1\n",
      "audio/visual equipment rental           1\n",
      "crane services                          1\n",
      "rv parks                                1\n",
      "pita                                    1\n",
      "parent cafes                            1\n",
      "eyewear & opticians                     1\n",
      "candle stores                           1\n",
      "hair extensions                         1\n",
      "pressure washers                        1\n",
      "water purification services             1\n",
      "beach bars                              1\n",
      "horse racing                            1\n",
      "religious items                         1\n",
      "vacation rentals                        1\n",
      "blow dry/out services                   1\n",
      "pawn shops                              1\n",
      "calabrian                               1\n",
      "dance studios                           1\n",
      "shipping centers                        1\n",
      "musical instruments & teachers          1\n",
      "tv mounting                             1\n",
      "home theatre installation               1\n",
      "homeowner association                   1\n",
      "kids hair salons                        1\n",
      "gemstones & minerals                    1\n",
      "Name: count, dtype: int64\n"
     ]
    }
   ],
   "source": [
    "with pd.option_context('display.max_rows', None):\n",
    "    print(df_exploded['categories'].value_counts())\n"
   ]
  },
  {
   "cell_type": "markdown",
   "id": "0cb18ac6",
   "metadata": {},
   "source": [
    " We need to apply one-hot encoding to these categories, but before doing that, it's advisable to first identify and handle the categories that have very low value counts"
   ]
  },
  {
   "cell_type": "markdown",
   "id": "af1ff6d7",
   "metadata": {},
   "source": [
    "**Reducing Dimensionality:** In this datasets, categorical features have many unique categories, some of which occur very infrequently. If we one-hot encode these categories directly, we may end up with a large number of binary features, each representing a unique category. This can significantly increase the dimensionality of the data. By first selecting and possibly combining or removing categories with very low value counts, we can reduce the number of binary features that will be created, keeping the dimensionality more manageable.\n",
    "\n",
    "**Handling Noise:** Categories with very low value counts might represent noise or anomalies in the data. These rare categories might not provide meaningful information for predictive modeling and could even harm the model's performance by introducing randomness or bias. By identifying and handling these categories separately, we can make the one-hot encoding more robust to such noise.\n",
    "\n",
    "**Improving Model Generalization:** Rare categories that appear only a few times in the training data may lead to overfitting, where the model learns to memorize these specific instances rather than generalizing from them. By handling these low-count categories separately (for example, by combining them into an \"other\" category), we can help the model to generalize better from the data."
   ]
  },
  {
   "cell_type": "markdown",
   "id": "2943eaca",
   "metadata": {},
   "source": [
    "Let's create a list of categories with very low counts, so we can remove them later on."
   ]
  },
  {
   "cell_type": "code",
   "execution_count": 37,
   "id": "182454e8",
   "metadata": {},
   "outputs": [
    {
     "name": "stdout",
     "output_type": "stream",
     "text": [
      "['international grocery', 'flowers & gifts', 'pretzels', 'puerto rican', 'cupcakes', 'cantonese', 'gelato', 'kebab', 'butcher', 'beauty & spas', 'live/raw food', 'golf', 'cheese shops', 'internet cafes', 'lebanese', 'wineries', 'peruvian', 'turkish', 'taiwanese', 'local services', 'brazilian', 'custom cakes', 'british', 'hot pot', 'donairs', 'kosher', 'shaved ice', 'organic stores', 'health & medical', 'pop-up restaurants', 'pan asian', 'pool halls', 'home services', 'colombian', 'smokehouse', 'ethiopian', 'bed & breakfast', 'drugstores', 'do-it-yourself food', 'fashion', 'casinos', 'home & garden', 'patisserie/cake shop', 'whiskey bars', 'salvadoran', 'education', 'chocolatiers & shops', 'wedding planning', 'empanadas', 'shopping centers', 'florists', 'bowling', 'arts & crafts', 'moroccan', 'laotian', 'venezuelan', 'tiki bars', 'tours', 'brasseries', 'cafeteria', 'art galleries', 'dominican', 'afghan', 'gay bars', 'polish', 'performing arts', 'kids activities', 'personal chefs', 'russian', 'persian/iranian', 'country clubs', 'fitness & instruction', 'basque', 'professional services', 'teppanyaki', 'candy stores', 'arabic', 'mongolian', 'indoor playcentre', 'social clubs', 'festivals', 'books', 'argentine', 'music & video', 'beverage store', 'gift shops', 'mags', 'dinner theater', 'adult entertainment', 'bistros', 'piano bars', 'cooking classes', 'portuguese', 'malaysian', 'wine tasting room', 'pets', 'day spas', 'resorts', 'tobacco shops', 'themed cafes', 'cinema', 'fondue', 'real estate', 'specialty schools', 'belgian', 'public services & government', 'comedy clubs', 'indonesian', 'department stores', 'poutineries', 'sporting goods', 'delicatessen', 'community service/non-profit', 'religious organizations', 'himalayan/nepalese', 'honduran', 'amusement parks', 'ethnic grocery', 'bookstores', 'distilleries', 'haitian', 'wholesale stores', 'cooking schools', 'nutritionists', 'cambodian', 'macarons', 'hair salons', 'museums', 'vitamins & supplements', 'kombucha', 'ukrainian', 'home decor', 'trinidadian', 'eatertainment', 'shanghainese', 'burmese', 'boating', 'massage', 'sicilian', 'izakaya', 'herbs & spices', 'egyptian', 'landmarks & historical buildings', 'parks', 'tennis', 'champagne bars', 'swimming pools', 'yelp events', 'armenian', 'kitchen & bath', 'yoga', 'beaches', 'pancakes', 'food tours', 'speakeasies', 'australian', 'japanese curry', 'bartenders', 'cosmetics & beauty supply', 'bangladeshi', 'pet adoption', 'tabletop games', 'skin care', 'sports clubs', 'shared office spaces', \"women's clothing\", 'gyms', 'furniture stores', 'nurseries & gardening', 'wholesalers', 'public markets', 'scandinavian', 'financial services', 'hobby shops', 'travel services', 'recreation centers', 'cigar bars', 'pet stores', 'boat charters', 'golf lessons', 'iberian', 'tasting classes', 'bar crawl', 'jewelry', 'nail salons', 'massage therapy', 'doctors', 'personal shopping', 'syrian', 'pharmacy', 'pop-up shops', 'transportation', 'singaporean', 'souvenir shops', 'mini golf', 'pet services', 'barbers', 'vape shops', 'churches', 'cabaret', 'party equipment rentals', 'wine tasting classes', 'photography stores & services', 'uzbek', \"men's clothing\", 'accessories', 'farms', 'international', 'restaurant supplies', 'musicians', 'popcorn shops', 'antiques', 'party supplies', 'shaved snow', 'outlet stores', 'contractors', 'tuscan', 'laser tag', 'skating rinks', 'banks & credit unions', 'cideries', 'appliances', 'auto repair', 'nicaraguan', 'bike rentals', 'wine tours', 'hong kong style cafe', 'hungarian', 'south african', 'czech', 'playgrounds', 'historical tours', 'movers', 'wigs', 'cannabis clinics', 'discount store', 'scottish', 'colleges & universities', 'fishing', 'sports wear', 'austrian', 'cultural center', 'leisure centers', 'medical spas', 'pool & billiards', 'airports', 'newspapers & magazines', 'beer tours', 'herbal shops', 'senegalese', 'plumbing', 'couriers & delivery services', 'airport lounges', 'tires', 'traditional chinese medicine', 'adult', 'cannabis dispensaries', 'sardinian', 'it services & computer repair', 'mass media', 'videos & video game rental', 'bike repair/maintenance', 'auto detailing', 'art museums', 'parking', 'vinyl records', 'self storage', 'amateur sports teams', 'hunting & fishing supplies', 'golf equipment', 'trainers', 'bikes', 'axe throwing', 'dog parks', 'used bookstore', 'dietitians', 'body shops', 'supernatural readings', 'car dealers', 'strip clubs', \"children's clothing\", 'csa', 'cards & stationery', 'heating & air conditioning/hvac', 'team building activities', 'tree services', 'hair removal', 'apartments', 'building supplies', 'photographers', 'home cleaning', 'thrift stores', 'electronics', 'dry cleaning & laundry', 'olive oil', 'property management', 'educational services', 'tattoo', 'rafting/kayaking', 'aquariums', 'hospitals', 'kitchen supplies', 'georgian', 'sri lankan', 'lan centers', 'music & dvds', 'pest control', 'hostels', 'buddhist temples', 'adult education', 'interior design', 'guest houses', 'mattresses', 'auto glass services', 'stadiums & arenas', 'boat tours', 'waxing', 'business consulting', 'reflexology', 'walking tours', 'art classes', 'race tracks', 'weight loss centers', 'naturopathic/holistic', 'chiropractors', 'drive-thru bars', 'oriental', 'car wash', 'country dance halls', 'preschools', 'junk removal & hauling', 'party bus rentals', 'counseling & mental health', 'motorcycle dealers', 'fireplace services', 'landscaping', 'ticket sales', 'brewing supplies', 'gun/rifle ranges', 'outdoor gear', 'advertising', 'office cleaning', 'recording & rehearsal studios', 'graphic design', 'libraries', 'auto parts & supplies', 'tutoring centers', 'landscape architects', 'accountants', 'rest stops', 'carpet cleaning', 'dumplings', 'airport terminals', 'used', 'sports betting', 'virtual reality centers', 'hiking', 'eastern european', 'escape games', 'furniture reupholstery', 'shoe stores', 'tableware', 'head shops', 'painters', 'septic services', 'propane', 'piercing', 'honey', 'hair stylists', 'spiritual shop', 'lawyers', 'hakka', 'botanical gardens', 'bocce ball', 'perfume', 'laundry services', 'real estate agents', 'acupuncture', 'water heater installation/repair', 'marinas', 'dentists', 'outdoor furniture stores', 'damage restoration', 'vintage & consignment', 'grilling equipment', 'appliances & repair', 'pediatricians', 'pet sitting', 'airport shuttles', 'taxis', 'horseback riding', 'print media', 'medical centers', 'supper clubs', 'unofficial yelp events', 'club crawl', 'ski resorts', 'elementary schools', 'toy stores', 'child care & day care', 'christmas trees', 'kitchen incubators', 'eyebrow services', 'soccer', 'visitor centers', 'go karts', 'public transportation', 'mobile phones', 'oil change stations', 'batting cages', 'coffee & tea supplies', 'israeli', 'bus tours', 'home organization', 'hardware stores', 'auto customization', 'food banks', 'mobile phone repair', 'flea markets', 'lawn services', 'paint & sip', 'trampoline parks', 'cosmetic surgeons', 'coffeeshops', 'paddleboarding', 'somali', 'web design', 'pick your own farms', 'transmission repair', 'art tours', 'service stations', 'windshield installation & repair', 'livestock feed & supply', \"men's hair salons\", 'roadside assistance', 'battery stores', 'screen printing/t-shirt printing', 'music production services', 'reiki', 'drive-in theater', 'municipality', 'hainan', 'party characters', 'threading services', 'session photography', 'auction houses', 'electronics repair', 'customized merchandise', 'packing services', 'car share services', 'skate shops', 'ice delivery', 'internet service providers', 'university housing', 'truck rental', 'commercial truck dealers', 'oral surgeons', 'real estate services', 'diagnostic imaging', 'commercial truck repair', 'makeup artists', 'health retreats', 'airlines', 'hindu temples', 'investing', 'auto loan providers', 'haunted houses', 'air duct cleaning', 'countertop installation', 'diagnostic services', 'security systems', 'gardeners', 'irrigation', 'garage door services', 'keys & locksmiths', 'serbo croatian', 'towing', 'hair loss centers', 'hotel bar', 'special education', 'water stores', 'wedding chapels', 'radiologists', 'bridal', 'smog check stations', 'rv repair', 'general dentistry', 'cucina campana', 'trailer repair', 'nail technicians', 'radio stations', 'fire departments', 'ethical grocery', 'trains', 'personal assistants', 'trivia hosts', 'conveyor belt sushi', 'car stereo installation', 'funeral services & cemeteries', 'flight instruction', 'guns & ammo', 'laundromat', 'gymnastics', 'floral designers', 'billing services', 'plastic surgeons', 'golf cart rentals', 'lahmacun', 'wildlife control', 'osteopaths', 'tax services', 'costumes', 'family practice', 'boat repair', 'neurologist', 'psychiatrists', 'roofing', 'solar installation', 'community centers', 'dance schools', 'animal shelters', 'officiants', 'dry cleaning', 'pilates', 'leather goods', 'beer hall', 'watches', 'wheel & rim repair', 'comic books', 'private tutors', 'video game stores', 'djs', 'marketing', 'jails & prisons', 'veterinarians', 'financial advising', 'train stations', 'clothing rental', 'fuzhou', 'grill services', 'holiday decorations', 'rolfing', 'check cashing/pay-day loans', 'kiosk', 'roman', 'eyelash service', 'guamanian', 'climbing', 'maternity wear', 'zoos', 'pet photography', 'recycling center', 'pet groomers', 'limos', 'tonkatsu', 'donburi', 'travel agents', 'fireworks', 'audio/visual equipment rental', 'crane services', 'rv parks', 'pita', 'parent cafes', 'eyewear & opticians', 'candle stores', 'hair extensions', 'pressure washers', 'water purification services', 'beach bars', 'horse racing', 'religious items', 'vacation rentals', 'blow dry/out services', 'pawn shops', 'calabrian', 'dance studios', 'shipping centers', 'musical instruments & teachers', 'tv mounting', 'home theatre installation', 'homeowner association', 'kids hair salons', 'gemstones & minerals']\n"
     ]
    }
   ],
   "source": [
    "# Finding the categories that have counts less than 100 in the 'categories' column of the df_exploded DataFrame\n",
    "categories_with_low_counts = df_exploded['categories'].value_counts()\n",
    "\n",
    "# Storing these low-count categories in the 'low_count_categories' list \n",
    "low_count_categories = categories_with_low_counts[categories_with_low_counts < 100].index.tolist()\n",
    "#and printing the list\n",
    "print(low_count_categories)\n",
    "\n"
   ]
  },
  {
   "cell_type": "markdown",
   "id": "040fa919",
   "metadata": {},
   "source": [
    "# One-Hot-Encoding\n",
    "In the preprocessing stage of our data, we have multiple categories represented as comma-separated strings. These need to be transformed into a format that can be understood by machine learning algorithms. The following steps outline this transformation process:\n",
    "\n",
    "1. **Lowercasing and Stripping Whitespace**: We first convert the 'categories' column to lowercase and remove any extra whitespace to ensure uniformity.\n",
    "\n",
    "2. **Splitting Categories**: The 'categories' are split based on commas into a list of categories for each record.\n",
    "\n",
    "3. **Resetting the Index**: This is done to ensure alignment between the original DataFrame and the subsequent one we'll create with one-hot encoding.\n",
    "\n",
    "4. **One-Hot Encoding**: We utilize the `MultiLabelBinarizer` from scikit-learn to transform the categories into a binary matrix. This creates a new column for each unique category, with a 1 or 0 indicating its presence.\n",
    "\n",
    "5. **Creating a DataFrame**: The binary matrix is converted into a DataFrame, with column names corresponding to the unique categories.\n",
    "\n",
    "6. **Concatenating with the Original DataFrame**: The one-hot encoded DataFrame is concatenated with the original DataFrame, adding the new binary columns.\n",
    "\n",
    "7. **Dropping the Original 'categories' Column**: Optionally, the original 'categories' column is dropped as it has now been represented in the one-hot encoded format.\n",
    "\n",
    "By the end of this process, our original DataFrame `df_b` contains binary columns representing the presence or absence of each category, ready for further analysis or modeling.\n"
   ]
  },
  {
   "cell_type": "code",
   "execution_count": 38,
   "id": "585b3b2f",
   "metadata": {},
   "outputs": [],
   "source": [
    "from sklearn.preprocessing import MultiLabelBinarizer\n",
    "\n",
    "# Splitting the categories on commas and stripping any extra whitespace\n",
    "df_b['categories'] = df_b['categories'].str.lower().str.strip().apply(lambda x: x.split(', '))\n",
    "\n",
    "# Resetting the index to ensure alignment\n",
    "df_b.reset_index(drop=True, inplace=True)\n",
    "\n",
    "# Using MultiLabelBinarizer to one-hot encode the categories\n",
    "mlb = MultiLabelBinarizer()\n",
    "categories_encoded = mlb.fit_transform(df_b['categories'])\n",
    "\n",
    "# Convert the one-hot encoded categories into a DataFrame\n",
    "categories_df = pd.DataFrame(categories_encoded, columns=mlb.classes_)\n",
    "\n",
    "# Concatenate this DataFrame with the original one\n",
    "df_b = pd.concat([df_b, categories_df], axis=1)\n",
    "\n",
    "# Drop the original 'categories' column (if desired)\n",
    "df_b = df_b.drop(columns='categories')\n"
   ]
  },
  {
   "cell_type": "code",
   "execution_count": 39,
   "id": "ce8af644",
   "metadata": {},
   "outputs": [
    {
     "data": {
      "text/plain": [
       "(51703, 717)"
      ]
     },
     "execution_count": 39,
     "metadata": {},
     "output_type": "execute_result"
    }
   ],
   "source": [
    "df_b.shape"
   ]
  },
  {
   "cell_type": "markdown",
   "id": "c3604f24",
   "metadata": {},
   "source": [
    "# Handling-Low-Count-Categories\n",
    "After one-hot encoding the categories, we might end up with a high dimensionality if there are many unique categories. Some of these categories might only appear a few times in the dataset. Such low-count categories can sometimes introduce noise or complexity without adding much informative value.\n",
    "\n",
    "\n"
   ]
  },
  {
   "cell_type": "code",
   "execution_count": 40,
   "id": "007800ca",
   "metadata": {},
   "outputs": [],
   "source": [
    "for col in low_count_categories:\n",
    "    if col in df_b.columns:\n",
    "        df_b.drop(columns=col, inplace=True)\n",
    "df_b = df_b.reset_index(drop=True)\n"
   ]
  },
  {
   "cell_type": "markdown",
   "id": "7896012e",
   "metadata": {},
   "source": [
    "By the end of this process, our DataFrame `df_b` has been streamlined, with all the columns corresponding to the identified low-count categories removed. This can help in reducing dimensionality, improving computational efficiency, and potentially enhancing the performance of subsequent modeling."
   ]
  },
  {
   "cell_type": "code",
   "execution_count": 41,
   "id": "06c5612e",
   "metadata": {},
   "outputs": [
    {
     "data": {
      "text/plain": [
       "(51703, 134)"
      ]
     },
     "execution_count": 41,
     "metadata": {},
     "output_type": "execute_result"
    }
   ],
   "source": [
    "df_b.shape"
   ]
  },
  {
   "cell_type": "markdown",
   "id": "329d90da",
   "metadata": {},
   "source": [
    "# Correlation-Analysis\n",
    "Correlation between variables can often reveal interesting relationships, but high correlation can sometimes be a concern in modeling as it may lead to multicollinearity. This code snippet is focused on identifying pairs of variables in the DataFrame `df_b` that have a correlation greater than 0.50.\n",
    "\n",
    "# Identifying-Highly-Correlated\n",
    "\n",
    "Here's what the code does:\n",
    "\n",
    "\n",
    "1. **Calculating the Correlation Matrix**: Using the `corr` method, we compute the correlation matrix for the DataFrame `df_b`. This matrix contains the Pearson correlation coefficients between all pairs of variables.\n",
    "\n",
    "2. **Initializing a List for Highly Correlated Pairs**: We create an empty list called `highly_correlated_pairs` to store the variable pairs that meet our correlation threshold.\n",
    "\n",
    "3. **Iterating Through the Matrix**: We use nested loops to iterate through the correlation matrix, examining each pair of variables.\n",
    "\n",
    "4. **Checking for High Correlation**: Inside the loops, we check if the correlation is above 0.50 and ensure that we are not on the diagonal (where correlation is always 1). \n",
    "\n",
    "5. **Avoiding Duplicate Pairs**: Since the correlation matrix is symmetric, we check that we haven't already stored the pair in the reverse order (e.g., `(j,i)` instead of `(i,j)`).\n",
    "\n",
    "6. **Storing and Printing the Pairs**: If a pair meets the criteria, we append it to our list and later print all such pairs.\n",
    "\n",
    "By the end of this process, we have a list of variable pairs in the DataFrame that are highly correlated, which can be insightful for feature selection or for further investigation into the relationships between these variables.\n"
   ]
  },
  {
   "cell_type": "code",
   "execution_count": 42,
   "id": "58d1be1d",
   "metadata": {
    "scrolled": true
   },
   "outputs": [
    {
     "name": "stdout",
     "output_type": "stream",
     "text": [
      "Variables arts & entertainment and music venues have a correlation > 0.50\n",
      "Variables automotive and convenience stores have a correlation > 0.50\n",
      "Variables automotive and gas stations have a correlation > 0.50\n",
      "Variables bars and nightlife have a correlation > 0.50\n",
      "Variables beer and wine & spirits have a correlation > 0.50\n",
      "Variables breweries and brewpubs have a correlation > 0.50\n",
      "Variables caterers and event planning & services have a correlation > 0.50\n",
      "Variables convenience stores and gas stations have a correlation > 0.50\n",
      "Variables ethnic food and specialty food have a correlation > 0.50\n",
      "Variables hawaiian and poke have a correlation > 0.50\n",
      "Variables hotels and hotels & travel have a correlation > 0.50\n",
      "Variables japanese and sushi bars have a correlation > 0.50\n"
     ]
    }
   ],
   "source": [
    "numeric_df = df_b.select_dtypes(include=['float64', 'int64'])\n",
    "correlation_matrix = numeric_df.corr()\n",
    "\n",
    "\n",
    "\n",
    "# Get pairs of variables with correlation > 0.50\n",
    "highly_correlated_pairs = []\n",
    "\n",
    "for i, row in enumerate(correlation_matrix.index):\n",
    "    for j, col in enumerate(correlation_matrix.columns):\n",
    "        # Check for correlation above 0.50 and ensure we're not looking at the diagonal\n",
    "        if correlation_matrix.iloc[i, j] > 0.50 and i != j:\n",
    "            # Since the matrix is symmetric, let's only store one of (i,j) or (j,i)\n",
    "            if (col, row) not in highly_correlated_pairs:\n",
    "                highly_correlated_pairs.append((row, col))\n",
    "\n",
    "# Print the results\n",
    "for pair in highly_correlated_pairs:\n",
    "    print(f\"Variables {pair[0]} and {pair[1]} have a correlation > 0.50\")\n",
    "\n"
   ]
  },
  {
   "cell_type": "markdown",
   "id": "b0747619",
   "metadata": {},
   "source": [
    "# Handling-Highly-Correlated-Variables\n",
    "\n",
    "In our analysis, we identified several pairs of variables that have a correlation greater than 0.50. Some of these pairs are intuitively related, such as:\n",
    "\n",
    "- **Arts & Entertainment and Music Venues**\n",
    "- **Automotive and Convenience Stores, Gas Stations**\n",
    "- **Bars and Nightlife**\n",
    "- **Beer and Wine & Spirits**\n",
    "- **Breweries and Brewpubs**\n",
    "- **Caterers and Event Planning & Services**\n",
    "- **Ethnic Food and Specialty Food**\n",
    "- **Hawaiian and Poke**\n",
    "- **Hotels and Hotels & Travel**\n",
    "- **Japanese and Sushi Bars**\n",
    "\n",
    "These high correlations indicate that these variables are likely conveying similar information, and it might be beneficial to combine or reduce them to avoid potential multicollinearity in our models.\n",
    "\n",
    "### Combining Correlated Variables\n",
    "\n",
    "We took the following approach to combine and simplify these correlated variables:\n",
    "\n",
    "1. **Creating Combined Columns**: For each pair or group of highly correlated variables, we created a new combined column that represents the logical OR of the variables. For example, `American_cuisine` combines 'american (traditional)' and 'american (new)'.\n",
    "\n",
    "2. **Dropping the Specified Columns**: We used the `drop` method to remove the specified irrelevent columns from the DataFrame, reducing redundancy.\n",
    "\n",
    "By handling these correlated variables, we simplified our dataset while retaining the essential information. This process can help in reducing dimensionality and improving the interpretability and performance of subsequent modeling.\n"
   ]
  },
  {
   "cell_type": "code",
   "execution_count": 43,
   "id": "c041bb9b",
   "metadata": {},
   "outputs": [],
   "source": [
    "\n",
    "\n",
    "# Combining columns as described\n",
    "df_b['American_cuisine'] = np.logical_or(df_b['american (traditional)'], df_b['american (new)'])\n",
    "df_b['Bars_nightlife'] = df_b['bars'] | df_b['nightlife']\n",
    "df_b['Beer_wine_spirits'] = df_b['beer'] | df_b['wine & spirits']\n",
    "df_b['Caterers_event_planning'] = df_b['caterers'] | df_b['event planning & services']\n",
    "df_b['Specialty_food'] = df_b['specialty food'] | df_b['specialty food']\n",
    "df_b['Japanese'] = df_b['japanese'] | df_b['sushi bars']\n",
    "df_b['BrewPub'] = df_b['breweries'] | df_b['brewpubs']\n",
    "df_b['Hawaiian_poke'] = df_b['hawaiian'] | df_b['poke']\n",
    "df_b['Mexican_tacos'] = df_b['mexican'] | df_b['tacos']\n",
    "\n",
    "\n",
    "# List of original columns to drop\n",
    "columns_to_drop = [\n",
    "    'arts & entertainment',\n",
    "    'music venues',\n",
    "    'convenience stores',\n",
    "    'gas stations',\n",
    "    'hotels & travel',\n",
    "    'american (traditional)',\n",
    "    'american (new)',\n",
    "    'bars',\n",
    "    'nightlife',\n",
    "    'beer',\n",
    "    'wine & spirits',\n",
    "    'caterers',\n",
    "    'event planning & services',\n",
    "    'specialty food',\n",
    "    'japanese',\n",
    "    'sushi bars',\n",
    "    'breweries',\n",
    "    'brewpubs',\n",
    "    'hawaiian',\n",
    "    'poke',\n",
    "    'mexican',\n",
    "    'tacos',\n",
    "    'restaurants',\n",
    "    'food'\n",
    "]\n",
    "\n",
    "# Drop the specified columns\n",
    "df_b = df_b.drop(columns=columns_to_drop)\n",
    "\n"
   ]
  },
  {
   "cell_type": "code",
   "execution_count": 44,
   "id": "ec7e1cc3",
   "metadata": {},
   "outputs": [
    {
     "data": {
      "text/plain": [
       "(51703, 119)"
      ]
     },
     "execution_count": 44,
     "metadata": {},
     "output_type": "execute_result"
    }
   ],
   "source": [
    "df_b.shape"
   ]
  },
  {
   "cell_type": "markdown",
   "id": "3b8405da",
   "metadata": {},
   "source": [
    "# Attribute-Column-Analysis"
   ]
  },
  {
   "cell_type": "code",
   "execution_count": 45,
   "id": "7ea1858e",
   "metadata": {},
   "outputs": [],
   "source": [
    "df_b.reset_index(drop=True, inplace=True)\n"
   ]
  },
  {
   "cell_type": "markdown",
   "id": "41d505b7",
   "metadata": {},
   "source": [
    "This features contains a list for each restaurant with various descriptions. Take for example the list from the first , 2nd and 3rd restaurants in the data frame."
   ]
  },
  {
   "cell_type": "code",
   "execution_count": 46,
   "id": "985fc548",
   "metadata": {},
   "outputs": [
    {
     "data": {
      "text/plain": [
       "0        {'RestaurantsDelivery': 'False', 'OutdoorSeati...\n",
       "1        {'BusinessParking': 'None', 'BusinessAcceptsCr...\n",
       "2        {'Caters': 'True', 'Alcohol': 'u'full_bar'', '...\n",
       "3        {'RestaurantsAttire': ''casual'', 'Restaurants...\n",
       "4        {'Alcohol': ''none'', 'OutdoorSeating': 'None'...\n",
       "                               ...                        \n",
       "51698    {'BikeParking': 'True', 'BusinessAcceptsCredit...\n",
       "51699    {'WiFi': ''free'', 'RestaurantsGoodForGroups':...\n",
       "51700    {'WheelchairAccessible': 'False', 'Restaurants...\n",
       "51701    {'RestaurantsDelivery': 'False', 'BusinessAcce...\n",
       "51702    {'Ambience': '{'touristy': False, 'hipster': F...\n",
       "Name: attributes, Length: 51703, dtype: object"
      ]
     },
     "execution_count": 46,
     "metadata": {},
     "output_type": "execute_result"
    }
   ],
   "source": [
    "df_b['attributes']\n"
   ]
  },
  {
   "cell_type": "code",
   "execution_count": 47,
   "id": "77e80fa5",
   "metadata": {
    "scrolled": true
   },
   "outputs": [
    {
     "name": "stdout",
     "output_type": "stream",
     "text": [
      "{'RestaurantsDelivery': 'False', 'OutdoorSeating': 'False', 'BusinessAcceptsCreditCards': 'False', 'BusinessParking': \"{'garage': False, 'street': True, 'validated': False, 'lot': False, 'valet': False}\", 'BikeParking': 'True', 'RestaurantsPriceRange2': '1', 'RestaurantsTakeOut': 'True', 'ByAppointmentOnly': 'False', 'WiFi': \"u'free'\", 'Alcohol': \"u'none'\", 'Caters': 'True'} \n",
      "\n",
      "{'BusinessParking': 'None', 'BusinessAcceptsCreditCards': 'True', 'RestaurantsAttire': \"u'casual'\", 'OutdoorSeating': 'True', 'RestaurantsReservations': 'False', 'Caters': 'False', 'RestaurantsTakeOut': 'True', 'Alcohol': \"u'none'\", 'Ambience': 'None', 'GoodForKids': 'True', 'RestaurantsPriceRange2': '1', 'ByAppointmentOnly': 'False', 'CoatCheck': 'False', 'DogsAllowed': 'False', 'RestaurantsTableService': 'False', 'RestaurantsGoodForGroups': 'True', 'RestaurantsDelivery': 'True', 'WiFi': \"u'no'\", 'WheelchairAccessible': 'True', 'HasTV': 'True', 'HappyHour': 'False', 'DriveThru': 'True', 'BikeParking': 'False'} \n",
      "\n"
     ]
    }
   ],
   "source": [
    "for i in range(0,2):\n",
    "    print(df_b['attributes'][i],'\\n')"
   ]
  },
  {
   "cell_type": "markdown",
   "id": "205edd0c",
   "metadata": {},
   "source": [
    "Observing the `attributes` columns, we find that they contain dictionaries. Therefore, it would be beneficial to unpack or \"explode\" these dictionaries into separate columns for better analysis and understanding of the data.\n",
    "\n",
    "Let's first look at what's inside the attributes column. We need to see what keys are there and decide if these keys give us useful information for our project. Should we keep them as new columns?"
   ]
  },
  {
   "cell_type": "code",
   "execution_count": 48,
   "id": "a35d627a",
   "metadata": {
    "scrolled": true
   },
   "outputs": [
    {
     "name": "stdout",
     "output_type": "stream",
     "text": [
      "{'Alcohol', 'GoodForDancing', 'WiFi', 'BusinessAcceptsBitcoin', 'HairSpecializesIn', 'RestaurantsTakeOut', 'Caters', 'RestaurantsAttire', 'NoiseLevel', 'Open24Hours', 'WheelchairAccessible', 'Ambience', 'BusinessAcceptsCreditCards', 'DriveThru', 'OutdoorSeating', 'GoodForKids', 'BYOB', 'HasTV', 'BusinessParking', 'Corkage', 'RestaurantsPriceRange2', 'RestaurantsCounterService', 'BikeParking', 'BestNights', 'HappyHour', 'Smoking', 'AcceptsInsurance', 'DogsAllowed', 'RestaurantsTableService', 'GoodForMeal', 'ByAppointmentOnly', 'BYOBCorkage', 'RestaurantsGoodForGroups', 'AgesAllowed', 'CoatCheck', 'Music', 'DietaryRestrictions', 'RestaurantsReservations', 'RestaurantsDelivery'}\n"
     ]
    }
   ],
   "source": [
    "keys = set()\n",
    "\n",
    "for attr in df_b['attributes']:\n",
    "    if isinstance(attr, dict):  # check if the entry is a dictionary\n",
    "        keys.update(attr.keys())\n",
    "print(keys)\n",
    "\n"
   ]
  },
  {
   "cell_type": "markdown",
   "id": "5b0f0e1e",
   "metadata": {},
   "source": [
    "We can observe that the restaurant data contains various attributes. However, it is noticeable that not all restaurants have a complete set of attributes. Our objective is to find the restaurant with the most extensive list of attributes among them."
   ]
  },
  {
   "cell_type": "markdown",
   "id": "1770bdad",
   "metadata": {},
   "source": [
    "## Finding the Restaurant with the Most Attributes\n",
    "\n",
    "In our restaurant data, we have various attributes describing each establishment. However, we've observed that not all restaurants have a complete set of attributes. Our goal in this code segment is to identify the restaurant that has the most extensive list of attributes among all the entries in the dataset.\n",
    "\n",
    "Here's how we achieve this:\n",
    "\n",
    "1. **Initialize Variables**: We start with `length = 0` to keep track of the longest attribute list found so far and `loc = None` to store the index location of this restaurant.\n",
    "\n",
    "2. **Iterate Through the DataFrame**: We loop through the DataFrame `df_b`, specifically the 'attributes' column, and check the length of each entry.\n",
    "\n",
    "3. **Check for a New Maximum Length**: If we find an attribute list longer than our current maximum, we update both `length` and `loc` to reflect this new maximum.\n",
    "\n",
    "4. **Handle None Values**: In some cases, the 'attributes' value might be `None`, leading to a TypeError when trying to find its length. We handle this exception by simply passing over these cases.\n",
    "\n",
    "5. **Store the Result**: After iterating through the entire DataFrame, the restaurant's attributes at the location `loc` are stored in `result_attributes`.\n",
    "\n",
    "6. **Final Result**: The final result, stored in `result_attributes`, contains the dictionary of attributes for the restaurant with the most extensive list.\n",
    "\n",
    "By following this procedure, we've pinpointed the specific restaurant with the most comprehensive attribute set, providing valuable insights into what might be a particularly well-documented or multifaceted establishment. This information could be utilized further in analysis or feature engineering.\n"
   ]
  },
  {
   "cell_type": "code",
   "execution_count": 49,
   "id": "c8fdd8b4",
   "metadata": {},
   "outputs": [
    {
     "data": {
      "text/plain": [
       "{'BikeParking': 'True',\n",
       " 'OutdoorSeating': 'True',\n",
       " 'Corkage': 'False',\n",
       " 'HasTV': 'False',\n",
       " 'RestaurantsDelivery': 'True',\n",
       " 'BYOBCorkage': \"'yes_free'\",\n",
       " 'RestaurantsAttire': \"'casual'\",\n",
       " 'RestaurantsTakeOut': 'True',\n",
       " 'BusinessParking': \"{'garage': False, 'street': True, 'validated': False, 'lot': False, 'valet': False}\",\n",
       " 'RestaurantsPriceRange2': '2',\n",
       " 'RestaurantsReservations': 'True',\n",
       " 'BusinessAcceptsCreditCards': 'True',\n",
       " 'RestaurantsGoodForGroups': 'True',\n",
       " 'Caters': 'True',\n",
       " 'Alcohol': \"'full_bar'\",\n",
       " 'DogsAllowed': 'False',\n",
       " 'GoodForMeal': \"{'dessert': False, 'latenight': False, 'lunch': True, 'dinner': True, 'brunch': False, 'breakfast': False}\",\n",
       " 'WiFi': \"u'free'\",\n",
       " 'HappyHour': 'True',\n",
       " 'CoatCheck': 'False',\n",
       " 'Music': \"{'dj': False, 'background_music': False, 'no_music': False, 'jukebox': False, 'live': False, 'video': False, 'karaoke': False}\",\n",
       " 'NoiseLevel': \"u'average'\",\n",
       " 'BestNights': \"{'monday': True, 'tuesday': False, 'friday': True, 'wednesday': True, 'thursday': False, 'sunday': False, 'saturday': False}\",\n",
       " 'GoodForDancing': 'False',\n",
       " 'Smoking': \"u'no'\",\n",
       " 'BusinessAcceptsBitcoin': 'False',\n",
       " 'RestaurantsTableService': 'False',\n",
       " 'DriveThru': 'True',\n",
       " 'ByAppointmentOnly': 'False',\n",
       " 'GoodForKids': 'True',\n",
       " 'WheelchairAccessible': 'True',\n",
       " 'Ambience': \"{'touristy': False, 'hipster': False, 'romantic': False, 'divey': False, 'intimate': False, 'trendy': False, 'upscale': False, 'classy': True, 'casual': True}\",\n",
       " 'BYOB': 'False'}"
      ]
     },
     "execution_count": 49,
     "metadata": {},
     "output_type": "execute_result"
    }
   ],
   "source": [
    "length = 0\n",
    "loc = None  # Use None to represent no valid location found\n",
    "\n",
    "for i in range(len(df_b)):\n",
    "    try:\n",
    "        if len(df_b['attributes'][i]) > length:\n",
    "            length = len(df_b['attributes'][i])\n",
    "            loc = i\n",
    "    except TypeError:\n",
    "        # Handle the case where the value in 'attributes' is None\n",
    "        pass\n",
    "result_attributes = df_b['attributes'][loc]\n",
    "result_attributes"
   ]
  },
  {
   "cell_type": "markdown",
   "id": "f5072671",
   "metadata": {},
   "source": [
    "## Tallying the Occurrence of Specific Restaurant Attributes\n",
    "\n",
    "In our restaurant dataset, there is a diverse range of attributes that can describe different characteristics of an establishment. These might include whether the restaurant takes reservations, provides Wi-Fi, allows outdoor seating, etc. To understand how often these attributes are used across the dataset, we have implemented the following procedure:\n",
    "\n",
    "1. **List of Target Attributes**: We have defined a list `attributes` that includes the specific restaurant characteristics we are interested in analyzing. This list encompasses various aspects like 'Music,' 'WheelchairAccessible,' 'BusinessAcceptsBitcoin,' and so on.\n",
    "\n",
    "2. **Initialize Tally Counter**: A counter `tally` is initialized with zeros and has the same length as our target attributes. It will be used to store the count of each attribute's occurrence in the dataset.\n",
    "\n",
    "3. **Iterate Through the DataFrame**: We loop through the DataFrame `df_b`, specifically the 'attributes' column, and check each entry.\n",
    "\n",
    "4. **Check for None Values**: If an entry in the 'attributes' column is not `None`, we extract the attribute names (`ats`) from the entry by splitting each attribute string at the colon.\n",
    "\n",
    "5. **Update Tally**: For each target attribute, if it is found in the extracted attribute names (`ats`), we increment the corresponding count in the tally.\n",
    "\n",
    "6. **Print Results**: Finally, we print the attribute names and their counts, providing an insight into how often each of these specific characteristics appears in the dataset.\n",
    "\n",
    "This analysis allows us to understand the prevalence of different attributes across the restaurants in our dataset. Such insights could be beneficial in exploring trends, preferences, or common practices within the industry. It also aids in feature selection or engineering by identifying the attributes that might be more relevant or significant for further analysis or modeling.\n"
   ]
  },
  {
   "cell_type": "code",
   "execution_count": 50,
   "id": "a1a23116",
   "metadata": {},
   "outputs": [],
   "source": [
    "attributes = ['RestaurantsReservations', 'Music', 'BYOBCorkage', 'BusinessAcceptsCreditCards', 'WiFi', 'RestaurantsTakeOut', 'RestaurantsPriceRange2', 'WheelchairAccessible', 'AcceptsInsurance', 'Open24Hours', 'BikeParking', 'Ambience', 'DriveThru', 'BusinessParking', 'RestaurantsGoodForGroups', 'BYOB', 'CoatCheck', 'HappyHour', 'Caters', 'GoodForKids', 'GoodForMeal', 'Alcohol', 'Corkage', 'RestaurantsTableService', 'DogsAllowed', 'RestaurantsAttire', 'RestaurantsDelivery', 'NoiseLevel', 'ByAppointmentOnly', 'BestNights', 'DietaryRestrictions', 'Smoking', 'AgesAllowed', 'GoodForDancing', 'RestaurantsCounterService', 'HasTV', 'OutdoorSeating', 'BusinessAcceptsBitcoin']"
   ]
  },
  {
   "cell_type": "code",
   "execution_count": 51,
   "id": "6dc4a653",
   "metadata": {},
   "outputs": [
    {
     "name": "stdout",
     "output_type": "stream",
     "text": [
      "RestaurantsReservations: 43106\n",
      "Music: 5563\n",
      "BYOBCorkage: 1442\n",
      "BusinessAcceptsCreditCards: 45557\n",
      "WiFi: 37748\n",
      "RestaurantsTakeOut: 48713\n",
      "RestaurantsPriceRange2: 44500\n",
      "WheelchairAccessible: 13555\n",
      "AcceptsInsurance: 19\n",
      "Open24Hours: 21\n",
      "BikeParking: 35483\n",
      "Ambience: 41567\n",
      "DriveThru: 6235\n",
      "BusinessParking: 45611\n",
      "RestaurantsGoodForGroups: 41439\n",
      "BYOB: 4222\n",
      "CoatCheck: 4280\n",
      "HappyHour: 13009\n",
      "Caters: 34570\n",
      "GoodForKids: 40977\n",
      "GoodForMeal: 28853\n",
      "Alcohol: 39980\n",
      "Corkage: 3432\n",
      "RestaurantsTableService: 19737\n",
      "DogsAllowed: 11477\n",
      "RestaurantsAttire: 38992\n",
      "RestaurantsDelivery: 47654\n",
      "NoiseLevel: 34845\n",
      "ByAppointmentOnly: 3346\n",
      "BestNights: 4510\n",
      "DietaryRestrictions: 30\n",
      "Smoking: 3447\n",
      "AgesAllowed: 88\n",
      "GoodForDancing: 3595\n",
      "RestaurantsCounterService: 18\n",
      "HasTV: 41917\n",
      "OutdoorSeating: 43639\n",
      "BusinessAcceptsBitcoin: 6731\n"
     ]
    }
   ],
   "source": [
    "\n",
    "tally = [0] * len(attributes)\n",
    "\n",
    "for i in range(len(df_b)):\n",
    "    if df_b['attributes'][i] is not None:\n",
    "        ats = [attr.split(':', 1)[0] for attr in df_b['attributes'][i]]\n",
    "        \n",
    "        for j in range(len(attributes)):\n",
    "            if attributes[j] in ats:\n",
    "                tally[j] += 1\n",
    "\n",
    "# Print attribute names and their counts\n",
    "for i in range(len(attributes)):\n",
    "    print(f\"{attributes[i]}: {tally[i]}\")\n"
   ]
  },
  {
   "cell_type": "markdown",
   "id": "eb934af5",
   "metadata": {},
   "source": [
    "## Visualizing the Occurrence of Restaurant Attributes\n",
    "\n",
    "To better understand and communicate the occurrence of different restaurant attributes across our dataset, we're visualizing the data in a sorted bar chart. Here's a step-by-step explanation of what the code does:\n",
    "\n",
    "1. **Sort Indices Based on Tally**: Using the `sorted` function, the code first gets the indices that would sort the `tally` list in descending order. These indices will allow us to reorder both the `attributes` and the `tally` lists to align with the sorted counts.\n",
    "\n",
    "2. **Rearrange Lists Based on Sorted Indices**: The `sorted_attributes` and `sorted_tally` lists are created by rearranging the `attributes` and `tally` lists based on the sorted indices. This ensures that the attributes are ordered by their corresponding counts.\n",
    "\n",
    "3. **Plot the Results**: With the sorted data, we create a bar plot using the Matplotlib library. The x-axis represents the attributes, and the y-axis represents the counts of those attributes in the dataset. \n",
    "\n",
    "\n",
    "This visualization provides a clear and comprehensive view of how frequently different attributes occur across the restaurant dataset. By sorting the attributes by their counts, we can immediately identify the most common and rare attributes, which can be vital for subsequent analysis and decision-making.\n"
   ]
  },
  {
   "cell_type": "code",
   "execution_count": 52,
   "id": "ae333857",
   "metadata": {
    "scrolled": false
   },
   "outputs": [
    {
     "data": {
      "image/png": "[encoded data removed]",
      "text/plain": [
       "<Figure size 1200x600 with 1 Axes>"
      ]
     },
     "metadata": {},
     "output_type": "display_data"
    }
   ],
   "source": [
    "\n",
    "# Get the indices that would sort the 'tally' list in descending order\n",
    "sorted_indices = sorted(range(len(tally)), key=lambda k: tally[k], reverse=True)\n",
    "\n",
    "# Rearrange the 'attributes' and 'tally' lists based on the sorted indices\n",
    "sorted_attributes = [attributes[i] for i in sorted_indices]\n",
    "sorted_tally = [tally[i] for i in sorted_indices]\n",
    "\n",
    "# Plot the sorted results\n",
    "plt.figure(figsize=(12, 6))\n",
    "plt.bar(sorted_attributes, sorted_tally)\n",
    "\n",
    "plt.xticks(rotation=90)\n",
    "plt.xlabel('Attribute')\n",
    "plt.ylabel('Count')\n",
    "plt.title('Attribute Occurrence Count in Restaurants (Sorted)')\n",
    "plt.tight_layout()\n",
    "plt.show()\n"
   ]
  },
  {
   "cell_type": "markdown",
   "id": "eb5f0451",
   "metadata": {},
   "source": [
    "{'ByAppointmentOnly', 'WiFi', 'OutdoorSeating', 'GoodForKids', 'RestaurantsDelivery',  'RestaurantsReservations', 'Caters', 'Ambience', 'RestaurantsGoodForGroups', 'RestaurantsTakeOut', 'Alcohol', 'RestaurantsAttire', 'HappyHour', 'WheelchairAccessible', 'RestaurantsPriceRange2', 'BikeParking', 'BusinessParking', 'NoiseLevel'}\n"
   ]
  },
  {
   "cell_type": "markdown",
   "id": "03ba7aab",
   "metadata": {},
   "source": [
    "we decided to  remove the attributes with leass than 1000 occurence and calculate how many restaurant reviews contain all of the other attributes.\n",
    "we also removed some of the attributes that are not important and useful to the analyse like 'has TV','BusinessAcceptsCreditCards'& etc.."
   ]
  },
  {
   "cell_type": "markdown",
   "id": "c7031f2a",
   "metadata": {},
   "source": [
    "Attributes column contains dictionary and 3 nested dictionary. To proceed, we will use the ast library to unpack all dictionaries."
   ]
  },
  {
   "cell_type": "markdown",
   "id": "57f27846",
   "metadata": {},
   "source": [
    "## Extracting Key Attributes from the Dataset\n",
    "\n",
    "Our dataset contains a wide array of attributes for restaurants, which are stored as strings representing dictionaries within the `'attributes'` column. However, we are interested in a specific subset of these attributes. The code snippet performs the following actions to focus on these selected attributes:\n",
    "\n",
    "1. **Convert Strings to Dictionaries**: The `ast.literal_eval` function is used to convert the strings in the `'attributes'` column to dictionaries. This is done using the `apply` method along with a lambda function that checks whether each value is a string before applying the conversion. If a value is not a string (for example, if it is `None`), it is left unchanged.\n",
    "\n",
    "2. **Define Key Attributes**: A list called `keys_to_keep` is defined, containing the specific attribute keys we are interested in. These include attributes such as `'WiFi'`, `'OutdoorSeating'`, `'GoodForKids'`, and so on.\n",
    "\n",
    "3. **Create New Columns for Key Attributes**: For each key in the `keys_to_keep` list, a new column is created in the DataFrame. The value for each restaurant in these new columns is obtained from the corresponding dictionary in the `'attributes'` column, using the key. If the key is not found in the dictionary, or if the value is not a dictionary (such as when it's `None`), a `NaN` value is assigned.\n",
    "\n",
    "By extracting these specific attributes and placing them in separate columns, the DataFrame becomes more accessible and ready for further analysis, focusing only on the aspects of the data that are most relevant to our study. This process enhances readability and efficiency in subsequent steps.\n"
   ]
  },
  {
   "cell_type": "code",
   "execution_count": 53,
   "id": "f12cd410",
   "metadata": {},
   "outputs": [],
   "source": [
    "import ast\n",
    "\n",
    "# Convert the strings into dictionaries for 'attributes' column\n",
    "df_b['attributes'] = df_b['attributes'].apply(lambda x: ast.literal_eval(x) if isinstance(x, str) else x)\n",
    "\n",
    "keys_to_keep = ['WiFi', 'OutdoorSeating', 'GoodForKids', 'RestaurantsDelivery', 'RestaurantsReservations', 'Caters', 'Ambience', 'RestaurantsGoodForGroups', 'RestaurantsTakeOut', 'Alcohol', 'RestaurantsAttire', 'HappyHour', 'WheelchairAccessible', 'RestaurantsPriceRange2', 'BikeParking', 'BusinessParking', 'NoiseLevel']\n",
    "\n",
    "# For each key, create a new column in the DataFrame\n",
    "for key in keys_to_keep:\n",
    "    df_b[key] = df_b['attributes'].apply(lambda x: x.get(key) if isinstance(x, dict) else np.nan)\n",
    "\n"
   ]
  },
  {
   "cell_type": "code",
   "execution_count": 54,
   "id": "5db3cd03",
   "metadata": {},
   "outputs": [
    {
     "data": {
      "text/plain": [
       "Index(['attributes', 'Rating_Success', 'acai bowls', 'active life', 'african',\n",
       "       'arcades', 'asian fusion', 'automotive', 'bagels', 'bakeries',\n",
       "       ...\n",
       "       'RestaurantsGoodForGroups', 'RestaurantsTakeOut', 'Alcohol',\n",
       "       'RestaurantsAttire', 'HappyHour', 'WheelchairAccessible',\n",
       "       'RestaurantsPriceRange2', 'BikeParking', 'BusinessParking',\n",
       "       'NoiseLevel'],\n",
       "      dtype='object', length=136)"
      ]
     },
     "execution_count": 54,
     "metadata": {},
     "output_type": "execute_result"
    }
   ],
   "source": [
    "df_b.columns"
   ]
  },
  {
   "cell_type": "markdown",
   "id": "c516b983",
   "metadata": {},
   "source": [
    "# BusinessParking Column\n",
    "is a nested dictionary which was inside `attributes` column"
   ]
  },
  {
   "cell_type": "code",
   "execution_count": 55,
   "id": "77ab591e",
   "metadata": {
    "scrolled": true
   },
   "outputs": [
    {
     "data": {
      "text/plain": [
       "BusinessParking\n",
       "{'garage': False, 'street': False, 'validated': False, 'lot': True, 'valet': False}     17454\n",
       "{'garage': False, 'street': False, 'validated': False, 'lot': False, 'valet': False}     9842\n",
       "{'garage': False, 'street': True, 'validated': False, 'lot': False, 'valet': False}      7223\n",
       "{'garage': False, 'street': True, 'validated': False, 'lot': True, 'valet': False}       2612\n",
       "None                                                                                      738\n",
       "Name: count, dtype: int64"
      ]
     },
     "execution_count": 55,
     "metadata": {},
     "output_type": "execute_result"
    }
   ],
   "source": [
    "df_b['BusinessParking'].value_counts().head(5)"
   ]
  },
  {
   "cell_type": "code",
   "execution_count": 56,
   "id": "ff8d55d1",
   "metadata": {},
   "outputs": [
    {
     "name": "stdout",
     "output_type": "stream",
     "text": [
      "{'validated', 'garage', 'street', 'lot', 'valet'}\n"
     ]
    }
   ],
   "source": [
    "# Convert the strings into dictionaries for 'BusinessParking' column\n",
    "df_b['BusinessParking'] = df_b['BusinessParking'].apply(lambda x: ast.literal_eval(x) if isinstance(x, str) else x)\n",
    "\n",
    "P_keys = set()\n",
    "\n",
    "# Iterate over each entry in the 'BusinessParking' column\n",
    "for attr in df_b['BusinessParking']:\n",
    "    if isinstance(attr, dict):  # check if the entry is a dictionary\n",
    "        P_keys.update(attr.keys())\n",
    "\n",
    "print(P_keys)"
   ]
  },
  {
   "cell_type": "markdown",
   "id": "612296fe",
   "metadata": {},
   "source": [
    "lets explode it to new columns: "
   ]
  },
  {
   "cell_type": "code",
   "execution_count": 57,
   "id": "7c254fea",
   "metadata": {},
   "outputs": [],
   "source": [
    "\n",
    "# For each key in 'BusinessParking', create a new column in the DataFrame\n",
    "for key in P_keys:\n",
    "    df_b[key] = df_b['BusinessParking'].apply(lambda x: x.get(key) if isinstance(x, dict) else np.nan)\n",
    "\n"
   ]
  },
  {
   "cell_type": "code",
   "execution_count": 58,
   "id": "c0798f5f",
   "metadata": {},
   "outputs": [
    {
     "name": "stdout",
     "output_type": "stream",
     "text": [
      "validated\n",
      "False    42712\n",
      "True       522\n",
      "Name: count, dtype: int64 \n",
      "\n",
      "garage\n",
      "False    41304\n",
      "True      2083\n",
      "Name: count, dtype: int64 \n",
      "\n",
      "street\n",
      "False    29893\n",
      "True     12483\n",
      "Name: count, dtype: int64 \n",
      "\n",
      "lot\n",
      "True     23177\n",
      "False    19959\n",
      "Name: count, dtype: int64 \n",
      "\n",
      "valet\n",
      "False    43785\n",
      "True      1085\n",
      "Name: count, dtype: int64 \n",
      "\n"
     ]
    }
   ],
   "source": [
    "for i in P_keys :\n",
    "    print(df_b[i].value_counts(),'\\n')"
   ]
  },
  {
   "cell_type": "code",
   "execution_count": 59,
   "id": "e008591a",
   "metadata": {},
   "outputs": [
    {
     "name": "stdout",
     "output_type": "stream",
     "text": [
      "ParkingAvailability\n",
      "True     40212\n",
      "False    11491\n",
      "Name: count, dtype: int64\n"
     ]
    }
   ],
   "source": [
    "# Convert the set to a list\n",
    "P_keys_list = list(P_keys)\n",
    "\n",
    "# Convert parking columns to boolean type\n",
    "df_b[P_keys_list] = df_b[P_keys_list].astype(bool)\n",
    "\n",
    "# Initialize the 'ParkingAvailability' column\n",
    "df_b['ParkingAvailability'] = False\n",
    "\n",
    "# Iterate through the parking keys and update 'ParkingAvailability'\n",
    "for col in P_keys_list:\n",
    "    df_b['ParkingAvailability'] |= df_b[col]\n",
    "\n",
    "# Print the value counts\n",
    "print(df_b['ParkingAvailability'].value_counts(dropna=False))\n"
   ]
  },
  {
   "cell_type": "code",
   "execution_count": 60,
   "id": "6fa719b9",
   "metadata": {},
   "outputs": [],
   "source": [
    "df_b.drop(columns=['validated', 'garage', 'valet', 'street', 'lot'], inplace=True)\n"
   ]
  },
  {
   "cell_type": "markdown",
   "id": "5a9c8dac",
   "metadata": {},
   "source": [
    "# Ambience Column"
   ]
  },
  {
   "cell_type": "code",
   "execution_count": 61,
   "id": "aa392ab1",
   "metadata": {},
   "outputs": [
    {
     "data": {
      "text/plain": [
       "{'casual',\n",
       " 'classy',\n",
       " 'divey',\n",
       " 'hipster',\n",
       " 'intimate',\n",
       " 'romantic',\n",
       " 'touristy',\n",
       " 'trendy',\n",
       " 'upscale'}"
      ]
     },
     "execution_count": 61,
     "metadata": {},
     "output_type": "execute_result"
    }
   ],
   "source": [
    "# Convert the strings into dictionaries for 'Ambience' column\n",
    "df_b['Ambience'] = df_b['Ambience'].apply(lambda x: ast.literal_eval(x) if isinstance(x, str) else x)\n",
    "\n",
    "# Initialize an empty set to store the keys in 'Ambience' column\n",
    "Ambience_keys = set()\n",
    "\n",
    "# Find all keys in 'Ambience' column\n",
    "for entry in df_b['Ambience']:\n",
    "    if isinstance(entry, dict):\n",
    "        Ambience_keys.update(entry.keys())\n",
    "\n",
    "# Now ambience_keys set contains all the unique keys present in the 'Ambience' column dictionaries\n",
    "Ambience_keys"
   ]
  },
  {
   "cell_type": "code",
   "execution_count": 62,
   "id": "fb8f1201",
   "metadata": {},
   "outputs": [],
   "source": [
    "# Convert the strings into dictionaries for 'Ambience' column\n",
    "df_b['Ambience'] = df_b['Ambience'].apply(lambda x: ast.literal_eval(x) if isinstance(x, str) else x)\n",
    "\n",
    "Ambience_keys = set()\n",
    "\n",
    "# Find all keys in 'Ambience' column without using dropna\n",
    "for entry in df_b['Ambience']:\n",
    "    if isinstance(entry, dict):\n",
    "        Ambience_keys.update(entry.keys())\n",
    "\n",
    "# For each key in 'Ambience', create a new column in the DataFrame and fill NaN values with False\n",
    "for key in Ambience_keys:\n",
    "    df_b[key] = df_b['Ambience'].apply(lambda x: x.get(key, False) if isinstance(x, dict) else False)\n"
   ]
  },
  {
   "cell_type": "code",
   "execution_count": 63,
   "id": "75b98e41",
   "metadata": {
    "scrolled": true
   },
   "outputs": [
    {
     "data": {
      "text/plain": [
       "Index(['attributes', 'Rating_Success', 'acai bowls', 'active life', 'african',\n",
       "       'arcades', 'asian fusion', 'automotive', 'bagels', 'bakeries',\n",
       "       ...\n",
       "       'ParkingAvailability', 'hipster', 'casual', 'romantic', 'intimate',\n",
       "       'upscale', 'classy', 'divey', 'trendy', 'touristy'],\n",
       "      dtype='object', length=146)"
      ]
     },
     "execution_count": 63,
     "metadata": {},
     "output_type": "execute_result"
    }
   ],
   "source": [
    "  df_b.columns"
   ]
  },
  {
   "cell_type": "code",
   "execution_count": 64,
   "id": "29e13b08",
   "metadata": {
    "scrolled": false
   },
   "outputs": [
    {
     "name": "stdout",
     "output_type": "stream",
     "text": [
      "hipster\n",
      "False    46754\n",
      "True       947\n",
      "Name: count, dtype: int64\n",
      "casual\n",
      "False    29691\n",
      "True     20066\n",
      "Name: count, dtype: int64\n",
      "romantic\n",
      "False    47943\n",
      "True       669\n",
      "Name: count, dtype: int64\n",
      "intimate\n",
      "False    46972\n",
      "True       784\n",
      "Name: count, dtype: int64\n",
      "upscale\n",
      "False    48706\n",
      "True       412\n",
      "Name: count, dtype: int64\n",
      "classy\n",
      "False    42630\n",
      "True      5704\n",
      "Name: count, dtype: int64\n",
      "divey\n",
      "False    46655\n",
      "True      1102\n",
      "Name: count, dtype: int64\n",
      "trendy\n",
      "False    44391\n",
      "True      2347\n",
      "Name: count, dtype: int64\n",
      "touristy\n",
      "False    48053\n",
      "True       283\n",
      "Name: count, dtype: int64\n"
     ]
    }
   ],
   "source": [
    "for i in Ambience_keys:\n",
    "    print(df_b[i].value_counts())"
   ]
  },
  {
   "cell_type": "markdown",
   "id": "186c6fd4",
   "metadata": {},
   "source": [
    "some of the ambiance columns have very few \"True\" values (e.g., touristy, upscale, romantic). To address this, I decided to combine them into broader categories, namely \"Casual\" and \"Classy.\" This consolidation allows me to end up with three ambiance columns: \"Casual,\" \"Classy,\" and \"Unknown.\"\n",
    "\n",
    "To achieve this, I followed the following grouping:\n",
    "\n",
    "**Casual: I combined the columns (divey, hipster, trendy) as they are related to a more relaxed and informal ambiance.**\n",
    "\n",
    "**Classy: I combined the columns (intimate, romantic, upscale) as they are associated with a more sophisticated and upscale ambiance.**\n",
    "\n",
    "By adopting this strategy, I can simplify the representation of ambiance factors while preserving their essential characteristics. The resulting ambiance columns provide a more balanced representation, allowing my logistic regression model to better capture the influence of ambiance on the target variable, which is the restaurant's rating (stars)."
   ]
  },
  {
   "cell_type": "code",
   "execution_count": 65,
   "id": "034f4205",
   "metadata": {},
   "outputs": [
    {
     "name": "stdout",
     "output_type": "stream",
     "text": [
      "hipster\n",
      "0.0    50756\n",
      "1.0      947\n",
      "Name: count, dtype: int64\n",
      "casual\n",
      "0.0    31637\n",
      "1.0    20066\n",
      "Name: count, dtype: int64\n",
      "romantic\n",
      "0.0    51034\n",
      "1.0      669\n",
      "Name: count, dtype: int64\n",
      "intimate\n",
      "0.0    50919\n",
      "1.0      784\n",
      "Name: count, dtype: int64\n",
      "upscale\n",
      "0.0    51291\n",
      "1.0      412\n",
      "Name: count, dtype: int64\n",
      "classy\n",
      "0.0    45999\n",
      "1.0     5704\n",
      "Name: count, dtype: int64\n",
      "divey\n",
      "0.0    50601\n",
      "1.0     1102\n",
      "Name: count, dtype: int64\n",
      "trendy\n",
      "0.0    49356\n",
      "1.0     2347\n",
      "Name: count, dtype: int64\n",
      "touristy\n",
      "0.0    51420\n",
      "1.0      283\n",
      "Name: count, dtype: int64\n"
     ]
    }
   ],
   "source": [
    "for i in Ambience_keys:\n",
    "    mapping = {\n",
    "        False: 0,\n",
    "        True: 1\n",
    "    }\n",
    "    df_b[i] = df_b[i].replace(mapping)\n",
    "    df_b[i].fillna(0,inplace=True)\n",
    "\n",
    "    # Sanity check: Display the counts of 0s and 1s in the current column\n",
    "    print(df_b[i].value_counts())\n"
   ]
  },
  {
   "cell_type": "markdown",
   "id": "e39c3c56",
   "metadata": {},
   "source": [
    "Now that the attributes column is completely unpacked, we can drop both the attributes, Ambience and the BusinessParking column from the DataFrame."
   ]
  },
  {
   "cell_type": "code",
   "execution_count": 66,
   "id": "e57fb85e",
   "metadata": {},
   "outputs": [],
   "source": [
    "df_b.drop(columns=['attributes', 'BusinessParking','Ambience'], inplace=True)\n"
   ]
  },
  {
   "cell_type": "markdown",
   "id": "d02425ab",
   "metadata": {},
   "source": [
    "Let's take a closer look at all the values in the columns that were exploded from the attributes column."
   ]
  },
  {
   "cell_type": "markdown",
   "id": "fa4e6913",
   "metadata": {},
   "source": [
    "# WIFI Column"
   ]
  },
  {
   "cell_type": "markdown",
   "id": "5f94c044",
   "metadata": {},
   "source": [
    "Based on the values in the `WiFi` column, we can convert it into a binary column, where '0' means no WiFi and '1' means WiFi is available. This simplifies the representation and makes it easier to understand the WiFi availability in the dataset."
   ]
  },
  {
   "cell_type": "code",
   "execution_count": 67,
   "id": "1b8f24f4",
   "metadata": {
    "scrolled": true
   },
   "outputs": [
    {
     "data": {
      "text/plain": [
       "WiFi\n",
       "u'free'    14938\n",
       "u'no'      11374\n",
       "'no'        5656\n",
       "'free'      5483\n",
       "u'paid'      166\n",
       "'paid'        95\n",
       "None          36\n",
       "Name: count, dtype: int64"
      ]
     },
     "execution_count": 67,
     "metadata": {},
     "output_type": "execute_result"
    }
   ],
   "source": [
    "df_b['WiFi'].value_counts()"
   ]
  },
  {
   "cell_type": "code",
   "execution_count": 68,
   "id": "29fbffb7",
   "metadata": {
    "scrolled": true
   },
   "outputs": [
    {
     "name": "stdout",
     "output_type": "stream",
     "text": [
      "WiFi\n",
      "1    20682\n",
      "0    17066\n",
      "Name: count, dtype: Int64\n"
     ]
    }
   ],
   "source": [
    "import numpy as np\n",
    "\n",
    "# Create a mapping to replace string values with corresponding integers\n",
    "wifi_mapping = {\n",
    "    0: 0,\n",
    "    \"'free'\": 1,\n",
    "    \"'no'\": 0,\n",
    "    \"'paid'\": 1,\n",
    "    \"u'free'\": 1,\n",
    "    \"u'no'\": 0,\n",
    "    \"None\": 0,  \n",
    "    \"'paid'\": 1,\n",
    "    \"u'paid'\": 1\n",
    "}\n",
    "\n",
    "# Replace the string values with corresponding integers\n",
    "df_b['WiFi'] = df_b['WiFi'].replace(wifi_mapping)\n",
    "\n",
    "# Convert the 'WiFi' column to integers\n",
    "df_b['WiFi'] = df_b['WiFi'].astype(float).astype('Int64')  # Use float and Int64 to support NaN\n",
    "\n",
    "# Sanity check\n",
    "print(df_b['WiFi'].value_counts())\n"
   ]
  },
  {
   "cell_type": "code",
   "execution_count": 69,
   "id": "8c2c1f7d",
   "metadata": {},
   "outputs": [],
   "source": [
    "df_b['WiFi'].fillna(0, inplace=True)"
   ]
  },
  {
   "cell_type": "markdown",
   "id": "503ed553",
   "metadata": {},
   "source": [
    "Now we itteretate the same process we did for WiFi for the rest of columns that extraxted from Attribute column"
   ]
  },
  {
   "cell_type": "markdown",
   "id": "364206b0",
   "metadata": {},
   "source": [
    "# OutdoorSeating"
   ]
  },
  {
   "cell_type": "code",
   "execution_count": 70,
   "id": "b1914d0e",
   "metadata": {
    "scrolled": true
   },
   "outputs": [
    {
     "data": {
      "text/plain": [
       "OutdoorSeating\n",
       "False    21912\n",
       "True     19970\n",
       "None      1757\n",
       "Name: count, dtype: int64"
      ]
     },
     "execution_count": 70,
     "metadata": {},
     "output_type": "execute_result"
    }
   ],
   "source": [
    "df_b['OutdoorSeating'].value_counts()"
   ]
  },
  {
   "cell_type": "code",
   "execution_count": 71,
   "id": "6d168542",
   "metadata": {
    "scrolled": true
   },
   "outputs": [
    {
     "name": "stdout",
     "output_type": "stream",
     "text": [
      "OutdoorSeating\n",
      "0    23669\n",
      "1    19970\n",
      "Name: count, dtype: Int64\n"
     ]
    }
   ],
   "source": [
    "import numpy as np\n",
    "\n",
    "# Create a mapping to replace string values with corresponding integers\n",
    "outdoor_seating_mapping = {\n",
    "    'False': 0,\n",
    "    'True': 1,\n",
    "    'None': 0  # Set 'None' to NaN instead of 0\n",
    "}\n",
    "\n",
    "# Replace the string values with corresponding integers in the 'OutdoorSeating' column\n",
    "df_b['OutdoorSeating'] = df_b['OutdoorSeating'].replace(outdoor_seating_mapping)\n",
    "\n",
    "# Convert the 'OutdoorSeating' column to integers\n",
    "df_b['OutdoorSeating'] = df_b['OutdoorSeating'].astype(float).astype('Int64')  # Use float and Int64 to support NaN\n",
    "\n",
    "# Sanity check: Display the counts of 0s and 1s in the 'OutdoorSeating' column\n",
    "print(df_b['OutdoorSeating'].value_counts())\n"
   ]
  },
  {
   "cell_type": "code",
   "execution_count": 72,
   "id": "8500185b",
   "metadata": {},
   "outputs": [],
   "source": [
    "df_b['OutdoorSeating'].fillna(0, inplace=True)"
   ]
  },
  {
   "cell_type": "markdown",
   "id": "d7774daa",
   "metadata": {},
   "source": [
    "# GoodForKids"
   ]
  },
  {
   "cell_type": "code",
   "execution_count": 73,
   "id": "3cfd2f2b",
   "metadata": {
    "scrolled": true
   },
   "outputs": [
    {
     "data": {
      "text/plain": [
       "GoodForKids\n",
       "True     34780\n",
       "False     6175\n",
       "None        22\n",
       "Name: count, dtype: int64"
      ]
     },
     "execution_count": 73,
     "metadata": {},
     "output_type": "execute_result"
    }
   ],
   "source": [
    "df_b['GoodForKids'].value_counts()"
   ]
  },
  {
   "cell_type": "code",
   "execution_count": 74,
   "id": "d48e97f0",
   "metadata": {},
   "outputs": [
    {
     "name": "stdout",
     "output_type": "stream",
     "text": [
      "GoodForKids\n",
      "1    34780\n",
      "0     6197\n",
      "Name: count, dtype: Int64\n"
     ]
    }
   ],
   "source": [
    "import numpy as np\n",
    "\n",
    "# Create a mapping to replace string values with corresponding integers\n",
    "good_for_kids_mapping = {\n",
    "    'False': 0,\n",
    "    'True': 1,\n",
    "    'None': 0  # Set 'None' to NaN instead of 0\n",
    "}\n",
    "\n",
    "# Replace the string values with corresponding integers in the 'GoodForKids' column\n",
    "df_b['GoodForKids'] = df_b['GoodForKids'].replace(good_for_kids_mapping)\n",
    "\n",
    "# Convert the 'GoodForKids' column to integers\n",
    "df_b['GoodForKids'] = df_b['GoodForKids'].astype(float).astype('Int64')  # Use float and Int64 to support NaN\n",
    "\n",
    "# Sanity check: Display the counts of 0s and 1s in the 'GoodForKids' column\n",
    "print(df_b['GoodForKids'].value_counts())\n"
   ]
  },
  {
   "cell_type": "code",
   "execution_count": 75,
   "id": "2e809e0b",
   "metadata": {},
   "outputs": [],
   "source": [
    "df_b['GoodForKids'].fillna(0, inplace=True)"
   ]
  },
  {
   "cell_type": "markdown",
   "id": "96531f7b",
   "metadata": {},
   "source": [
    "# RestaurantsDelivery"
   ]
  },
  {
   "cell_type": "code",
   "execution_count": 76,
   "id": "9fa30c06",
   "metadata": {
    "scrolled": true
   },
   "outputs": [
    {
     "data": {
      "text/plain": [
       "RestaurantsDelivery\n",
       "True     27563\n",
       "False    17495\n",
       "None      2596\n",
       "Name: count, dtype: int64"
      ]
     },
     "execution_count": 76,
     "metadata": {},
     "output_type": "execute_result"
    }
   ],
   "source": [
    "df_b['RestaurantsDelivery'].value_counts()"
   ]
  },
  {
   "cell_type": "code",
   "execution_count": 77,
   "id": "c5434221",
   "metadata": {
    "scrolled": false
   },
   "outputs": [
    {
     "name": "stdout",
     "output_type": "stream",
     "text": [
      "RestaurantsDelivery\n",
      "1    27563\n",
      "0    20091\n",
      "Name: count, dtype: Int64\n"
     ]
    }
   ],
   "source": [
    "import numpy as np\n",
    "\n",
    "# Create a mapping to replace string values with corresponding integers\n",
    "delivery_mapping = {\n",
    "    'False': 0,\n",
    "    'True': 1,\n",
    "    'None': 0  # Set 'None' to NaN instead of 0\n",
    "}\n",
    "\n",
    "# Replace the string values with corresponding integers in the 'RestaurantsDelivery' column\n",
    "df_b['RestaurantsDelivery'] = df_b['RestaurantsDelivery'].replace(delivery_mapping)\n",
    "\n",
    "# Convert the 'RestaurantsDelivery' column to integers\n",
    "df_b['RestaurantsDelivery'] = df_b['RestaurantsDelivery'].astype(float).astype('Int64')  # Use float and Int64 to support NaN\n",
    "\n",
    "# Sanity check: Display the counts of 0s and 1s in the 'RestaurantsDelivery' column\n",
    "print(df_b['RestaurantsDelivery'].value_counts())\n"
   ]
  },
  {
   "cell_type": "code",
   "execution_count": 78,
   "id": "a8ef4690",
   "metadata": {},
   "outputs": [],
   "source": [
    "df_b['RestaurantsDelivery'].fillna(0, inplace=True)"
   ]
  },
  {
   "cell_type": "markdown",
   "id": "7397b7a9",
   "metadata": {},
   "source": [
    "# RestaurantsReservations"
   ]
  },
  {
   "cell_type": "code",
   "execution_count": 79,
   "id": "138404fe",
   "metadata": {},
   "outputs": [
    {
     "data": {
      "text/plain": [
       "RestaurantsReservations\n",
       "False    28428\n",
       "True     14429\n",
       "None       249\n",
       "Name: count, dtype: int64"
      ]
     },
     "execution_count": 79,
     "metadata": {},
     "output_type": "execute_result"
    }
   ],
   "source": [
    "df_b['RestaurantsReservations'].value_counts()"
   ]
  },
  {
   "cell_type": "code",
   "execution_count": 80,
   "id": "f225fe17",
   "metadata": {},
   "outputs": [
    {
     "name": "stdout",
     "output_type": "stream",
     "text": [
      "RestaurantsReservations\n",
      "0    28677\n",
      "1    14429\n",
      "Name: count, dtype: Int64\n"
     ]
    }
   ],
   "source": [
    "import numpy as np\n",
    "\n",
    "# Create a mapping to replace string values with corresponding integers\n",
    "reservations_mapping = {\n",
    "    'False': 0,\n",
    "    'True': 1,\n",
    "    'None': 0  # Set 'None' to NaN instead of 0\n",
    "}\n",
    "\n",
    "# Replace the string values with corresponding integers in the 'RestaurantsReservations' column\n",
    "df_b['RestaurantsReservations'] = df_b['RestaurantsReservations'].replace(reservations_mapping)\n",
    "\n",
    "# Convert the 'RestaurantsReservations' column to integers\n",
    "df_b['RestaurantsReservations'] = df_b['RestaurantsReservations'].astype(float).astype('Int64')  # Use float and Int64 to support NaN\n",
    "\n",
    "# Sanity check: Display the counts of 0s and 1s in the 'RestaurantsReservations' column\n",
    "print(df_b['RestaurantsReservations'].value_counts())\n"
   ]
  },
  {
   "cell_type": "code",
   "execution_count": 81,
   "id": "b019bfa4",
   "metadata": {},
   "outputs": [],
   "source": [
    "df_b['RestaurantsReservations'].fillna(0, inplace=True)"
   ]
  },
  {
   "cell_type": "markdown",
   "id": "b5bb7969",
   "metadata": {},
   "source": [
    "# Caters"
   ]
  },
  {
   "cell_type": "code",
   "execution_count": 82,
   "id": "9656a8e2",
   "metadata": {
    "scrolled": true
   },
   "outputs": [
    {
     "data": {
      "text/plain": [
       "Caters\n",
       "True     20533\n",
       "False    13990\n",
       "None        47\n",
       "Name: count, dtype: int64"
      ]
     },
     "execution_count": 82,
     "metadata": {},
     "output_type": "execute_result"
    }
   ],
   "source": [
    "df_b['Caters'].value_counts()"
   ]
  },
  {
   "cell_type": "code",
   "execution_count": 83,
   "id": "e15b5991",
   "metadata": {},
   "outputs": [
    {
     "name": "stdout",
     "output_type": "stream",
     "text": [
      "Caters\n",
      "1    20533\n",
      "0    14037\n",
      "Name: count, dtype: Int64\n"
     ]
    }
   ],
   "source": [
    "import numpy as np\n",
    "\n",
    "# Create a mapping to replace string values with corresponding integers\n",
    "caters_mapping = {\n",
    "    'False': 0,\n",
    "    'True': 1,\n",
    "    'None': 0  # Set 'None' to NaN instead of 0\n",
    "}\n",
    "\n",
    "# Replace the string values with corresponding integers in the 'Caters' column\n",
    "df_b['Caters'] = df_b['Caters'].replace(caters_mapping)\n",
    "\n",
    "# Convert the 'Caters' column to integers\n",
    "df_b['Caters'] = df_b['Caters'].astype(float).astype('Int64')  # Use float and Int64 to support NaN\n",
    "\n",
    "# Sanity check: Display the counts of 0s and 1s in the 'Caters' column\n",
    "print(df_b['Caters'].value_counts())\n"
   ]
  },
  {
   "cell_type": "code",
   "execution_count": 84,
   "id": "a9488fca",
   "metadata": {},
   "outputs": [],
   "source": [
    "df_b['Caters'].fillna(0, inplace=True)"
   ]
  },
  {
   "cell_type": "markdown",
   "id": "88187a84",
   "metadata": {},
   "source": [
    "# RestaurantsGoodForGroups"
   ]
  },
  {
   "cell_type": "code",
   "execution_count": 85,
   "id": "63deaabb",
   "metadata": {},
   "outputs": [
    {
     "data": {
      "text/plain": [
       "RestaurantsGoodForGroups\n",
       "True     35579\n",
       "False     5840\n",
       "None        20\n",
       "Name: count, dtype: int64"
      ]
     },
     "execution_count": 85,
     "metadata": {},
     "output_type": "execute_result"
    }
   ],
   "source": [
    "df_b['RestaurantsGoodForGroups'].value_counts()"
   ]
  },
  {
   "cell_type": "code",
   "execution_count": 86,
   "id": "8267168b",
   "metadata": {
    "scrolled": true
   },
   "outputs": [
    {
     "name": "stdout",
     "output_type": "stream",
     "text": [
      "RestaurantsGoodForGroups\n",
      "1    35579\n",
      "0     5860\n",
      "Name: count, dtype: Int64\n"
     ]
    }
   ],
   "source": [
    "import numpy as np\n",
    "\n",
    "# Create a mapping to replace string values with corresponding integers\n",
    "good_for_groups_mapping = {\n",
    "    'False': 0,\n",
    "    'True': 1,\n",
    "    'None': 0  # Set 'None' to NaN instead of 0\n",
    "}\n",
    "\n",
    "# Replace the string values with corresponding integers in the 'RestaurantsGoodForGroups' column\n",
    "df_b['RestaurantsGoodForGroups'] = df_b['RestaurantsGoodForGroups'].replace(good_for_groups_mapping)\n",
    "\n",
    "# Convert the 'RestaurantsGoodForGroups' column to integers\n",
    "df_b['RestaurantsGoodForGroups'] = df_b['RestaurantsGoodForGroups'].astype(float).astype('Int64')  # Use float and Int64 to support NaN\n",
    "\n",
    "# Sanity check: Display the counts of 0s and 1s in the 'RestaurantsGoodForGroups' column\n",
    "print(df_b['RestaurantsGoodForGroups'].value_counts())\n"
   ]
  },
  {
   "cell_type": "code",
   "execution_count": 87,
   "id": "e557a854",
   "metadata": {},
   "outputs": [],
   "source": [
    "df_b['RestaurantsGoodForGroups'].fillna(0, inplace=True)"
   ]
  },
  {
   "cell_type": "markdown",
   "id": "22de81f3",
   "metadata": {},
   "source": [
    "# RestaurantsTakeOut"
   ]
  },
  {
   "cell_type": "code",
   "execution_count": 88,
   "id": "a7985afe",
   "metadata": {},
   "outputs": [
    {
     "data": {
      "text/plain": [
       "RestaurantsTakeOut\n",
       "True     45381\n",
       "False     2247\n",
       "None      1085\n",
       "Name: count, dtype: int64"
      ]
     },
     "execution_count": 88,
     "metadata": {},
     "output_type": "execute_result"
    }
   ],
   "source": [
    "df_b['RestaurantsTakeOut'].value_counts()"
   ]
  },
  {
   "cell_type": "code",
   "execution_count": 89,
   "id": "0e914d61",
   "metadata": {
    "scrolled": true
   },
   "outputs": [
    {
     "name": "stdout",
     "output_type": "stream",
     "text": [
      "RestaurantsTakeOut\n",
      "1    45381\n",
      "0     3332\n",
      "Name: count, dtype: Int64\n"
     ]
    }
   ],
   "source": [
    "import numpy as np\n",
    "\n",
    "# Create a mapping to replace string values with corresponding integers\n",
    "takeout_mapping = {\n",
    "    'False': 0,\n",
    "    'True': 1,\n",
    "    'None': 0  # Set 'None' to NaN instead of 0\n",
    "}\n",
    "\n",
    "# Replace the string values with corresponding integers in the 'RestaurantsTakeOut' column\n",
    "df_b['RestaurantsTakeOut'] = df_b['RestaurantsTakeOut'].replace(takeout_mapping)\n",
    "\n",
    "# Convert the 'RestaurantsTakeOut' column to integers\n",
    "df_b['RestaurantsTakeOut'] = df_b['RestaurantsTakeOut'].astype(float).astype('Int64')  # Use float and Int64 to support NaN\n",
    "\n",
    "# Sanity check: Display the counts of 0s and 1s in the 'RestaurantsTakeOut' column\n",
    "print(df_b['RestaurantsTakeOut'].value_counts())\n"
   ]
  },
  {
   "cell_type": "code",
   "execution_count": 90,
   "id": "9ddede75",
   "metadata": {},
   "outputs": [],
   "source": [
    "df_b['RestaurantsTakeOut'].fillna(0, inplace=True)"
   ]
  },
  {
   "cell_type": "markdown",
   "id": "7aeb3204",
   "metadata": {},
   "source": [
    "# Alcohol"
   ]
  },
  {
   "cell_type": "code",
   "execution_count": 91,
   "id": "f94607f4",
   "metadata": {},
   "outputs": [
    {
     "data": {
      "text/plain": [
       "Alcohol\n",
       "u'none'             15641\n",
       "u'full_bar'         11440\n",
       "'none'               4662\n",
       "u'beer_and_wine'     4589\n",
       "'full_bar'           2455\n",
       "'beer_and_wine'      1159\n",
       "None                   34\n",
       "Name: count, dtype: int64"
      ]
     },
     "execution_count": 91,
     "metadata": {},
     "output_type": "execute_result"
    }
   ],
   "source": [
    "df_b['Alcohol'].value_counts()"
   ]
  },
  {
   "cell_type": "code",
   "execution_count": 92,
   "id": "85a87f32",
   "metadata": {},
   "outputs": [
    {
     "name": "stdout",
     "output_type": "stream",
     "text": [
      "Alcohol\n",
      "0    20337\n",
      "1    19643\n",
      "Name: count, dtype: Int64\n"
     ]
    }
   ],
   "source": [
    "import numpy as np\n",
    "\n",
    "# Create a mapping to replace string values with corresponding integers\n",
    "alcohol_mapping = {\n",
    "    \"'none'\": 0,\n",
    "    \"'full_bar'\": 1,\n",
    "    \"u'none'\": 0,\n",
    "    \"u'full_bar'\": 1,\n",
    "    \"u'beer_and_wine'\": 1,\n",
    "    \"'beer_and_wine'\": 1,\n",
    "    \"None\": 0  # Set 'None' to NaN instead of 0\n",
    "}\n",
    "\n",
    "# Replace the string values with corresponding integers in the 'Alcohol' column\n",
    "df_b['Alcohol'] = df_b['Alcohol'].replace(alcohol_mapping)\n",
    "\n",
    "# Convert the 'Alcohol' column to integers\n",
    "df_b['Alcohol'] = df_b['Alcohol'].astype(float).astype('Int64')  # Use float and Int64 to support NaN\n",
    "\n",
    "# Sanity check: Display the counts of 0s and 1s in the 'Alcohol' column\n",
    "print(df_b['Alcohol'].value_counts())\n"
   ]
  },
  {
   "cell_type": "code",
   "execution_count": 93,
   "id": "3ab6ce70",
   "metadata": {},
   "outputs": [],
   "source": [
    "df_b['Alcohol'].fillna(0, inplace=True)"
   ]
  },
  {
   "cell_type": "markdown",
   "id": "be663fad",
   "metadata": {},
   "source": [
    "# RestaurantsAttire"
   ]
  },
  {
   "cell_type": "code",
   "execution_count": 94,
   "id": "1d11979f",
   "metadata": {},
   "outputs": [
    {
     "data": {
      "text/plain": [
       "RestaurantsAttire\n",
       "u'casual'    22976\n",
       "'casual'     15113\n",
       "u'dressy'      523\n",
       "'dressy'       273\n",
       "'formal'        38\n",
       "None            37\n",
       "u'formal'       32\n",
       "Name: count, dtype: int64"
      ]
     },
     "execution_count": 94,
     "metadata": {},
     "output_type": "execute_result"
    }
   ],
   "source": [
    "df_b['RestaurantsAttire'].value_counts()"
   ]
  },
  {
   "cell_type": "code",
   "execution_count": 95,
   "id": "5db79394",
   "metadata": {},
   "outputs": [
    {
     "name": "stdout",
     "output_type": "stream",
     "text": [
      "RestaurantsAttire\n",
      "0    38126\n",
      "1      866\n",
      "Name: count, dtype: Int64\n"
     ]
    }
   ],
   "source": [
    "import numpy as np\n",
    "\n",
    "# Create a mapping to replace string values with corresponding integers\n",
    "attire_mapping = {\n",
    "    \"u'casual'\": 0,\n",
    "    \"'casual'\": 0,\n",
    "    \"u'dressy'\": 1,\n",
    "    \"'dressy'\": 1,\n",
    "    \"u'formal'\": 1,\n",
    "    \"'formal'\": 1,\n",
    "    \"None\": 0  # Set 'None' to NaN instead of 0\n",
    "}\n",
    "\n",
    "# Replace the string values with corresponding integers in the 'RestaurantsAttire' column\n",
    "df_b['RestaurantsAttire'] = df_b['RestaurantsAttire'].replace(attire_mapping)\n",
    "\n",
    "# Convert the 'RestaurantsAttire' column to integers\n",
    "df_b['RestaurantsAttire'] = df_b['RestaurantsAttire'].astype(float).astype('Int64')  # Use float and Int64 to support NaN\n",
    "\n",
    "# Sanity check: Display the counts of 0s and 1s in the 'RestaurantsAttire' column\n",
    "print(df_b['RestaurantsAttire'].value_counts())\n"
   ]
  },
  {
   "cell_type": "code",
   "execution_count": 96,
   "id": "f6da8caf",
   "metadata": {},
   "outputs": [],
   "source": [
    "df_b['RestaurantsAttire'].fillna(0, inplace=True)"
   ]
  },
  {
   "cell_type": "markdown",
   "id": "5a30bd45",
   "metadata": {},
   "source": [
    "# HappyHour"
   ]
  },
  {
   "cell_type": "code",
   "execution_count": 97,
   "id": "42d24d49",
   "metadata": {
    "scrolled": true
   },
   "outputs": [
    {
     "data": {
      "text/plain": [
       "HappyHour\n",
       "True     8530\n",
       "False    4477\n",
       "None        2\n",
       "Name: count, dtype: int64"
      ]
     },
     "execution_count": 97,
     "metadata": {},
     "output_type": "execute_result"
    }
   ],
   "source": [
    "df_b['HappyHour'].value_counts()"
   ]
  },
  {
   "cell_type": "code",
   "execution_count": 98,
   "id": "627b2982",
   "metadata": {},
   "outputs": [],
   "source": [
    "import numpy as np\n",
    "\n",
    "# Create a mapping to replace string values with corresponding integers\n",
    "happy_hour_mapping = {\n",
    "    'False': 0,\n",
    "    'True': 1,\n",
    "    'None': 0  # Set 'None' to NaN instead of 0\n",
    "}\n",
    "\n",
    "# Replace the string values with corresponding integers in the 'HappyHour' column\n",
    "df_b['HappyHour'] = df_b['HappyHour'].replace(happy_hour_mapping)\n",
    "\n"
   ]
  },
  {
   "cell_type": "code",
   "execution_count": 99,
   "id": "6443f7fd",
   "metadata": {},
   "outputs": [],
   "source": [
    "df_b['HappyHour'].fillna(0, inplace=True)"
   ]
  },
  {
   "cell_type": "markdown",
   "id": "db6b4c46",
   "metadata": {},
   "source": [
    "# WheelchairAccessible"
   ]
  },
  {
   "cell_type": "code",
   "execution_count": 100,
   "id": "134d38c3",
   "metadata": {
    "scrolled": true
   },
   "outputs": [
    {
     "data": {
      "text/plain": [
       "WheelchairAccessible\n",
       "True     12508\n",
       "False     1038\n",
       "None         9\n",
       "Name: count, dtype: int64"
      ]
     },
     "execution_count": 100,
     "metadata": {},
     "output_type": "execute_result"
    }
   ],
   "source": [
    "df_b['WheelchairAccessible'].value_counts()"
   ]
  },
  {
   "cell_type": "code",
   "execution_count": 101,
   "id": "725814cf",
   "metadata": {
    "scrolled": true
   },
   "outputs": [
    {
     "name": "stdout",
     "output_type": "stream",
     "text": [
      "WheelchairAccessible\n",
      "1    12508\n",
      "0     1047\n",
      "Name: count, dtype: Int64\n"
     ]
    }
   ],
   "source": [
    "import numpy as np\n",
    "\n",
    "# Create a mapping to replace string values with corresponding integers\n",
    "wheelchair_mapping = {\n",
    "    'False': 0,\n",
    "    'True': 1,\n",
    "    'None': 0  # Set 'None' to NaN instead of 0\n",
    "}\n",
    "\n",
    "# Replace the string values with corresponding integers in the 'WheelchairAccessible' column\n",
    "df_b['WheelchairAccessible'] = df_b['WheelchairAccessible'].replace(wheelchair_mapping)\n",
    "\n",
    "# Convert the 'WheelchairAccessible' column to integers\n",
    "df_b['WheelchairAccessible'] = df_b['WheelchairAccessible'].astype(float).astype('Int64')  # Use float and Int64 to support NaN\n",
    "\n",
    "# Sanity check: Display the counts of 0s and 1s in the 'WheelchairAccessible' column\n",
    "print(df_b['WheelchairAccessible'].value_counts())\n"
   ]
  },
  {
   "cell_type": "code",
   "execution_count": 102,
   "id": "7f19d510",
   "metadata": {},
   "outputs": [],
   "source": [
    "df_b['WheelchairAccessible'].fillna(0, inplace=True)"
   ]
  },
  {
   "cell_type": "markdown",
   "id": "1adbe64f",
   "metadata": {},
   "source": [
    "# BikeParking"
   ]
  },
  {
   "cell_type": "code",
   "execution_count": 103,
   "id": "1d816178",
   "metadata": {},
   "outputs": [
    {
     "data": {
      "text/plain": [
       "BikeParking\n",
       "True     26182\n",
       "False     9267\n",
       "None        34\n",
       "Name: count, dtype: int64"
      ]
     },
     "execution_count": 103,
     "metadata": {},
     "output_type": "execute_result"
    }
   ],
   "source": [
    "df_b['BikeParking'].value_counts()"
   ]
  },
  {
   "cell_type": "code",
   "execution_count": 104,
   "id": "9298c675",
   "metadata": {},
   "outputs": [
    {
     "name": "stdout",
     "output_type": "stream",
     "text": [
      "BikeParking\n",
      "1    26182\n",
      "0     9301\n",
      "Name: count, dtype: Int64\n"
     ]
    }
   ],
   "source": [
    "import numpy as np\n",
    "\n",
    "# Create a mapping to replace string values with corresponding integers\n",
    "bike_parking_mapping = {\n",
    "    'False': 0,\n",
    "    'True': 1,\n",
    "    'None': 0  # Set 'None' to NaN instead of 0\n",
    "}\n",
    "\n",
    "# Replace the string values with corresponding integers in the 'BikeParking' column\n",
    "df_b['BikeParking'] = df_b['BikeParking'].replace(bike_parking_mapping)\n",
    "\n",
    "# Convert the 'BikeParking' column to integers\n",
    "df_b['BikeParking'] = df_b['BikeParking'].astype(float).astype('Int64')  # Use float and Int64 to support NaN\n",
    "\n",
    "# Sanity check: Display the counts of 0s and 1s in the 'BikeParking' column\n",
    "print(df_b['BikeParking'].value_counts())\n"
   ]
  },
  {
   "cell_type": "code",
   "execution_count": 105,
   "id": "6f73b212",
   "metadata": {},
   "outputs": [],
   "source": [
    "df_b['BikeParking'].fillna(0, inplace=True)"
   ]
  },
  {
   "cell_type": "markdown",
   "id": "9c8fd3c9",
   "metadata": {},
   "source": [
    "# NoiseLevel"
   ]
  },
  {
   "cell_type": "code",
   "execution_count": 106,
   "id": "e1447dc4",
   "metadata": {
    "scrolled": true
   },
   "outputs": [
    {
     "data": {
      "text/plain": [
       "NoiseLevel\n",
       "u'average'      20087\n",
       "u'quiet'         6031\n",
       "'average'        4356\n",
       "u'loud'          1991\n",
       "'quiet'          1132\n",
       "u'very_loud'      721\n",
       "'loud'            373\n",
       "'very_loud'       117\n",
       "None               37\n",
       "Name: count, dtype: int64"
      ]
     },
     "execution_count": 106,
     "metadata": {},
     "output_type": "execute_result"
    }
   ],
   "source": [
    "df_b['NoiseLevel'].value_counts()"
   ]
  },
  {
   "cell_type": "code",
   "execution_count": 107,
   "id": "eee93304",
   "metadata": {},
   "outputs": [
    {
     "name": "stdout",
     "output_type": "stream",
     "text": [
      "NoiseLevel\n",
      "Avg      24480\n",
      "Quiet     7163\n",
      "Loud      3202\n",
      "Name: count, dtype: int64\n"
     ]
    }
   ],
   "source": [
    "# Create a mapping to replace string values with corresponding integers\n",
    "attire_mapping = {\n",
    "    \"u'average'\": 'Avg',\n",
    "    \"'average'\": 'Avg',\n",
    "    \"'quiet'\": 'Quiet',\n",
    "    \"u'quiet'\": 'Quiet',\n",
    "    \"'loud'\": 'Loud',\n",
    "    \"'very_loud'\": 'Loud',\n",
    "    \"u'loud'\" :'Loud',\n",
    "    \"u'very_loud'\" : 'Loud',\n",
    "    \"None\": 'Avg'\n",
    "}\n",
    "\n",
    "# Replace the string values with corresponding integers in the 'NoiseLevel' column\n",
    "df_b['NoiseLevel'] = df_b['NoiseLevel'].replace(attire_mapping)\n",
    "\n",
    "# Fill any NaN values in the 'NoiseLevel' column with 0\n",
    "#df_b['NoiseLevel'].fillna(0, inplace=True)\n",
    "\n",
    "# Convert the 'NoiseLevel' column to integers\n",
    "#df_b['NoiseLevel'] = df_b['NoiseLevel'].astype(int)\n",
    "\n",
    "# Sanity check: Display the counts of 0s and 1s in the 'NoiseLevel' column\n",
    "print(df_b['NoiseLevel'].value_counts())\n"
   ]
  },
  {
   "cell_type": "code",
   "execution_count": 108,
   "id": "a14f6a75",
   "metadata": {},
   "outputs": [],
   "source": [
    "# Create dummy variables for the 'NoiseLevel' column and replace the original column with the dummy variables\n",
    "\n",
    "df_b = pd.get_dummies(df_b, columns=['NoiseLevel'], prefix='NoiseLevel', drop_first=True)"
   ]
  },
  {
   "cell_type": "markdown",
   "id": "10cff2da",
   "metadata": {},
   "source": [
    "# RestaurantsPriceRange2"
   ]
  },
  {
   "cell_type": "code",
   "execution_count": 109,
   "id": "fda05ab6",
   "metadata": {},
   "outputs": [
    {
     "data": {
      "text/plain": [
       "RestaurantsPriceRange2\n",
       "2       23119\n",
       "1       19509\n",
       "3        1662\n",
       "4         194\n",
       "None       16\n",
       "Name: count, dtype: int64"
      ]
     },
     "execution_count": 109,
     "metadata": {},
     "output_type": "execute_result"
    }
   ],
   "source": [
    "df_b['RestaurantsPriceRange2'].value_counts()"
   ]
  },
  {
   "cell_type": "code",
   "execution_count": 110,
   "id": "809848b6",
   "metadata": {
    "scrolled": true
   },
   "outputs": [],
   "source": [
    "# Create dummy variables for the 'RestaurantsPriceRange2' column and replace the original column with the dummy variables\n",
    "df_b = pd.get_dummies(df_b, columns=['RestaurantsPriceRange2'], prefix='PriceRange', drop_first=True)\n"
   ]
  },
  {
   "cell_type": "code",
   "execution_count": 111,
   "id": "af73c8dd",
   "metadata": {
    "scrolled": false
   },
   "outputs": [
    {
     "name": "stdout",
     "output_type": "stream",
     "text": [
      "<class 'pandas.core.frame.DataFrame'>\n",
      "RangeIndex: 51703 entries, 0 to 51702\n",
      "Columns: 147 entries, Rating_Success to PriceRange_None\n",
      "dtypes: Int64(12), bool(8), float64(10), int64(117)\n",
      "memory usage: 55.8 MB\n"
     ]
    }
   ],
   "source": [
    "df_b.info()"
   ]
  },
  {
   "cell_type": "code",
   "execution_count": 112,
   "id": "f06da103",
   "metadata": {
    "scrolled": true
   },
   "outputs": [
    {
     "data": {
      "text/html": [
       "<div>\n",
       "<style scoped>\n",
       "    .dataframe tbody tr th:only-of-type {\n",
       "        vertical-align: middle;\n",
       "    }\n",
       "\n",
       "    .dataframe tbody tr th {\n",
       "        vertical-align: top;\n",
       "    }\n",
       "\n",
       "    .dataframe thead th {\n",
       "        text-align: right;\n",
       "    }\n",
       "</style>\n",
       "<table border=\"1\" class=\"dataframe\">\n",
       "  <thead>\n",
       "    <tr style=\"text-align: right;\">\n",
       "      <th></th>\n",
       "      <th>Rating_Success</th>\n",
       "      <th>acai bowls</th>\n",
       "      <th>active life</th>\n",
       "      <th>african</th>\n",
       "      <th>arcades</th>\n",
       "      <th>asian fusion</th>\n",
       "      <th>automotive</th>\n",
       "      <th>bagels</th>\n",
       "      <th>bakeries</th>\n",
       "      <th>barbeque</th>\n",
       "      <th>beer bar</th>\n",
       "      <th>beer gardens</th>\n",
       "      <th>breakfast &amp; brunch</th>\n",
       "      <th>bubble tea</th>\n",
       "      <th>buffets</th>\n",
       "      <th>burgers</th>\n",
       "      <th>cafes</th>\n",
       "      <th>cajun/creole</th>\n",
       "      <th>canadian (new)</th>\n",
       "      <th>caribbean</th>\n",
       "      <th>cheesesteaks</th>\n",
       "      <th>chicken shop</th>\n",
       "      <th>chicken wings</th>\n",
       "      <th>chinese</th>\n",
       "      <th>cocktail bars</th>\n",
       "      <th>coffee &amp; tea</th>\n",
       "      <th>coffee roasteries</th>\n",
       "      <th>comfort food</th>\n",
       "      <th>creperies</th>\n",
       "      <th>cuban</th>\n",
       "      <th>dance clubs</th>\n",
       "      <th>delis</th>\n",
       "      <th>desserts</th>\n",
       "      <th>dim sum</th>\n",
       "      <th>diners</th>\n",
       "      <th>dive bars</th>\n",
       "      <th>donuts</th>\n",
       "      <th>ethnic food</th>\n",
       "      <th>falafel</th>\n",
       "      <th>farmers market</th>\n",
       "      <th>fast food</th>\n",
       "      <th>filipino</th>\n",
       "      <th>fish &amp; chips</th>\n",
       "      <th>food court</th>\n",
       "      <th>food delivery services</th>\n",
       "      <th>food stands</th>\n",
       "      <th>food trucks</th>\n",
       "      <th>french</th>\n",
       "      <th>fruits &amp; veggies</th>\n",
       "      <th>gastropubs</th>\n",
       "      <th>german</th>\n",
       "      <th>gluten-free</th>\n",
       "      <th>greek</th>\n",
       "      <th>grocery</th>\n",
       "      <th>halal</th>\n",
       "      <th>health markets</th>\n",
       "      <th>hookah bars</th>\n",
       "      <th>hot dogs</th>\n",
       "      <th>hotels</th>\n",
       "      <th>ice cream &amp; frozen yogurt</th>\n",
       "      <th>imported food</th>\n",
       "      <th>indian</th>\n",
       "      <th>irish</th>\n",
       "      <th>irish pub</th>\n",
       "      <th>italian</th>\n",
       "      <th>jazz &amp; blues</th>\n",
       "      <th>juice bars &amp; smoothies</th>\n",
       "      <th>karaoke</th>\n",
       "      <th>korean</th>\n",
       "      <th>latin american</th>\n",
       "      <th>local flavor</th>\n",
       "      <th>lounges</th>\n",
       "      <th>meat shops</th>\n",
       "      <th>mediterranean</th>\n",
       "      <th>middle eastern</th>\n",
       "      <th>modern european</th>\n",
       "      <th>new mexican cuisine</th>\n",
       "      <th>noodles</th>\n",
       "      <th>pakistani</th>\n",
       "      <th>party &amp; event planning</th>\n",
       "      <th>pasta shops</th>\n",
       "      <th>pizza</th>\n",
       "      <th>pubs</th>\n",
       "      <th>ramen</th>\n",
       "      <th>salad</th>\n",
       "      <th>sandwiches</th>\n",
       "      <th>seafood</th>\n",
       "      <th>seafood markets</th>\n",
       "      <th>shopping</th>\n",
       "      <th>soul food</th>\n",
       "      <th>soup</th>\n",
       "      <th>southern</th>\n",
       "      <th>spanish</th>\n",
       "      <th>sports bars</th>\n",
       "      <th>steakhouses</th>\n",
       "      <th>street vendors</th>\n",
       "      <th>szechuan</th>\n",
       "      <th>tapas bars</th>\n",
       "      <th>tapas/small plates</th>\n",
       "      <th>tea rooms</th>\n",
       "      <th>tex-mex</th>\n",
       "      <th>thai</th>\n",
       "      <th>vegan</th>\n",
       "      <th>vegetarian</th>\n",
       "      <th>venues &amp; event spaces</th>\n",
       "      <th>vietnamese</th>\n",
       "      <th>waffles</th>\n",
       "      <th>wine bars</th>\n",
       "      <th>wraps</th>\n",
       "      <th>American_cuisine</th>\n",
       "      <th>Bars_nightlife</th>\n",
       "      <th>Beer_wine_spirits</th>\n",
       "      <th>Caterers_event_planning</th>\n",
       "      <th>Specialty_food</th>\n",
       "      <th>Japanese</th>\n",
       "      <th>BrewPub</th>\n",
       "      <th>Hawaiian_poke</th>\n",
       "      <th>Mexican_tacos</th>\n",
       "      <th>WiFi</th>\n",
       "      <th>OutdoorSeating</th>\n",
       "      <th>GoodForKids</th>\n",
       "      <th>RestaurantsDelivery</th>\n",
       "      <th>RestaurantsReservations</th>\n",
       "      <th>Caters</th>\n",
       "      <th>RestaurantsGoodForGroups</th>\n",
       "      <th>RestaurantsTakeOut</th>\n",
       "      <th>Alcohol</th>\n",
       "      <th>RestaurantsAttire</th>\n",
       "      <th>HappyHour</th>\n",
       "      <th>WheelchairAccessible</th>\n",
       "      <th>BikeParking</th>\n",
       "      <th>ParkingAvailability</th>\n",
       "      <th>hipster</th>\n",
       "      <th>casual</th>\n",
       "      <th>romantic</th>\n",
       "      <th>intimate</th>\n",
       "      <th>upscale</th>\n",
       "      <th>classy</th>\n",
       "      <th>divey</th>\n",
       "      <th>trendy</th>\n",
       "      <th>touristy</th>\n",
       "      <th>NoiseLevel_Loud</th>\n",
       "      <th>NoiseLevel_Quiet</th>\n",
       "      <th>PriceRange_2</th>\n",
       "      <th>PriceRange_3</th>\n",
       "      <th>PriceRange_4</th>\n",
       "      <th>PriceRange_None</th>\n",
       "    </tr>\n",
       "  </thead>\n",
       "  <tbody>\n",
       "    <tr>\n",
       "      <th>0</th>\n",
       "      <td>1</td>\n",
       "      <td>0</td>\n",
       "      <td>0</td>\n",
       "      <td>0</td>\n",
       "      <td>0</td>\n",
       "      <td>0</td>\n",
       "      <td>0</td>\n",
       "      <td>0</td>\n",
       "      <td>1</td>\n",
       "      <td>0</td>\n",
       "      <td>0</td>\n",
       "      <td>0</td>\n",
       "      <td>0</td>\n",
       "      <td>1</td>\n",
       "      <td>0</td>\n",
       "      <td>0</td>\n",
       "      <td>0</td>\n",
       "      <td>0</td>\n",
       "      <td>0</td>\n",
       "      <td>0</td>\n",
       "      <td>0</td>\n",
       "      <td>0</td>\n",
       "      <td>0</td>\n",
       "      <td>0</td>\n",
       "      <td>0</td>\n",
       "      <td>1</td>\n",
       "      <td>0</td>\n",
       "      <td>0</td>\n",
       "      <td>0</td>\n",
       "      <td>0</td>\n",
       "      <td>0</td>\n",
       "      <td>0</td>\n",
       "      <td>0</td>\n",
       "      <td>0</td>\n",
       "      <td>0</td>\n",
       "      <td>0</td>\n",
       "      <td>0</td>\n",
       "      <td>0</td>\n",
       "      <td>0</td>\n",
       "      <td>0</td>\n",
       "      <td>0</td>\n",
       "      <td>0</td>\n",
       "      <td>0</td>\n",
       "      <td>0</td>\n",
       "      <td>0</td>\n",
       "      <td>0</td>\n",
       "      <td>0</td>\n",
       "      <td>0</td>\n",
       "      <td>0</td>\n",
       "      <td>0</td>\n",
       "      <td>0</td>\n",
       "      <td>0</td>\n",
       "      <td>0</td>\n",
       "      <td>0</td>\n",
       "      <td>0</td>\n",
       "      <td>0</td>\n",
       "      <td>0</td>\n",
       "      <td>0</td>\n",
       "      <td>0</td>\n",
       "      <td>0</td>\n",
       "      <td>0</td>\n",
       "      <td>0</td>\n",
       "      <td>0</td>\n",
       "      <td>0</td>\n",
       "      <td>0</td>\n",
       "      <td>0</td>\n",
       "      <td>0</td>\n",
       "      <td>0</td>\n",
       "      <td>0</td>\n",
       "      <td>0</td>\n",
       "      <td>0</td>\n",
       "      <td>0</td>\n",
       "      <td>0</td>\n",
       "      <td>0</td>\n",
       "      <td>0</td>\n",
       "      <td>0</td>\n",
       "      <td>0</td>\n",
       "      <td>0</td>\n",
       "      <td>0</td>\n",
       "      <td>0</td>\n",
       "      <td>0</td>\n",
       "      <td>0</td>\n",
       "      <td>0</td>\n",
       "      <td>0</td>\n",
       "      <td>0</td>\n",
       "      <td>0</td>\n",
       "      <td>0</td>\n",
       "      <td>0</td>\n",
       "      <td>0</td>\n",
       "      <td>0</td>\n",
       "      <td>0</td>\n",
       "      <td>0</td>\n",
       "      <td>0</td>\n",
       "      <td>0</td>\n",
       "      <td>0</td>\n",
       "      <td>0</td>\n",
       "      <td>0</td>\n",
       "      <td>0</td>\n",
       "      <td>0</td>\n",
       "      <td>0</td>\n",
       "      <td>0</td>\n",
       "      <td>0</td>\n",
       "      <td>0</td>\n",
       "      <td>0</td>\n",
       "      <td>0</td>\n",
       "      <td>0</td>\n",
       "      <td>0</td>\n",
       "      <td>0</td>\n",
       "      <td>0</td>\n",
       "      <td>False</td>\n",
       "      <td>0</td>\n",
       "      <td>0</td>\n",
       "      <td>0</td>\n",
       "      <td>0</td>\n",
       "      <td>0</td>\n",
       "      <td>0</td>\n",
       "      <td>0</td>\n",
       "      <td>0</td>\n",
       "      <td>1</td>\n",
       "      <td>0</td>\n",
       "      <td>0</td>\n",
       "      <td>0</td>\n",
       "      <td>0</td>\n",
       "      <td>1</td>\n",
       "      <td>0</td>\n",
       "      <td>1</td>\n",
       "      <td>0</td>\n",
       "      <td>0</td>\n",
       "      <td>0.0</td>\n",
       "      <td>0</td>\n",
       "      <td>1</td>\n",
       "      <td>True</td>\n",
       "      <td>0.0</td>\n",
       "      <td>0.0</td>\n",
       "      <td>0.0</td>\n",
       "      <td>0.0</td>\n",
       "      <td>0.0</td>\n",
       "      <td>0.0</td>\n",
       "      <td>0.0</td>\n",
       "      <td>0.0</td>\n",
       "      <td>0.0</td>\n",
       "      <td>False</td>\n",
       "      <td>False</td>\n",
       "      <td>False</td>\n",
       "      <td>False</td>\n",
       "      <td>False</td>\n",
       "      <td>False</td>\n",
       "    </tr>\n",
       "    <tr>\n",
       "      <th>1</th>\n",
       "      <td>0</td>\n",
       "      <td>0</td>\n",
       "      <td>0</td>\n",
       "      <td>0</td>\n",
       "      <td>0</td>\n",
       "      <td>0</td>\n",
       "      <td>0</td>\n",
       "      <td>0</td>\n",
       "      <td>0</td>\n",
       "      <td>0</td>\n",
       "      <td>0</td>\n",
       "      <td>0</td>\n",
       "      <td>0</td>\n",
       "      <td>0</td>\n",
       "      <td>0</td>\n",
       "      <td>1</td>\n",
       "      <td>0</td>\n",
       "      <td>0</td>\n",
       "      <td>0</td>\n",
       "      <td>0</td>\n",
       "      <td>0</td>\n",
       "      <td>0</td>\n",
       "      <td>0</td>\n",
       "      <td>0</td>\n",
       "      <td>0</td>\n",
       "      <td>0</td>\n",
       "      <td>0</td>\n",
       "      <td>0</td>\n",
       "      <td>0</td>\n",
       "      <td>0</td>\n",
       "      <td>0</td>\n",
       "      <td>0</td>\n",
       "      <td>0</td>\n",
       "      <td>0</td>\n",
       "      <td>0</td>\n",
       "      <td>0</td>\n",
       "      <td>0</td>\n",
       "      <td>0</td>\n",
       "      <td>0</td>\n",
       "      <td>0</td>\n",
       "      <td>1</td>\n",
       "      <td>0</td>\n",
       "      <td>0</td>\n",
       "      <td>0</td>\n",
       "      <td>0</td>\n",
       "      <td>0</td>\n",
       "      <td>0</td>\n",
       "      <td>0</td>\n",
       "      <td>0</td>\n",
       "      <td>0</td>\n",
       "      <td>0</td>\n",
       "      <td>0</td>\n",
       "      <td>0</td>\n",
       "      <td>0</td>\n",
       "      <td>0</td>\n",
       "      <td>0</td>\n",
       "      <td>0</td>\n",
       "      <td>0</td>\n",
       "      <td>0</td>\n",
       "      <td>1</td>\n",
       "      <td>0</td>\n",
       "      <td>0</td>\n",
       "      <td>0</td>\n",
       "      <td>0</td>\n",
       "      <td>0</td>\n",
       "      <td>0</td>\n",
       "      <td>0</td>\n",
       "      <td>0</td>\n",
       "      <td>0</td>\n",
       "      <td>0</td>\n",
       "      <td>0</td>\n",
       "      <td>0</td>\n",
       "      <td>0</td>\n",
       "      <td>0</td>\n",
       "      <td>0</td>\n",
       "      <td>0</td>\n",
       "      <td>0</td>\n",
       "      <td>0</td>\n",
       "      <td>0</td>\n",
       "      <td>0</td>\n",
       "      <td>0</td>\n",
       "      <td>0</td>\n",
       "      <td>0</td>\n",
       "      <td>0</td>\n",
       "      <td>0</td>\n",
       "      <td>1</td>\n",
       "      <td>0</td>\n",
       "      <td>0</td>\n",
       "      <td>0</td>\n",
       "      <td>0</td>\n",
       "      <td>0</td>\n",
       "      <td>0</td>\n",
       "      <td>0</td>\n",
       "      <td>0</td>\n",
       "      <td>0</td>\n",
       "      <td>0</td>\n",
       "      <td>0</td>\n",
       "      <td>0</td>\n",
       "      <td>0</td>\n",
       "      <td>0</td>\n",
       "      <td>0</td>\n",
       "      <td>0</td>\n",
       "      <td>0</td>\n",
       "      <td>0</td>\n",
       "      <td>0</td>\n",
       "      <td>0</td>\n",
       "      <td>0</td>\n",
       "      <td>0</td>\n",
       "      <td>0</td>\n",
       "      <td>False</td>\n",
       "      <td>0</td>\n",
       "      <td>0</td>\n",
       "      <td>0</td>\n",
       "      <td>0</td>\n",
       "      <td>0</td>\n",
       "      <td>0</td>\n",
       "      <td>0</td>\n",
       "      <td>0</td>\n",
       "      <td>0</td>\n",
       "      <td>1</td>\n",
       "      <td>1</td>\n",
       "      <td>1</td>\n",
       "      <td>0</td>\n",
       "      <td>0</td>\n",
       "      <td>1</td>\n",
       "      <td>1</td>\n",
       "      <td>0</td>\n",
       "      <td>0</td>\n",
       "      <td>0.0</td>\n",
       "      <td>1</td>\n",
       "      <td>0</td>\n",
       "      <td>True</td>\n",
       "      <td>0.0</td>\n",
       "      <td>0.0</td>\n",
       "      <td>0.0</td>\n",
       "      <td>0.0</td>\n",
       "      <td>0.0</td>\n",
       "      <td>0.0</td>\n",
       "      <td>0.0</td>\n",
       "      <td>0.0</td>\n",
       "      <td>0.0</td>\n",
       "      <td>False</td>\n",
       "      <td>False</td>\n",
       "      <td>False</td>\n",
       "      <td>False</td>\n",
       "      <td>False</td>\n",
       "      <td>False</td>\n",
       "    </tr>\n",
       "    <tr>\n",
       "      <th>2</th>\n",
       "      <td>0</td>\n",
       "      <td>0</td>\n",
       "      <td>0</td>\n",
       "      <td>0</td>\n",
       "      <td>0</td>\n",
       "      <td>0</td>\n",
       "      <td>0</td>\n",
       "      <td>0</td>\n",
       "      <td>0</td>\n",
       "      <td>0</td>\n",
       "      <td>0</td>\n",
       "      <td>0</td>\n",
       "      <td>0</td>\n",
       "      <td>0</td>\n",
       "      <td>0</td>\n",
       "      <td>0</td>\n",
       "      <td>0</td>\n",
       "      <td>0</td>\n",
       "      <td>0</td>\n",
       "      <td>0</td>\n",
       "      <td>0</td>\n",
       "      <td>0</td>\n",
       "      <td>0</td>\n",
       "      <td>0</td>\n",
       "      <td>0</td>\n",
       "      <td>0</td>\n",
       "      <td>0</td>\n",
       "      <td>0</td>\n",
       "      <td>0</td>\n",
       "      <td>0</td>\n",
       "      <td>0</td>\n",
       "      <td>0</td>\n",
       "      <td>0</td>\n",
       "      <td>0</td>\n",
       "      <td>0</td>\n",
       "      <td>0</td>\n",
       "      <td>0</td>\n",
       "      <td>0</td>\n",
       "      <td>0</td>\n",
       "      <td>0</td>\n",
       "      <td>0</td>\n",
       "      <td>0</td>\n",
       "      <td>0</td>\n",
       "      <td>0</td>\n",
       "      <td>0</td>\n",
       "      <td>0</td>\n",
       "      <td>0</td>\n",
       "      <td>0</td>\n",
       "      <td>0</td>\n",
       "      <td>0</td>\n",
       "      <td>0</td>\n",
       "      <td>0</td>\n",
       "      <td>1</td>\n",
       "      <td>0</td>\n",
       "      <td>0</td>\n",
       "      <td>0</td>\n",
       "      <td>0</td>\n",
       "      <td>0</td>\n",
       "      <td>0</td>\n",
       "      <td>0</td>\n",
       "      <td>0</td>\n",
       "      <td>0</td>\n",
       "      <td>0</td>\n",
       "      <td>0</td>\n",
       "      <td>1</td>\n",
       "      <td>0</td>\n",
       "      <td>0</td>\n",
       "      <td>0</td>\n",
       "      <td>0</td>\n",
       "      <td>0</td>\n",
       "      <td>0</td>\n",
       "      <td>0</td>\n",
       "      <td>0</td>\n",
       "      <td>0</td>\n",
       "      <td>0</td>\n",
       "      <td>0</td>\n",
       "      <td>0</td>\n",
       "      <td>0</td>\n",
       "      <td>0</td>\n",
       "      <td>0</td>\n",
       "      <td>0</td>\n",
       "      <td>0</td>\n",
       "      <td>1</td>\n",
       "      <td>0</td>\n",
       "      <td>0</td>\n",
       "      <td>0</td>\n",
       "      <td>0</td>\n",
       "      <td>0</td>\n",
       "      <td>0</td>\n",
       "      <td>0</td>\n",
       "      <td>0</td>\n",
       "      <td>0</td>\n",
       "      <td>0</td>\n",
       "      <td>0</td>\n",
       "      <td>0</td>\n",
       "      <td>0</td>\n",
       "      <td>0</td>\n",
       "      <td>0</td>\n",
       "      <td>0</td>\n",
       "      <td>0</td>\n",
       "      <td>0</td>\n",
       "      <td>0</td>\n",
       "      <td>0</td>\n",
       "      <td>0</td>\n",
       "      <td>0</td>\n",
       "      <td>0</td>\n",
       "      <td>0</td>\n",
       "      <td>0</td>\n",
       "      <td>0</td>\n",
       "      <td>True</td>\n",
       "      <td>1</td>\n",
       "      <td>0</td>\n",
       "      <td>0</td>\n",
       "      <td>0</td>\n",
       "      <td>0</td>\n",
       "      <td>0</td>\n",
       "      <td>0</td>\n",
       "      <td>0</td>\n",
       "      <td>1</td>\n",
       "      <td>1</td>\n",
       "      <td>1</td>\n",
       "      <td>0</td>\n",
       "      <td>0</td>\n",
       "      <td>1</td>\n",
       "      <td>1</td>\n",
       "      <td>1</td>\n",
       "      <td>1</td>\n",
       "      <td>0</td>\n",
       "      <td>0.0</td>\n",
       "      <td>0</td>\n",
       "      <td>0</td>\n",
       "      <td>True</td>\n",
       "      <td>0.0</td>\n",
       "      <td>0.0</td>\n",
       "      <td>0.0</td>\n",
       "      <td>0.0</td>\n",
       "      <td>0.0</td>\n",
       "      <td>0.0</td>\n",
       "      <td>0.0</td>\n",
       "      <td>0.0</td>\n",
       "      <td>0.0</td>\n",
       "      <td>False</td>\n",
       "      <td>False</td>\n",
       "      <td>False</td>\n",
       "      <td>False</td>\n",
       "      <td>False</td>\n",
       "      <td>False</td>\n",
       "    </tr>\n",
       "    <tr>\n",
       "      <th>3</th>\n",
       "      <td>0</td>\n",
       "      <td>0</td>\n",
       "      <td>0</td>\n",
       "      <td>0</td>\n",
       "      <td>0</td>\n",
       "      <td>0</td>\n",
       "      <td>0</td>\n",
       "      <td>0</td>\n",
       "      <td>0</td>\n",
       "      <td>0</td>\n",
       "      <td>0</td>\n",
       "      <td>0</td>\n",
       "      <td>0</td>\n",
       "      <td>0</td>\n",
       "      <td>0</td>\n",
       "      <td>1</td>\n",
       "      <td>0</td>\n",
       "      <td>0</td>\n",
       "      <td>0</td>\n",
       "      <td>0</td>\n",
       "      <td>0</td>\n",
       "      <td>0</td>\n",
       "      <td>0</td>\n",
       "      <td>0</td>\n",
       "      <td>0</td>\n",
       "      <td>0</td>\n",
       "      <td>0</td>\n",
       "      <td>0</td>\n",
       "      <td>0</td>\n",
       "      <td>0</td>\n",
       "      <td>0</td>\n",
       "      <td>0</td>\n",
       "      <td>0</td>\n",
       "      <td>0</td>\n",
       "      <td>0</td>\n",
       "      <td>0</td>\n",
       "      <td>0</td>\n",
       "      <td>0</td>\n",
       "      <td>0</td>\n",
       "      <td>0</td>\n",
       "      <td>1</td>\n",
       "      <td>0</td>\n",
       "      <td>0</td>\n",
       "      <td>0</td>\n",
       "      <td>0</td>\n",
       "      <td>0</td>\n",
       "      <td>0</td>\n",
       "      <td>0</td>\n",
       "      <td>0</td>\n",
       "      <td>0</td>\n",
       "      <td>0</td>\n",
       "      <td>0</td>\n",
       "      <td>0</td>\n",
       "      <td>0</td>\n",
       "      <td>0</td>\n",
       "      <td>0</td>\n",
       "      <td>0</td>\n",
       "      <td>0</td>\n",
       "      <td>0</td>\n",
       "      <td>1</td>\n",
       "      <td>0</td>\n",
       "      <td>0</td>\n",
       "      <td>0</td>\n",
       "      <td>0</td>\n",
       "      <td>0</td>\n",
       "      <td>0</td>\n",
       "      <td>0</td>\n",
       "      <td>0</td>\n",
       "      <td>0</td>\n",
       "      <td>0</td>\n",
       "      <td>0</td>\n",
       "      <td>0</td>\n",
       "      <td>0</td>\n",
       "      <td>0</td>\n",
       "      <td>0</td>\n",
       "      <td>0</td>\n",
       "      <td>0</td>\n",
       "      <td>0</td>\n",
       "      <td>0</td>\n",
       "      <td>0</td>\n",
       "      <td>0</td>\n",
       "      <td>0</td>\n",
       "      <td>0</td>\n",
       "      <td>0</td>\n",
       "      <td>0</td>\n",
       "      <td>0</td>\n",
       "      <td>0</td>\n",
       "      <td>0</td>\n",
       "      <td>0</td>\n",
       "      <td>0</td>\n",
       "      <td>0</td>\n",
       "      <td>0</td>\n",
       "      <td>0</td>\n",
       "      <td>0</td>\n",
       "      <td>0</td>\n",
       "      <td>0</td>\n",
       "      <td>0</td>\n",
       "      <td>0</td>\n",
       "      <td>0</td>\n",
       "      <td>0</td>\n",
       "      <td>0</td>\n",
       "      <td>0</td>\n",
       "      <td>0</td>\n",
       "      <td>0</td>\n",
       "      <td>0</td>\n",
       "      <td>0</td>\n",
       "      <td>0</td>\n",
       "      <td>0</td>\n",
       "      <td>0</td>\n",
       "      <td>False</td>\n",
       "      <td>0</td>\n",
       "      <td>0</td>\n",
       "      <td>0</td>\n",
       "      <td>0</td>\n",
       "      <td>0</td>\n",
       "      <td>0</td>\n",
       "      <td>0</td>\n",
       "      <td>0</td>\n",
       "      <td>0</td>\n",
       "      <td>1</td>\n",
       "      <td>1</td>\n",
       "      <td>1</td>\n",
       "      <td>0</td>\n",
       "      <td>0</td>\n",
       "      <td>0</td>\n",
       "      <td>1</td>\n",
       "      <td>0</td>\n",
       "      <td>0</td>\n",
       "      <td>0.0</td>\n",
       "      <td>1</td>\n",
       "      <td>0</td>\n",
       "      <td>False</td>\n",
       "      <td>0.0</td>\n",
       "      <td>0.0</td>\n",
       "      <td>0.0</td>\n",
       "      <td>0.0</td>\n",
       "      <td>0.0</td>\n",
       "      <td>0.0</td>\n",
       "      <td>0.0</td>\n",
       "      <td>0.0</td>\n",
       "      <td>0.0</td>\n",
       "      <td>False</td>\n",
       "      <td>False</td>\n",
       "      <td>False</td>\n",
       "      <td>False</td>\n",
       "      <td>False</td>\n",
       "      <td>False</td>\n",
       "    </tr>\n",
       "    <tr>\n",
       "      <th>4</th>\n",
       "      <td>1</td>\n",
       "      <td>0</td>\n",
       "      <td>0</td>\n",
       "      <td>0</td>\n",
       "      <td>0</td>\n",
       "      <td>0</td>\n",
       "      <td>0</td>\n",
       "      <td>0</td>\n",
       "      <td>0</td>\n",
       "      <td>0</td>\n",
       "      <td>0</td>\n",
       "      <td>0</td>\n",
       "      <td>0</td>\n",
       "      <td>0</td>\n",
       "      <td>0</td>\n",
       "      <td>0</td>\n",
       "      <td>0</td>\n",
       "      <td>0</td>\n",
       "      <td>0</td>\n",
       "      <td>0</td>\n",
       "      <td>0</td>\n",
       "      <td>0</td>\n",
       "      <td>0</td>\n",
       "      <td>0</td>\n",
       "      <td>0</td>\n",
       "      <td>0</td>\n",
       "      <td>0</td>\n",
       "      <td>0</td>\n",
       "      <td>0</td>\n",
       "      <td>0</td>\n",
       "      <td>0</td>\n",
       "      <td>0</td>\n",
       "      <td>0</td>\n",
       "      <td>0</td>\n",
       "      <td>0</td>\n",
       "      <td>0</td>\n",
       "      <td>0</td>\n",
       "      <td>0</td>\n",
       "      <td>0</td>\n",
       "      <td>0</td>\n",
       "      <td>0</td>\n",
       "      <td>0</td>\n",
       "      <td>0</td>\n",
       "      <td>0</td>\n",
       "      <td>0</td>\n",
       "      <td>0</td>\n",
       "      <td>1</td>\n",
       "      <td>0</td>\n",
       "      <td>0</td>\n",
       "      <td>0</td>\n",
       "      <td>0</td>\n",
       "      <td>0</td>\n",
       "      <td>0</td>\n",
       "      <td>0</td>\n",
       "      <td>0</td>\n",
       "      <td>0</td>\n",
       "      <td>0</td>\n",
       "      <td>0</td>\n",
       "      <td>0</td>\n",
       "      <td>0</td>\n",
       "      <td>0</td>\n",
       "      <td>0</td>\n",
       "      <td>0</td>\n",
       "      <td>0</td>\n",
       "      <td>0</td>\n",
       "      <td>0</td>\n",
       "      <td>0</td>\n",
       "      <td>0</td>\n",
       "      <td>0</td>\n",
       "      <td>0</td>\n",
       "      <td>0</td>\n",
       "      <td>0</td>\n",
       "      <td>0</td>\n",
       "      <td>0</td>\n",
       "      <td>0</td>\n",
       "      <td>0</td>\n",
       "      <td>0</td>\n",
       "      <td>0</td>\n",
       "      <td>0</td>\n",
       "      <td>0</td>\n",
       "      <td>0</td>\n",
       "      <td>0</td>\n",
       "      <td>0</td>\n",
       "      <td>0</td>\n",
       "      <td>0</td>\n",
       "      <td>0</td>\n",
       "      <td>0</td>\n",
       "      <td>0</td>\n",
       "      <td>0</td>\n",
       "      <td>0</td>\n",
       "      <td>0</td>\n",
       "      <td>0</td>\n",
       "      <td>0</td>\n",
       "      <td>0</td>\n",
       "      <td>0</td>\n",
       "      <td>0</td>\n",
       "      <td>0</td>\n",
       "      <td>0</td>\n",
       "      <td>0</td>\n",
       "      <td>0</td>\n",
       "      <td>0</td>\n",
       "      <td>0</td>\n",
       "      <td>0</td>\n",
       "      <td>0</td>\n",
       "      <td>0</td>\n",
       "      <td>1</td>\n",
       "      <td>0</td>\n",
       "      <td>0</td>\n",
       "      <td>0</td>\n",
       "      <td>False</td>\n",
       "      <td>0</td>\n",
       "      <td>0</td>\n",
       "      <td>0</td>\n",
       "      <td>0</td>\n",
       "      <td>0</td>\n",
       "      <td>0</td>\n",
       "      <td>0</td>\n",
       "      <td>0</td>\n",
       "      <td>0</td>\n",
       "      <td>0</td>\n",
       "      <td>0</td>\n",
       "      <td>0</td>\n",
       "      <td>0</td>\n",
       "      <td>0</td>\n",
       "      <td>0</td>\n",
       "      <td>0</td>\n",
       "      <td>0</td>\n",
       "      <td>0</td>\n",
       "      <td>0.0</td>\n",
       "      <td>0</td>\n",
       "      <td>0</td>\n",
       "      <td>False</td>\n",
       "      <td>0.0</td>\n",
       "      <td>0.0</td>\n",
       "      <td>0.0</td>\n",
       "      <td>0.0</td>\n",
       "      <td>0.0</td>\n",
       "      <td>0.0</td>\n",
       "      <td>0.0</td>\n",
       "      <td>0.0</td>\n",
       "      <td>0.0</td>\n",
       "      <td>False</td>\n",
       "      <td>False</td>\n",
       "      <td>False</td>\n",
       "      <td>False</td>\n",
       "      <td>False</td>\n",
       "      <td>False</td>\n",
       "    </tr>\n",
       "  </tbody>\n",
       "</table>\n",
       "</div>"
      ],
      "text/plain": [
       "   Rating_Success  acai bowls  active life  african  arcades  asian fusion  \\\n",
       "0               1           0            0        0        0             0   \n",
       "1               0           0            0        0        0             0   \n",
       "2               0           0            0        0        0             0   \n",
       "3               0           0            0        0        0             0   \n",
       "4               1           0            0        0        0             0   \n",
       "\n",
       "   automotive  bagels  bakeries  barbeque  beer bar  beer gardens  \\\n",
       "0           0       0         1         0         0             0   \n",
       "1           0       0         0         0         0             0   \n",
       "2           0       0         0         0         0             0   \n",
       "3           0       0         0         0         0             0   \n",
       "4           0       0         0         0         0             0   \n",
       "\n",
       "   breakfast & brunch  bubble tea  buffets  burgers  cafes  cajun/creole  \\\n",
       "0                   0           1        0        0      0             0   \n",
       "1                   0           0        0        1      0             0   \n",
       "2                   0           0        0        0      0             0   \n",
       "3                   0           0        0        1      0             0   \n",
       "4                   0           0        0        0      0             0   \n",
       "\n",
       "   canadian (new)  caribbean  cheesesteaks  chicken shop  chicken wings  \\\n",
       "0               0          0             0             0              0   \n",
       "1               0          0             0             0              0   \n",
       "2               0          0             0             0              0   \n",
       "3               0          0             0             0              0   \n",
       "4               0          0             0             0              0   \n",
       "\n",
       "   chinese  cocktail bars  coffee & tea  coffee roasteries  comfort food  \\\n",
       "0        0              0             1                  0             0   \n",
       "1        0              0             0                  0             0   \n",
       "2        0              0             0                  0             0   \n",
       "3        0              0             0                  0             0   \n",
       "4        0              0             0                  0             0   \n",
       "\n",
       "   creperies  cuban  dance clubs  delis  desserts  dim sum  diners  dive bars  \\\n",
       "0          0      0            0      0         0        0       0          0   \n",
       "1          0      0            0      0         0        0       0          0   \n",
       "2          0      0            0      0         0        0       0          0   \n",
       "3          0      0            0      0         0        0       0          0   \n",
       "4          0      0            0      0         0        0       0          0   \n",
       "\n",
       "   donuts  ethnic food  falafel  farmers market  fast food  filipino  \\\n",
       "0       0            0        0               0          0         0   \n",
       "1       0            0        0               0          1         0   \n",
       "2       0            0        0               0          0         0   \n",
       "3       0            0        0               0          1         0   \n",
       "4       0            0        0               0          0         0   \n",
       "\n",
       "   fish & chips  food court  food delivery services  food stands  food trucks  \\\n",
       "0             0           0                       0            0            0   \n",
       "1             0           0                       0            0            0   \n",
       "2             0           0                       0            0            0   \n",
       "3             0           0                       0            0            0   \n",
       "4             0           0                       0            0            1   \n",
       "\n",
       "   french  fruits & veggies  gastropubs  german  gluten-free  greek  grocery  \\\n",
       "0       0                 0           0       0            0      0        0   \n",
       "1       0                 0           0       0            0      0        0   \n",
       "2       0                 0           0       0            0      1        0   \n",
       "3       0                 0           0       0            0      0        0   \n",
       "4       0                 0           0       0            0      0        0   \n",
       "\n",
       "   halal  health markets  hookah bars  hot dogs  hotels  \\\n",
       "0      0               0            0         0       0   \n",
       "1      0               0            0         0       0   \n",
       "2      0               0            0         0       0   \n",
       "3      0               0            0         0       0   \n",
       "4      0               0            0         0       0   \n",
       "\n",
       "   ice cream & frozen yogurt  imported food  indian  irish  irish pub  \\\n",
       "0                          0              0       0      0          0   \n",
       "1                          1              0       0      0          0   \n",
       "2                          0              0       0      0          0   \n",
       "3                          1              0       0      0          0   \n",
       "4                          0              0       0      0          0   \n",
       "\n",
       "   italian  jazz & blues  juice bars & smoothies  karaoke  korean  \\\n",
       "0        0             0                       0        0       0   \n",
       "1        0             0                       0        0       0   \n",
       "2        1             0                       0        0       0   \n",
       "3        0             0                       0        0       0   \n",
       "4        0             0                       0        0       0   \n",
       "\n",
       "   latin american  local flavor  lounges  meat shops  mediterranean  \\\n",
       "0               0             0        0           0              0   \n",
       "1               0             0        0           0              0   \n",
       "2               0             0        0           0              0   \n",
       "3               0             0        0           0              0   \n",
       "4               0             0        0           0              0   \n",
       "\n",
       "   middle eastern  modern european  new mexican cuisine  noodles  pakistani  \\\n",
       "0               0                0                    0        0          0   \n",
       "1               0                0                    0        0          0   \n",
       "2               0                0                    0        0          0   \n",
       "3               0                0                    0        0          0   \n",
       "4               0                0                    0        0          0   \n",
       "\n",
       "   party & event planning  pasta shops  pizza  pubs  ramen  salad  sandwiches  \\\n",
       "0                       0            0      0     0      0      0           0   \n",
       "1                       0            0      0     0      0      0           1   \n",
       "2                       0            0      0     1      0      0           0   \n",
       "3                       0            0      0     0      0      0           0   \n",
       "4                       0            0      0     0      0      0           0   \n",
       "\n",
       "   seafood  seafood markets  shopping  soul food  soup  southern  spanish  \\\n",
       "0        0                0         0          0     0         0        0   \n",
       "1        0                0         0          0     0         0        0   \n",
       "2        0                0         0          0     0         0        0   \n",
       "3        0                0         0          0     0         0        0   \n",
       "4        0                0         0          0     0         0        0   \n",
       "\n",
       "   sports bars  steakhouses  street vendors  szechuan  tapas bars  \\\n",
       "0            0            0               0         0           0   \n",
       "1            0            0               0         0           0   \n",
       "2            0            0               0         0           0   \n",
       "3            0            0               0         0           0   \n",
       "4            0            0               0         0           0   \n",
       "\n",
       "   tapas/small plates  tea rooms  tex-mex  thai  vegan  vegetarian  \\\n",
       "0                   0          0        0     0      0           0   \n",
       "1                   0          0        0     0      0           0   \n",
       "2                   0          0        0     0      0           0   \n",
       "3                   0          0        0     0      0           0   \n",
       "4                   0          0        0     0      0           0   \n",
       "\n",
       "   venues & event spaces  vietnamese  waffles  wine bars  wraps  \\\n",
       "0                      0           0        0          0      0   \n",
       "1                      0           0        0          0      0   \n",
       "2                      0           0        0          0      0   \n",
       "3                      0           0        0          0      0   \n",
       "4                      0           1        0          0      0   \n",
       "\n",
       "   American_cuisine  Bars_nightlife  Beer_wine_spirits  \\\n",
       "0             False               0                  0   \n",
       "1             False               0                  0   \n",
       "2              True               1                  0   \n",
       "3             False               0                  0   \n",
       "4             False               0                  0   \n",
       "\n",
       "   Caterers_event_planning  Specialty_food  Japanese  BrewPub  Hawaiian_poke  \\\n",
       "0                        0               0         0        0              0   \n",
       "1                        0               0         0        0              0   \n",
       "2                        0               0         0        0              0   \n",
       "3                        0               0         0        0              0   \n",
       "4                        0               0         0        0              0   \n",
       "\n",
       "   Mexican_tacos  WiFi  OutdoorSeating  GoodForKids  RestaurantsDelivery  \\\n",
       "0              0     1               0            0                    0   \n",
       "1              0     0               1            1                    1   \n",
       "2              0     1               1            1                    0   \n",
       "3              0     0               1            1                    1   \n",
       "4              0     0               0            0                    0   \n",
       "\n",
       "   RestaurantsReservations  Caters  RestaurantsGoodForGroups  \\\n",
       "0                        0       1                         0   \n",
       "1                        0       0                         1   \n",
       "2                        0       1                         1   \n",
       "3                        0       0                         0   \n",
       "4                        0       0                         0   \n",
       "\n",
       "   RestaurantsTakeOut  Alcohol  RestaurantsAttire  HappyHour  \\\n",
       "0                   1        0                  0        0.0   \n",
       "1                   1        0                  0        0.0   \n",
       "2                   1        1                  0        0.0   \n",
       "3                   1        0                  0        0.0   \n",
       "4                   0        0                  0        0.0   \n",
       "\n",
       "   WheelchairAccessible  BikeParking  ParkingAvailability  hipster  casual  \\\n",
       "0                     0            1                 True      0.0     0.0   \n",
       "1                     1            0                 True      0.0     0.0   \n",
       "2                     0            0                 True      0.0     0.0   \n",
       "3                     1            0                False      0.0     0.0   \n",
       "4                     0            0                False      0.0     0.0   \n",
       "\n",
       "   romantic  intimate  upscale  classy  divey  trendy  touristy  \\\n",
       "0       0.0       0.0      0.0     0.0    0.0     0.0       0.0   \n",
       "1       0.0       0.0      0.0     0.0    0.0     0.0       0.0   \n",
       "2       0.0       0.0      0.0     0.0    0.0     0.0       0.0   \n",
       "3       0.0       0.0      0.0     0.0    0.0     0.0       0.0   \n",
       "4       0.0       0.0      0.0     0.0    0.0     0.0       0.0   \n",
       "\n",
       "   NoiseLevel_Loud  NoiseLevel_Quiet  PriceRange_2  PriceRange_3  \\\n",
       "0            False             False         False         False   \n",
       "1            False             False         False         False   \n",
       "2            False             False         False         False   \n",
       "3            False             False         False         False   \n",
       "4            False             False         False         False   \n",
       "\n",
       "   PriceRange_4  PriceRange_None  \n",
       "0         False            False  \n",
       "1         False            False  \n",
       "2         False            False  \n",
       "3         False            False  \n",
       "4         False            False  "
      ]
     },
     "execution_count": 112,
     "metadata": {},
     "output_type": "execute_result"
    }
   ],
   "source": [
    "pd.set_option('display.max_columns', None)\n",
    "df_b.head()"
   ]
  },
  {
   "cell_type": "markdown",
   "id": "ab3a0059",
   "metadata": {},
   "source": [
    "# Duplicate-Information"
   ]
  },
  {
   "cell_type": "markdown",
   "id": "2c179527",
   "metadata": {},
   "source": [
    "Are there any columns that contain duplicate information? If so, we should remove the redundant columns.\n"
   ]
  },
  {
   "cell_type": "code",
   "execution_count": 113,
   "id": "813f2309",
   "metadata": {},
   "outputs": [],
   "source": [
    "df_b = df_b.reset_index(drop=True)\n"
   ]
  },
  {
   "cell_type": "code",
   "execution_count": 114,
   "id": "552dfb22",
   "metadata": {},
   "outputs": [
    {
     "data": {
      "text/plain": [
       "(51703, 147)"
      ]
     },
     "execution_count": 114,
     "metadata": {},
     "output_type": "execute_result"
    }
   ],
   "source": [
    "df_b.shape"
   ]
  },
  {
   "cell_type": "markdown",
   "id": "95d6f173",
   "metadata": {},
   "source": [
    "# Finding-Redundant-Columns"
   ]
  },
  {
   "cell_type": "code",
   "execution_count": 115,
   "id": "e8245794",
   "metadata": {},
   "outputs": [],
   "source": [
    "df_b.isna().sum()\n",
    "for col in df_b.columns:\n",
    "    if df_b[col].isna().sum() > 0 :\n",
    "        print (col, df_b[col].isna().sum())"
   ]
  },
  {
   "cell_type": "code",
   "execution_count": 116,
   "id": "ccd60ad3",
   "metadata": {
    "scrolled": true
   },
   "outputs": [
    {
     "name": "stdout",
     "output_type": "stream",
     "text": [
      "<class 'pandas.core.frame.DataFrame'>\n",
      "RangeIndex: 51703 entries, 0 to 51702\n",
      "Columns: 147 entries, Rating_Success to PriceRange_None\n",
      "dtypes: Int64(12), bool(8), float64(10), int64(117)\n",
      "memory usage: 55.8 MB\n"
     ]
    }
   ],
   "source": [
    "df_b.info()"
   ]
  },
  {
   "cell_type": "markdown",
   "id": "1ae88dbc",
   "metadata": {},
   "source": [
    "**There is no duplicated columns.**"
   ]
  },
  {
   "cell_type": "markdown",
   "id": "23058b3a",
   "metadata": {},
   "source": [
    "# Converting-binary-columns-to-uint8\n",
    "Converting to uint reduces memory usage and ensures optimal performance during modeling."
   ]
  },
  {
   "cell_type": "code",
   "execution_count": 117,
   "id": "53bc3105",
   "metadata": {
    "scrolled": true
   },
   "outputs": [
    {
     "name": "stdout",
     "output_type": "stream",
     "text": [
      "Rating_Success      uint8\n",
      "acai bowls          uint8\n",
      "active life         uint8\n",
      "african             uint8\n",
      "arcades             uint8\n",
      "                    ...  \n",
      "NoiseLevel_Quiet    uint8\n",
      "PriceRange_2        uint8\n",
      "PriceRange_3        uint8\n",
      "PriceRange_4        uint8\n",
      "PriceRange_None     uint8\n",
      "Length: 147, dtype: object\n"
     ]
    }
   ],
   "source": [
    "\n",
    "# Convert binary columns to uint8 data type\n",
    "df_b = df_b.astype('uint8')\n",
    "\n",
    "\n",
    "# Print the data types of the DataFrame to verify the conversion\n",
    "print(df_b.dtypes)\n"
   ]
  },
  {
   "cell_type": "markdown",
   "id": "21bba4d1",
   "metadata": {},
   "source": [
    "# Correlation-Analysis"
   ]
  },
  {
   "cell_type": "code",
   "execution_count": 118,
   "id": "150e1396",
   "metadata": {
    "scrolled": true
   },
   "outputs": [
    {
     "data": {
      "image/png": "[encoded data removed]",
      "text/plain": [
       "<Figure size 3000x700 with 1 Axes>"
      ]
     },
     "metadata": {},
     "output_type": "display_data"
    }
   ],
   "source": [
    "import matplotlib.pyplot as plt\n",
    "\n",
    "\n",
    "correlation = df_b.corrwith(df_b['Rating_Success'])\n",
    "correlation.drop('Rating_Success', inplace=True)  # Drop the target variable\n",
    "\n",
    "correlation.plot(kind='bar', figsize=(30, 7))\n",
    "plt.title('Correlation with Rating Success')\n",
    "plt.ylabel('Correlation Coefficient')\n",
    "plt.show()\n"
   ]
  },
  {
   "cell_type": "code",
   "execution_count": 119,
   "id": "e79fbeaa",
   "metadata": {
    "scrolled": false
   },
   "outputs": [
    {
     "name": "stdout",
     "output_type": "stream",
     "text": [
      "Variables ethnic food and Specialty_food have a correlation > 0.50\n"
     ]
    }
   ],
   "source": [
    "\n",
    "correlation_matrix = df_b.corr()\n",
    "\n",
    "# Get pairs of variables with correlation > 0.50\n",
    "highly_correlated_pairs = []\n",
    "\n",
    "for i, row in enumerate(correlation_matrix.index):\n",
    "    for j, col in enumerate(correlation_matrix.columns):\n",
    "        # Check for correlation above 0.50 and ensure we're not looking at the diagonal\n",
    "        if correlation_matrix.iloc[i, j] > 0.50 and i != j:\n",
    "            # Since the matrix is symmetric, let's only store one of (i,j) or (j,i)\n",
    "            if (col, row) not in highly_correlated_pairs:\n",
    "                highly_correlated_pairs.append((row, col))\n",
    "\n",
    "# Print the results\n",
    "for pair in highly_correlated_pairs:\n",
    "    print(f\"Variables {pair[0]} and {pair[1]} have a correlation > 0.50\")\n",
    "    \n",
    "\n"
   ]
  },
  {
   "cell_type": "code",
   "execution_count": 120,
   "id": "b544d7a6",
   "metadata": {},
   "outputs": [],
   "source": [
    "df_b['Specialty_food'] = df_b['Specialty_food'] | df_b['ethnic food']\n",
    "df_b['Indian'] = df_b['indian'] | df_b['pakistani']\n",
    "df_b['Caterers_event_planning'] = df_b['venues & event spaces'] | df_b['Caterers_event_planning']\n",
    "\n",
    "df_b.drop(columns=['Specialty_food','ethnic food','pakistani',\n",
    "                   'indian','venues & event spaces','Caterers_event_planning'],inplace=True)\n",
    "\n",
    "df_b.reset_index(drop=True, inplace=True)"
   ]
  },
  {
   "cell_type": "markdown",
   "id": "86923aa0",
   "metadata": {},
   "source": [
    "## Analysis of Correlation with `Rating_Success`\n",
    "\n",
    "We've explored how various features in our dataset correlate with `Rating_Success`. The objective was to identify factors that have the most significant positive and negative influence on rating success.\n",
    "\n",
    "### Top 8 Negative Correlations with `Rating_Success`:\n",
    "\n",
    "1. **Fast Food**: -0.2364\n",
    "    - Indicates that establishments categorized as fast food tend to have lower rating success.\n",
    "    \n",
    "2. **Burgers**: -0.1414\n",
    "    - Burger joints or places primarily selling burgers seem to have a negative impact on rating success.\n",
    "    \n",
    "3. **NoiseLevel_Loud**: -0.1068\n",
    "    - Loud noise levels tend to be associated with lower rating success, possibly pointing towards customer preference for quieter dining experiences.\n",
    "    \n",
    "4. **GoodForKids**: -0.1068\n",
    "    - Surprisingly, places deemed good for kids have a negative correlation, suggesting that other factors might be impacting the rating.\n",
    "    \n",
    "5. **Chicken Wings**: -0.0993\n",
    "    - Establishments focusing on chicken wings have a slightly negative correlation with rating success.\n",
    "    \n",
    "6. **RestaurantsGoodForGroups**: -0.0887\n",
    "    - Places good for groups are negatively correlated, which might imply larger group settings don't always equate to higher ratings.\n",
    "    \n",
    "7. **RestaurantsDelivery**: -0.0826\n",
    "    - Restaurants offering delivery services have a slight negative correlation with rating success.\n",
    "    \n",
    "8. **Sports Bars**: -0.0791\n",
    "    - Sports bars seem to have a minor negative impact on rating success.\n",
    "\n",
    "### Top 8 Positive Correlations with `Rating_Success`:\n",
    "\n",
    "1. **WheelchairAccessible**: 0.2166\n",
    "    - Accessibility plays a significant role in rating success, emphasizing the importance of catering to all potential customers.\n",
    "    \n",
    "2. **Classy**: 0.1355\n",
    "    - Establishments perceived as \"classy\" have a positive influence on rating success, indicating a preference for more upscale dining experiences.\n",
    "    \n",
    "3. **Cafes**: 0.1122\n",
    "    - Cafes positively correlate with rating success, possibly due to their casual and relaxed environment.\n",
    "    \n",
    "4. **BikeParking**: 0.1069\n",
    "    - Bike parking facilities can positively influence rating success, indicating an eco-friendly or health-conscious clientele base.\n",
    "    \n",
    "5. **Trendy**: 0.1064\n",
    "    - Trendy places are favored, suggesting that modern and fashionable establishments resonate more with customers.\n",
    "    \n",
    "6. **Caters**: 0.1022\n",
    "    - Catering services seem to enhance rating success, indicating that additional services or offerings can be beneficial.\n",
    "    \n",
    "7. **Food Trucks**: 0.0998\n",
    "    - The unique experience and diverse food options from food trucks might be leading to their positive correlation with rating success.\n",
    "    \n",
    "8. **Vegan**: 0.0990\n",
    "    - Vegan options or establishments cater to a growing demand and reflect positively on rating success.\n",
    "\n",
    "### Conclusion:\n",
    "\n",
    "The above correlations offer a snapshot of the features that significantly impact rating success. While correlation does not imply causation, these insights can guide further investigations and strategies to improve rating success.\n"
   ]
  },
  {
   "cell_type": "markdown",
   "id": "3e6ff29d",
   "metadata": {},
   "source": [
    "## Importance of Understanding Correlation Before Modeling\n",
    "\n",
    "Before delving into the intricate world of modeling, it's pivotal to have a snapshot of the correlations between various features and our target variable, `Rating_Success`. Here's why:\n",
    "\n",
    "1. **Feature Importance**: Correlation gives us an initial sense of which features might be most influential in predicting our target variable. This can guide feature selection and help prioritize which variables to include in our models.\n",
    "\n",
    "2. **Multicollinearity**: By observing the inter-correlations between predictors, we can detect multicollinearity, which can distort model results and lead to overfitting. Recognizing this early on can save significant modeling efforts down the line.\n",
    "\n",
    "3. **Domain Understanding**: Having a grasp on how different features correlate with the target variable aids in understanding the domain better. For instance, knowing that `WheelchairAccessible` has a positive correlation with `Rating_Success` emphasizes the significance of inclusivity in the restaurant industry.\n",
    "\n",
    "4. **Hypothesis Generation**: Observing correlations can help generate hypotheses. For example, if we notice a negative correlation between `NoiseLevel_Loud` and `Rating_Success`, we might hypothesize that customers prefer quieter dining experiences.\n",
    "\n",
    "5. **Data Sanity Check**: Sometimes, the correlations can also serve as a sanity check. If we expect a feature to be positively correlated with the target based on domain knowledge but find a strong negative correlation instead, it might be worth diving deeper into the data or the data collection process.\n",
    "\n",
    "6. **Model Interpretability**: Understanding the relationships between features and the target variable can also aid in interpreting model results and explaining them to stakeholders.\n",
    "\n",
    "In conclusion, while correlation does not imply causation, having a snapshot of the correlations in our dataset provides invaluable insights and sets the stage for more effective and informed modeling.\n"
   ]
  },
  {
   "cell_type": "code",
   "execution_count": 122,
   "id": "b5f37178",
   "metadata": {
    "scrolled": false
   },
   "outputs": [
    {
     "data": {
      "image/png": "[encoded data removed]",
      "text/plain": [
       "<Figure size 1500x700 with 1 Axes>"
      ]
     },
     "metadata": {},
     "output_type": "display_data"
    }
   ],
   "source": [
    "# Step 1: Sort the correlations\n",
    "sorted_corr = correlation.sort_values()\n",
    "\n",
    "# Step 2: Get the top 8 and bottom 8 correlations\n",
    "top_8 = sorted_corr.tail(8)\n",
    "bottom_8 = sorted_corr.head(8)\n",
    "\n",
    "# Combine the top and bottom correlations\n",
    "combined_corr = pd.concat([bottom_8, top_8])\n",
    "\n",
    "# Step 3: Visualize the correlations\n",
    "combined_corr.plot(kind='bar', figsize=(15, 7))\n",
    "plt.title('Top and Bottom 8 Correlations with Rating Success')\n",
    "plt.ylabel('Correlation Coefficient')\n",
    "plt.xlabel('Features')\n",
    "plt.show()\n"
   ]
  },
  {
   "cell_type": "markdown",
   "id": "e9f12ae1",
   "metadata": {},
   "source": [
    "# Saving-the-cleaned-data"
   ]
  },
  {
   "cell_type": "code",
   "execution_count": null,
   "id": "585ed72f",
   "metadata": {},
   "outputs": [],
   "source": [
    "df_b.to_csv('data/cleaned_data.csv', index=False)\n"
   ]
  }
 ],
 "metadata": {
  "kernelspec": {
   "display_name": "Python 3 (ipykernel)",
   "language": "python",
   "name": "python3"
  },
  "language_info": {
   "codemirror_mode": {
    "name": "ipython",
    "version": 3
   },
   "file_extension": ".py",
   "mimetype": "text/x-python",
   "name": "python",
   "nbconvert_exporter": "python",
   "pygments_lexer": "ipython3",
   "version": "3.11.3"
  }
 },
 "nbformat": 4,
 "nbformat_minor": 5
}
